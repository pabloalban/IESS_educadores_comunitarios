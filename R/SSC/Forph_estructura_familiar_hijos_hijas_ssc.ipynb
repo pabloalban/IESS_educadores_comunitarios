{
 "cells": [
  {
   "cell_type": "code",
   "execution_count": 61,
   "id": "b0ab4e44",
   "metadata": {
    "ExecuteTime": {
     "end_time": "2022-05-11T20:32:10.490520Z",
     "start_time": "2022-05-11T20:32:09.653435Z"
    }
   },
   "outputs": [],
   "source": [
    "#Librerías necesarias\n",
    "import pandas as pd\n",
    "import numpy as np\n",
    "import seaborn as sns\n",
    "import matplotlib.pyplot as ppl\n",
    "import scipy\n",
    "%matplotlib inline\n",
    "from patsy import dmatrix\n",
    "import statsmodels.api as sm\n",
    "\n",
    "import rpy2.robjects as robjects\n",
    "# pip install rpy2"
   ]
  },
  {
   "cell_type": "code",
   "execution_count": 62,
   "id": "b99c27cb",
   "metadata": {
    "ExecuteTime": {
     "end_time": "2022-05-11T20:32:10.788024Z",
     "start_time": "2022-05-11T20:32:10.708060Z"
    }
   },
   "outputs": [
    {
     "name": "stdout",
     "output_type": "stream",
     "text": [
      "The rpy2.ipython extension is already loaded. To reload it, use:\n",
      "  %reload_ext rpy2.ipython\n"
     ]
    }
   ],
   "source": [
    "#Librerias de R\n",
    "%load_ext rpy2.ipython \n",
    "#%reload_ext rpy2.ipython"
   ]
  },
  {
   "cell_type": "code",
   "execution_count": 63,
   "id": "07270a29",
   "metadata": {
    "ExecuteTime": {
     "end_time": "2022-05-11T20:32:14.110806Z",
     "start_time": "2022-05-11T20:32:11.900097Z"
    }
   },
   "outputs": [
    {
     "name": "stdout",
     "output_type": "stream",
     "text": [
      "NULL\n"
     ]
    }
   ],
   "source": [
    "%%R\n",
    "#install.packages(\"ggplot2\", repos='http://cran.us.r-project.org', quiet=TRUE)\n",
    "#install.packages(\"splines\", repos='http://cran.us.r-project.org', quiet=TRUE)\n",
    "#install.packages(\"stats\", repos='http://cran.us.r-project.org', quiet=TRUE)\n",
    "#install.packages(\"data.table\", repos='http://cran.us.r-project.org', quiet=TRUE)"
   ]
  },
  {
   "cell_type": "code",
   "execution_count": 64,
   "id": "9c96f8b4",
   "metadata": {
    "ExecuteTime": {
     "end_time": "2022-05-11T20:32:14.391319Z",
     "start_time": "2022-05-11T20:32:14.132002Z"
    }
   },
   "outputs": [],
   "source": [
    "%%R\n",
    "library('ggplot2')\n",
    "library('splines')\n",
    "library('stats')\n",
    "library('data.table')"
   ]
  },
  {
   "cell_type": "code",
   "execution_count": null,
   "id": "92f1e1df",
   "metadata": {
    "ExecuteTime": {
     "end_time": "2022-05-03T21:57:56.311643Z",
     "start_time": "2022-05-03T21:57:56.218685Z"
    }
   },
   "outputs": [],
   "source": [
    "#bd=pd.read_csv('Y:\\IESS_2020\\Data\\SSC\\FWid_ACT_SSC.txt',sep=';', header=0, \n",
    "#               dtype={'CEDULA_CONYUGE':'object','SEXO_CONY':'object', 'FECHA_MUERTE_CONY':'object',\n",
    "#                      'FECHA_NACIMIENTO_CONY':'object'}) #existen 405.769 cedulas distintas en 2020"
   ]
  },
  {
   "cell_type": "code",
   "execution_count": null,
   "id": "14f6a2ea",
   "metadata": {
    "ExecuteTime": {
     "end_time": "2022-05-03T21:57:56.405594Z",
     "start_time": "2022-05-03T21:57:56.313633Z"
    }
   },
   "outputs": [],
   "source": [
    "#bd.groupby(['SEXO_AFI', 'EDAD_AFI'])['CEDULA_AFI'].count().unstack(0)"
   ]
  },
  {
   "cell_type": "code",
   "execution_count": 65,
   "id": "babd5197",
   "metadata": {
    "ExecuteTime": {
     "end_time": "2022-05-11T20:32:28.412999Z",
     "start_time": "2022-05-11T20:32:15.237906Z"
    }
   },
   "outputs": [
    {
     "data": {
      "text/html": [
       "<div>\n",
       "<style scoped>\n",
       "    .dataframe tbody tr th:only-of-type {\n",
       "        vertical-align: middle;\n",
       "    }\n",
       "\n",
       "    .dataframe tbody tr th {\n",
       "        vertical-align: top;\n",
       "    }\n",
       "\n",
       "    .dataframe thead th {\n",
       "        text-align: right;\n",
       "    }\n",
       "</style>\n",
       "<table border=\"1\" class=\"dataframe\">\n",
       "  <thead>\n",
       "    <tr style=\"text-align: right;\">\n",
       "      <th></th>\n",
       "      <th>ANIO</th>\n",
       "      <th>CED_AFILIADO</th>\n",
       "      <th>FECHA_NAC_AFI</th>\n",
       "      <th>SEXO_AFI</th>\n",
       "      <th>EDAD_AFI</th>\n",
       "      <th>FECHA_MUERTE_AFI</th>\n",
       "      <th>CED_HIJO</th>\n",
       "      <th>CEDULA_PADRE</th>\n",
       "      <th>CEDULA_MADRE</th>\n",
       "      <th>FECHA_NAC_HIJ</th>\n",
       "      <th>SEXO_HIJ</th>\n",
       "      <th>EDAD_HIJO</th>\n",
       "    </tr>\n",
       "  </thead>\n",
       "  <tbody>\n",
       "    <tr>\n",
       "      <th>0</th>\n",
       "      <td>2012</td>\n",
       "      <td>1305074393</td>\n",
       "      <td>19/06/1951</td>\n",
       "      <td>M</td>\n",
       "      <td>61</td>\n",
       "      <td>NaN</td>\n",
       "      <td>1309280426</td>\n",
       "      <td>1303308025</td>\n",
       "      <td>1305074393</td>\n",
       "      <td>04/04/1994</td>\n",
       "      <td>H</td>\n",
       "      <td>18.0</td>\n",
       "    </tr>\n",
       "    <tr>\n",
       "      <th>1</th>\n",
       "      <td>2012</td>\n",
       "      <td>1301727465</td>\n",
       "      <td>01/02/1954</td>\n",
       "      <td>M</td>\n",
       "      <td>58</td>\n",
       "      <td>NaN</td>\n",
       "      <td>0918004920</td>\n",
       "      <td>1301727473</td>\n",
       "      <td>1301727465</td>\n",
       "      <td>28/12/1994</td>\n",
       "      <td>H</td>\n",
       "      <td>18.0</td>\n",
       "    </tr>\n",
       "    <tr>\n",
       "      <th>2</th>\n",
       "      <td>2013</td>\n",
       "      <td>1304286840</td>\n",
       "      <td>21/05/1961</td>\n",
       "      <td>M</td>\n",
       "      <td>52</td>\n",
       "      <td>NaN</td>\n",
       "      <td>1309630976</td>\n",
       "      <td>1303877615</td>\n",
       "      <td>1304286840</td>\n",
       "      <td>11/04/1995</td>\n",
       "      <td>M</td>\n",
       "      <td>18.0</td>\n",
       "    </tr>\n",
       "    <tr>\n",
       "      <th>3</th>\n",
       "      <td>2012</td>\n",
       "      <td>0502437262</td>\n",
       "      <td>20/06/1977</td>\n",
       "      <td>M</td>\n",
       "      <td>35</td>\n",
       "      <td>NaN</td>\n",
       "      <td>0502448046</td>\n",
       "      <td>1710208685</td>\n",
       "      <td>0502437262</td>\n",
       "      <td>08/12/1994</td>\n",
       "      <td>H</td>\n",
       "      <td>18.0</td>\n",
       "    </tr>\n",
       "    <tr>\n",
       "      <th>4</th>\n",
       "      <td>2012</td>\n",
       "      <td>0602097958</td>\n",
       "      <td>30/03/1965</td>\n",
       "      <td>M</td>\n",
       "      <td>47</td>\n",
       "      <td>NaN</td>\n",
       "      <td>0603380775</td>\n",
       "      <td>0602050767</td>\n",
       "      <td>0602097958</td>\n",
       "      <td>30/11/1995</td>\n",
       "      <td>H</td>\n",
       "      <td>17.0</td>\n",
       "    </tr>\n",
       "    <tr>\n",
       "      <th>...</th>\n",
       "      <td>...</td>\n",
       "      <td>...</td>\n",
       "      <td>...</td>\n",
       "      <td>...</td>\n",
       "      <td>...</td>\n",
       "      <td>...</td>\n",
       "      <td>...</td>\n",
       "      <td>...</td>\n",
       "      <td>...</td>\n",
       "      <td>...</td>\n",
       "      <td>...</td>\n",
       "      <td>...</td>\n",
       "    </tr>\n",
       "    <tr>\n",
       "      <th>4776329</th>\n",
       "      <td>2020</td>\n",
       "      <td>1304318403</td>\n",
       "      <td>17/05/1963</td>\n",
       "      <td>H</td>\n",
       "      <td>57</td>\n",
       "      <td>NaN</td>\n",
       "      <td>NaN</td>\n",
       "      <td>NaN</td>\n",
       "      <td>NaN</td>\n",
       "      <td>NaN</td>\n",
       "      <td>NaN</td>\n",
       "      <td>NaN</td>\n",
       "    </tr>\n",
       "    <tr>\n",
       "      <th>4776330</th>\n",
       "      <td>2018</td>\n",
       "      <td>0901961219</td>\n",
       "      <td>21/01/1945</td>\n",
       "      <td>H</td>\n",
       "      <td>73</td>\n",
       "      <td>NaN</td>\n",
       "      <td>NaN</td>\n",
       "      <td>NaN</td>\n",
       "      <td>NaN</td>\n",
       "      <td>NaN</td>\n",
       "      <td>NaN</td>\n",
       "      <td>NaN</td>\n",
       "    </tr>\n",
       "    <tr>\n",
       "      <th>4776331</th>\n",
       "      <td>2019</td>\n",
       "      <td>0103122594</td>\n",
       "      <td>26/03/1970</td>\n",
       "      <td>H</td>\n",
       "      <td>49</td>\n",
       "      <td>NaN</td>\n",
       "      <td>NaN</td>\n",
       "      <td>NaN</td>\n",
       "      <td>NaN</td>\n",
       "      <td>NaN</td>\n",
       "      <td>NaN</td>\n",
       "      <td>NaN</td>\n",
       "    </tr>\n",
       "    <tr>\n",
       "      <th>4776332</th>\n",
       "      <td>2020</td>\n",
       "      <td>0901700682</td>\n",
       "      <td>25/03/1939</td>\n",
       "      <td>H</td>\n",
       "      <td>81</td>\n",
       "      <td>NaN</td>\n",
       "      <td>NaN</td>\n",
       "      <td>NaN</td>\n",
       "      <td>NaN</td>\n",
       "      <td>NaN</td>\n",
       "      <td>NaN</td>\n",
       "      <td>NaN</td>\n",
       "    </tr>\n",
       "    <tr>\n",
       "      <th>4776333</th>\n",
       "      <td>2016</td>\n",
       "      <td>0913776175</td>\n",
       "      <td>30/07/1970</td>\n",
       "      <td>M</td>\n",
       "      <td>46</td>\n",
       "      <td>NaN</td>\n",
       "      <td>NaN</td>\n",
       "      <td>NaN</td>\n",
       "      <td>NaN</td>\n",
       "      <td>NaN</td>\n",
       "      <td>NaN</td>\n",
       "      <td>NaN</td>\n",
       "    </tr>\n",
       "  </tbody>\n",
       "</table>\n",
       "<p>4776334 rows × 12 columns</p>\n",
       "</div>"
      ],
      "text/plain": [
       "         ANIO CED_AFILIADO FECHA_NAC_AFI SEXO_AFI  EDAD_AFI FECHA_MUERTE_AFI  \\\n",
       "0        2012   1305074393    19/06/1951        M        61              NaN   \n",
       "1        2012   1301727465    01/02/1954        M        58              NaN   \n",
       "2        2013   1304286840    21/05/1961        M        52              NaN   \n",
       "3        2012   0502437262    20/06/1977        M        35              NaN   \n",
       "4        2012   0602097958    30/03/1965        M        47              NaN   \n",
       "...       ...          ...           ...      ...       ...              ...   \n",
       "4776329  2020   1304318403    17/05/1963        H        57              NaN   \n",
       "4776330  2018   0901961219    21/01/1945        H        73              NaN   \n",
       "4776331  2019   0103122594    26/03/1970        H        49              NaN   \n",
       "4776332  2020   0901700682    25/03/1939        H        81              NaN   \n",
       "4776333  2016   0913776175    30/07/1970        M        46              NaN   \n",
       "\n",
       "           CED_HIJO CEDULA_PADRE CEDULA_MADRE FECHA_NAC_HIJ SEXO_HIJ  \\\n",
       "0        1309280426   1303308025   1305074393    04/04/1994        H   \n",
       "1        0918004920   1301727473   1301727465    28/12/1994        H   \n",
       "2        1309630976   1303877615   1304286840    11/04/1995        M   \n",
       "3        0502448046   1710208685   0502437262    08/12/1994        H   \n",
       "4        0603380775   0602050767   0602097958    30/11/1995        H   \n",
       "...             ...          ...          ...           ...      ...   \n",
       "4776329         NaN          NaN          NaN           NaN      NaN   \n",
       "4776330         NaN          NaN          NaN           NaN      NaN   \n",
       "4776331         NaN          NaN          NaN           NaN      NaN   \n",
       "4776332         NaN          NaN          NaN           NaN      NaN   \n",
       "4776333         NaN          NaN          NaN           NaN      NaN   \n",
       "\n",
       "         EDAD_HIJO  \n",
       "0             18.0  \n",
       "1             18.0  \n",
       "2             18.0  \n",
       "3             18.0  \n",
       "4             17.0  \n",
       "...            ...  \n",
       "4776329        NaN  \n",
       "4776330        NaN  \n",
       "4776331        NaN  \n",
       "4776332        NaN  \n",
       "4776333        NaN  \n",
       "\n",
       "[4776334 rows x 12 columns]"
      ]
     },
     "execution_count": 65,
     "metadata": {},
     "output_type": "execute_result"
    }
   ],
   "source": [
    "hijos=pd.read_csv('Y:\\IESS_2020\\Data\\SSC\\FWORPH_ACT_SSC.txt',sep=';', header=0,\n",
    "                 dtype={'FECHA_NAC_HIJ':'object','SEXO_HIJ':'object', 'CED_AFILIADO':'object', 'CED_HIJO':'object',\n",
    "                        'CEDULA_PADRE':'object', 'CEDULA_MADRE':'object'}) #existen 223824 cedulas distinctas de hijos en 2020\n",
    "hijos"
   ]
  },
  {
   "cell_type": "code",
   "execution_count": null,
   "id": "d4441fb4",
   "metadata": {
    "ExecuteTime": {
     "end_time": "2022-05-03T21:58:02.922942Z",
     "start_time": "2022-05-03T21:58:02.908938Z"
    }
   },
   "outputs": [],
   "source": [
    "#hijos=hijos[ hijos['EDAD_HIJO'].isnull()==False ]"
   ]
  },
  {
   "cell_type": "code",
   "execution_count": 67,
   "id": "8e664914",
   "metadata": {
    "ExecuteTime": {
     "end_time": "2022-05-11T20:32:44.684377Z",
     "start_time": "2022-05-11T20:32:44.551632Z"
    }
   },
   "outputs": [],
   "source": [
    "# Hijos solo para el año 2020\n",
    "hijos=hijos[hijos['ANIO']==2015]"
   ]
  },
  {
   "cell_type": "code",
   "execution_count": 68,
   "id": "12beb123",
   "metadata": {
    "ExecuteTime": {
     "end_time": "2022-05-11T20:32:46.642191Z",
     "start_time": "2022-05-11T20:32:46.448428Z"
    }
   },
   "outputs": [
    {
     "data": {
      "text/html": [
       "<div>\n",
       "<style scoped>\n",
       "    .dataframe tbody tr th:only-of-type {\n",
       "        vertical-align: middle;\n",
       "    }\n",
       "\n",
       "    .dataframe tbody tr th {\n",
       "        vertical-align: top;\n",
       "    }\n",
       "\n",
       "    .dataframe thead th {\n",
       "        text-align: right;\n",
       "    }\n",
       "</style>\n",
       "<table border=\"1\" class=\"dataframe\">\n",
       "  <thead>\n",
       "    <tr style=\"text-align: right;\">\n",
       "      <th></th>\n",
       "      <th>ANIO</th>\n",
       "      <th>CED_AFILIADO</th>\n",
       "      <th>FECHA_NAC_AFI</th>\n",
       "      <th>SEXO_AFI</th>\n",
       "      <th>EDAD_AFI</th>\n",
       "      <th>FECHA_MUERTE_AFI</th>\n",
       "      <th>CED_HIJO</th>\n",
       "      <th>CEDULA_PADRE</th>\n",
       "      <th>CEDULA_MADRE</th>\n",
       "      <th>FECHA_NAC_HIJ</th>\n",
       "      <th>SEXO_HIJ</th>\n",
       "      <th>EDAD_HIJO</th>\n",
       "    </tr>\n",
       "  </thead>\n",
       "  <tbody>\n",
       "    <tr>\n",
       "      <th>14</th>\n",
       "      <td>2015</td>\n",
       "      <td>1304002437</td>\n",
       "      <td>14/10/1961</td>\n",
       "      <td>M</td>\n",
       "      <td>54</td>\n",
       "      <td>NaN</td>\n",
       "      <td>1309942975</td>\n",
       "      <td>1302027105</td>\n",
       "      <td>1304002437</td>\n",
       "      <td>12/04/1997</td>\n",
       "      <td>H</td>\n",
       "      <td>18.0</td>\n",
       "    </tr>\n",
       "    <tr>\n",
       "      <th>16</th>\n",
       "      <td>2015</td>\n",
       "      <td>1308407640</td>\n",
       "      <td>25/09/1974</td>\n",
       "      <td>M</td>\n",
       "      <td>41</td>\n",
       "      <td>NaN</td>\n",
       "      <td>1309943411</td>\n",
       "      <td>1306210707</td>\n",
       "      <td>1308407640</td>\n",
       "      <td>16/04/1997</td>\n",
       "      <td>M</td>\n",
       "      <td>18.0</td>\n",
       "    </tr>\n",
       "    <tr>\n",
       "      <th>32</th>\n",
       "      <td>2015</td>\n",
       "      <td>1305725184</td>\n",
       "      <td>04/10/1967</td>\n",
       "      <td>M</td>\n",
       "      <td>48</td>\n",
       "      <td>NaN</td>\n",
       "      <td>1310338676</td>\n",
       "      <td>1307110302</td>\n",
       "      <td>1305725184</td>\n",
       "      <td>14/07/1997</td>\n",
       "      <td>H</td>\n",
       "      <td>18.0</td>\n",
       "    </tr>\n",
       "    <tr>\n",
       "      <th>45</th>\n",
       "      <td>2015</td>\n",
       "      <td>1717256885</td>\n",
       "      <td>25/01/1980</td>\n",
       "      <td>M</td>\n",
       "      <td>35</td>\n",
       "      <td>NaN</td>\n",
       "      <td>1717256844</td>\n",
       "      <td>0801988239</td>\n",
       "      <td>1717256885</td>\n",
       "      <td>12/06/1997</td>\n",
       "      <td>M</td>\n",
       "      <td>18.0</td>\n",
       "    </tr>\n",
       "    <tr>\n",
       "      <th>58</th>\n",
       "      <td>2015</td>\n",
       "      <td>0915907232</td>\n",
       "      <td>04/06/1976</td>\n",
       "      <td>M</td>\n",
       "      <td>39</td>\n",
       "      <td>NaN</td>\n",
       "      <td>0921465324</td>\n",
       "      <td>0907375026</td>\n",
       "      <td>0915907232</td>\n",
       "      <td>09/09/1997</td>\n",
       "      <td>H</td>\n",
       "      <td>18.0</td>\n",
       "    </tr>\n",
       "    <tr>\n",
       "      <th>...</th>\n",
       "      <td>...</td>\n",
       "      <td>...</td>\n",
       "      <td>...</td>\n",
       "      <td>...</td>\n",
       "      <td>...</td>\n",
       "      <td>...</td>\n",
       "      <td>...</td>\n",
       "      <td>...</td>\n",
       "      <td>...</td>\n",
       "      <td>...</td>\n",
       "      <td>...</td>\n",
       "      <td>...</td>\n",
       "    </tr>\n",
       "    <tr>\n",
       "      <th>4776312</th>\n",
       "      <td>2015</td>\n",
       "      <td>0100649292</td>\n",
       "      <td>19/05/1948</td>\n",
       "      <td>H</td>\n",
       "      <td>67</td>\n",
       "      <td>NaN</td>\n",
       "      <td>NaN</td>\n",
       "      <td>NaN</td>\n",
       "      <td>NaN</td>\n",
       "      <td>NaN</td>\n",
       "      <td>NaN</td>\n",
       "      <td>NaN</td>\n",
       "    </tr>\n",
       "    <tr>\n",
       "      <th>4776319</th>\n",
       "      <td>2015</td>\n",
       "      <td>0911007565</td>\n",
       "      <td>23/02/1966</td>\n",
       "      <td>M</td>\n",
       "      <td>49</td>\n",
       "      <td>NaN</td>\n",
       "      <td>NaN</td>\n",
       "      <td>NaN</td>\n",
       "      <td>NaN</td>\n",
       "      <td>NaN</td>\n",
       "      <td>NaN</td>\n",
       "      <td>NaN</td>\n",
       "    </tr>\n",
       "    <tr>\n",
       "      <th>4776320</th>\n",
       "      <td>2015</td>\n",
       "      <td>0902176494</td>\n",
       "      <td>16/11/1940</td>\n",
       "      <td>H</td>\n",
       "      <td>75</td>\n",
       "      <td>NaN</td>\n",
       "      <td>NaN</td>\n",
       "      <td>NaN</td>\n",
       "      <td>NaN</td>\n",
       "      <td>NaN</td>\n",
       "      <td>NaN</td>\n",
       "      <td>NaN</td>\n",
       "    </tr>\n",
       "    <tr>\n",
       "      <th>4776325</th>\n",
       "      <td>2015</td>\n",
       "      <td>1301742704</td>\n",
       "      <td>29/08/1943</td>\n",
       "      <td>H</td>\n",
       "      <td>72</td>\n",
       "      <td>NaN</td>\n",
       "      <td>NaN</td>\n",
       "      <td>NaN</td>\n",
       "      <td>NaN</td>\n",
       "      <td>NaN</td>\n",
       "      <td>NaN</td>\n",
       "      <td>NaN</td>\n",
       "    </tr>\n",
       "    <tr>\n",
       "      <th>4776328</th>\n",
       "      <td>2015</td>\n",
       "      <td>1306150382</td>\n",
       "      <td>15/04/1964</td>\n",
       "      <td>H</td>\n",
       "      <td>51</td>\n",
       "      <td>NaN</td>\n",
       "      <td>NaN</td>\n",
       "      <td>NaN</td>\n",
       "      <td>NaN</td>\n",
       "      <td>NaN</td>\n",
       "      <td>NaN</td>\n",
       "      <td>NaN</td>\n",
       "    </tr>\n",
       "  </tbody>\n",
       "</table>\n",
       "<p>529608 rows × 12 columns</p>\n",
       "</div>"
      ],
      "text/plain": [
       "         ANIO CED_AFILIADO FECHA_NAC_AFI SEXO_AFI  EDAD_AFI FECHA_MUERTE_AFI  \\\n",
       "14       2015   1304002437    14/10/1961        M        54              NaN   \n",
       "16       2015   1308407640    25/09/1974        M        41              NaN   \n",
       "32       2015   1305725184    04/10/1967        M        48              NaN   \n",
       "45       2015   1717256885    25/01/1980        M        35              NaN   \n",
       "58       2015   0915907232    04/06/1976        M        39              NaN   \n",
       "...       ...          ...           ...      ...       ...              ...   \n",
       "4776312  2015   0100649292    19/05/1948        H        67              NaN   \n",
       "4776319  2015   0911007565    23/02/1966        M        49              NaN   \n",
       "4776320  2015   0902176494    16/11/1940        H        75              NaN   \n",
       "4776325  2015   1301742704    29/08/1943        H        72              NaN   \n",
       "4776328  2015   1306150382    15/04/1964        H        51              NaN   \n",
       "\n",
       "           CED_HIJO CEDULA_PADRE CEDULA_MADRE FECHA_NAC_HIJ SEXO_HIJ  \\\n",
       "14       1309942975   1302027105   1304002437    12/04/1997        H   \n",
       "16       1309943411   1306210707   1308407640    16/04/1997        M   \n",
       "32       1310338676   1307110302   1305725184    14/07/1997        H   \n",
       "45       1717256844   0801988239   1717256885    12/06/1997        M   \n",
       "58       0921465324   0907375026   0915907232    09/09/1997        H   \n",
       "...             ...          ...          ...           ...      ...   \n",
       "4776312         NaN          NaN          NaN           NaN      NaN   \n",
       "4776319         NaN          NaN          NaN           NaN      NaN   \n",
       "4776320         NaN          NaN          NaN           NaN      NaN   \n",
       "4776325         NaN          NaN          NaN           NaN      NaN   \n",
       "4776328         NaN          NaN          NaN           NaN      NaN   \n",
       "\n",
       "         EDAD_HIJO  \n",
       "14            18.0  \n",
       "16            18.0  \n",
       "32            18.0  \n",
       "45            18.0  \n",
       "58            18.0  \n",
       "...            ...  \n",
       "4776312        NaN  \n",
       "4776319        NaN  \n",
       "4776320        NaN  \n",
       "4776325        NaN  \n",
       "4776328        NaN  \n",
       "\n",
       "[529608 rows x 12 columns]"
      ]
     },
     "execution_count": 68,
     "metadata": {},
     "output_type": "execute_result"
    }
   ],
   "source": [
    "# Se elimina los registros de afiliados muertos en el año de observación\n",
    "hijos=hijos[hijos['FECHA_MUERTE_AFI'].isnull()==True]\n",
    "hijos\n",
    "#hijos['CED_AFILIADO'].nunique()"
   ]
  },
  {
   "cell_type": "code",
   "execution_count": null,
   "id": "9505a7fa",
   "metadata": {
    "ExecuteTime": {
     "end_time": "2022-05-03T21:58:04.617979Z",
     "start_time": "2022-05-03T21:58:03.985332Z"
    }
   },
   "outputs": [],
   "source": [
    "hijos[hijos['SEXO_AFI']=='H']\n",
    "#hijos[hijos['SEXO_AFI']=='H'][hijos['EDAD_HIJO'].isnull()==True]"
   ]
  },
  {
   "cell_type": "code",
   "execution_count": null,
   "id": "cac3c4be",
   "metadata": {
    "ExecuteTime": {
     "end_time": "2022-05-03T22:00:26.134151Z",
     "start_time": "2022-05-03T22:00:25.410557Z"
    }
   },
   "outputs": [],
   "source": [
    "hijos['CED_AFILIADO'].nunique() #Número de jefes de familia  (2020/405.769)\n",
    "#hijos['CED_HIJO'].nunique()   #Número de hijos (2020/219.859)"
   ]
  },
  {
   "cell_type": "code",
   "execution_count": 69,
   "id": "a58098bf",
   "metadata": {
    "ExecuteTime": {
     "end_time": "2022-05-11T20:32:53.056487Z",
     "start_time": "2022-05-11T20:32:52.953416Z"
    }
   },
   "outputs": [
    {
     "data": {
      "text/html": [
       "<div>\n",
       "<style scoped>\n",
       "    .dataframe tbody tr th:only-of-type {\n",
       "        vertical-align: middle;\n",
       "    }\n",
       "\n",
       "    .dataframe tbody tr th {\n",
       "        vertical-align: top;\n",
       "    }\n",
       "\n",
       "    .dataframe thead th {\n",
       "        text-align: right;\n",
       "    }\n",
       "</style>\n",
       "<table border=\"1\" class=\"dataframe\">\n",
       "  <thead>\n",
       "    <tr style=\"text-align: right;\">\n",
       "      <th></th>\n",
       "      <th>ANIO</th>\n",
       "      <th>CED_AFILIADO</th>\n",
       "      <th>FECHA_NAC_AFI</th>\n",
       "      <th>SEXO_AFI</th>\n",
       "      <th>EDAD_AFI</th>\n",
       "      <th>FECHA_MUERTE_AFI</th>\n",
       "      <th>CED_HIJO</th>\n",
       "      <th>CEDULA_PADRE</th>\n",
       "      <th>CEDULA_MADRE</th>\n",
       "      <th>FECHA_NAC_HIJ</th>\n",
       "      <th>SEXO_HIJ</th>\n",
       "      <th>EDAD_HIJO</th>\n",
       "      <th>peso</th>\n",
       "    </tr>\n",
       "  </thead>\n",
       "  <tbody>\n",
       "    <tr>\n",
       "      <th>14</th>\n",
       "      <td>2015</td>\n",
       "      <td>1304002437</td>\n",
       "      <td>14/10/1961</td>\n",
       "      <td>M</td>\n",
       "      <td>54</td>\n",
       "      <td>NaN</td>\n",
       "      <td>1309942975</td>\n",
       "      <td>1302027105</td>\n",
       "      <td>1304002437</td>\n",
       "      <td>12/04/1997</td>\n",
       "      <td>H</td>\n",
       "      <td>18.0</td>\n",
       "      <td>1</td>\n",
       "    </tr>\n",
       "    <tr>\n",
       "      <th>16</th>\n",
       "      <td>2015</td>\n",
       "      <td>1308407640</td>\n",
       "      <td>25/09/1974</td>\n",
       "      <td>M</td>\n",
       "      <td>41</td>\n",
       "      <td>NaN</td>\n",
       "      <td>1309943411</td>\n",
       "      <td>1306210707</td>\n",
       "      <td>1308407640</td>\n",
       "      <td>16/04/1997</td>\n",
       "      <td>M</td>\n",
       "      <td>18.0</td>\n",
       "      <td>1</td>\n",
       "    </tr>\n",
       "    <tr>\n",
       "      <th>32</th>\n",
       "      <td>2015</td>\n",
       "      <td>1305725184</td>\n",
       "      <td>04/10/1967</td>\n",
       "      <td>M</td>\n",
       "      <td>48</td>\n",
       "      <td>NaN</td>\n",
       "      <td>1310338676</td>\n",
       "      <td>1307110302</td>\n",
       "      <td>1305725184</td>\n",
       "      <td>14/07/1997</td>\n",
       "      <td>H</td>\n",
       "      <td>18.0</td>\n",
       "      <td>1</td>\n",
       "    </tr>\n",
       "    <tr>\n",
       "      <th>45</th>\n",
       "      <td>2015</td>\n",
       "      <td>1717256885</td>\n",
       "      <td>25/01/1980</td>\n",
       "      <td>M</td>\n",
       "      <td>35</td>\n",
       "      <td>NaN</td>\n",
       "      <td>1717256844</td>\n",
       "      <td>0801988239</td>\n",
       "      <td>1717256885</td>\n",
       "      <td>12/06/1997</td>\n",
       "      <td>M</td>\n",
       "      <td>18.0</td>\n",
       "      <td>1</td>\n",
       "    </tr>\n",
       "    <tr>\n",
       "      <th>58</th>\n",
       "      <td>2015</td>\n",
       "      <td>0915907232</td>\n",
       "      <td>04/06/1976</td>\n",
       "      <td>M</td>\n",
       "      <td>39</td>\n",
       "      <td>NaN</td>\n",
       "      <td>0921465324</td>\n",
       "      <td>0907375026</td>\n",
       "      <td>0915907232</td>\n",
       "      <td>09/09/1997</td>\n",
       "      <td>H</td>\n",
       "      <td>18.0</td>\n",
       "      <td>1</td>\n",
       "    </tr>\n",
       "    <tr>\n",
       "      <th>...</th>\n",
       "      <td>...</td>\n",
       "      <td>...</td>\n",
       "      <td>...</td>\n",
       "      <td>...</td>\n",
       "      <td>...</td>\n",
       "      <td>...</td>\n",
       "      <td>...</td>\n",
       "      <td>...</td>\n",
       "      <td>...</td>\n",
       "      <td>...</td>\n",
       "      <td>...</td>\n",
       "      <td>...</td>\n",
       "      <td>...</td>\n",
       "    </tr>\n",
       "    <tr>\n",
       "      <th>4776312</th>\n",
       "      <td>2015</td>\n",
       "      <td>0100649292</td>\n",
       "      <td>19/05/1948</td>\n",
       "      <td>H</td>\n",
       "      <td>67</td>\n",
       "      <td>NaN</td>\n",
       "      <td>NaN</td>\n",
       "      <td>NaN</td>\n",
       "      <td>NaN</td>\n",
       "      <td>NaN</td>\n",
       "      <td>NaN</td>\n",
       "      <td>NaN</td>\n",
       "      <td>1</td>\n",
       "    </tr>\n",
       "    <tr>\n",
       "      <th>4776319</th>\n",
       "      <td>2015</td>\n",
       "      <td>0911007565</td>\n",
       "      <td>23/02/1966</td>\n",
       "      <td>M</td>\n",
       "      <td>49</td>\n",
       "      <td>NaN</td>\n",
       "      <td>NaN</td>\n",
       "      <td>NaN</td>\n",
       "      <td>NaN</td>\n",
       "      <td>NaN</td>\n",
       "      <td>NaN</td>\n",
       "      <td>NaN</td>\n",
       "      <td>1</td>\n",
       "    </tr>\n",
       "    <tr>\n",
       "      <th>4776320</th>\n",
       "      <td>2015</td>\n",
       "      <td>0902176494</td>\n",
       "      <td>16/11/1940</td>\n",
       "      <td>H</td>\n",
       "      <td>75</td>\n",
       "      <td>NaN</td>\n",
       "      <td>NaN</td>\n",
       "      <td>NaN</td>\n",
       "      <td>NaN</td>\n",
       "      <td>NaN</td>\n",
       "      <td>NaN</td>\n",
       "      <td>NaN</td>\n",
       "      <td>1</td>\n",
       "    </tr>\n",
       "    <tr>\n",
       "      <th>4776325</th>\n",
       "      <td>2015</td>\n",
       "      <td>1301742704</td>\n",
       "      <td>29/08/1943</td>\n",
       "      <td>H</td>\n",
       "      <td>72</td>\n",
       "      <td>NaN</td>\n",
       "      <td>NaN</td>\n",
       "      <td>NaN</td>\n",
       "      <td>NaN</td>\n",
       "      <td>NaN</td>\n",
       "      <td>NaN</td>\n",
       "      <td>NaN</td>\n",
       "      <td>1</td>\n",
       "    </tr>\n",
       "    <tr>\n",
       "      <th>4776328</th>\n",
       "      <td>2015</td>\n",
       "      <td>1306150382</td>\n",
       "      <td>15/04/1964</td>\n",
       "      <td>H</td>\n",
       "      <td>51</td>\n",
       "      <td>NaN</td>\n",
       "      <td>NaN</td>\n",
       "      <td>NaN</td>\n",
       "      <td>NaN</td>\n",
       "      <td>NaN</td>\n",
       "      <td>NaN</td>\n",
       "      <td>NaN</td>\n",
       "      <td>1</td>\n",
       "    </tr>\n",
       "  </tbody>\n",
       "</table>\n",
       "<p>529608 rows × 13 columns</p>\n",
       "</div>"
      ],
      "text/plain": [
       "         ANIO CED_AFILIADO FECHA_NAC_AFI SEXO_AFI  EDAD_AFI FECHA_MUERTE_AFI  \\\n",
       "14       2015   1304002437    14/10/1961        M        54              NaN   \n",
       "16       2015   1308407640    25/09/1974        M        41              NaN   \n",
       "32       2015   1305725184    04/10/1967        M        48              NaN   \n",
       "45       2015   1717256885    25/01/1980        M        35              NaN   \n",
       "58       2015   0915907232    04/06/1976        M        39              NaN   \n",
       "...       ...          ...           ...      ...       ...              ...   \n",
       "4776312  2015   0100649292    19/05/1948        H        67              NaN   \n",
       "4776319  2015   0911007565    23/02/1966        M        49              NaN   \n",
       "4776320  2015   0902176494    16/11/1940        H        75              NaN   \n",
       "4776325  2015   1301742704    29/08/1943        H        72              NaN   \n",
       "4776328  2015   1306150382    15/04/1964        H        51              NaN   \n",
       "\n",
       "           CED_HIJO CEDULA_PADRE CEDULA_MADRE FECHA_NAC_HIJ SEXO_HIJ  \\\n",
       "14       1309942975   1302027105   1304002437    12/04/1997        H   \n",
       "16       1309943411   1306210707   1308407640    16/04/1997        M   \n",
       "32       1310338676   1307110302   1305725184    14/07/1997        H   \n",
       "45       1717256844   0801988239   1717256885    12/06/1997        M   \n",
       "58       0921465324   0907375026   0915907232    09/09/1997        H   \n",
       "...             ...          ...          ...           ...      ...   \n",
       "4776312         NaN          NaN          NaN           NaN      NaN   \n",
       "4776319         NaN          NaN          NaN           NaN      NaN   \n",
       "4776320         NaN          NaN          NaN           NaN      NaN   \n",
       "4776325         NaN          NaN          NaN           NaN      NaN   \n",
       "4776328         NaN          NaN          NaN           NaN      NaN   \n",
       "\n",
       "         EDAD_HIJO  peso  \n",
       "14            18.0     1  \n",
       "16            18.0     1  \n",
       "32            18.0     1  \n",
       "45            18.0     1  \n",
       "58            18.0     1  \n",
       "...            ...   ...  \n",
       "4776312        NaN     1  \n",
       "4776319        NaN     1  \n",
       "4776320        NaN     1  \n",
       "4776325        NaN     1  \n",
       "4776328        NaN     1  \n",
       "\n",
       "[529608 rows x 13 columns]"
      ]
     },
     "execution_count": 69,
     "metadata": {},
     "output_type": "execute_result"
    }
   ],
   "source": [
    "hijos['peso']=1\n",
    "hijos"
   ]
  },
  {
   "cell_type": "code",
   "execution_count": 70,
   "id": "ded88f73",
   "metadata": {
    "ExecuteTime": {
     "end_time": "2022-05-11T20:32:58.306103Z",
     "start_time": "2022-05-11T20:32:55.416909Z"
    },
    "code_folding": [],
    "scrolled": true
   },
   "outputs": [
    {
     "data": {
      "text/html": [
       "<div>\n",
       "<style scoped>\n",
       "    .dataframe tbody tr th:only-of-type {\n",
       "        vertical-align: middle;\n",
       "    }\n",
       "\n",
       "    .dataframe tbody tr th {\n",
       "        vertical-align: top;\n",
       "    }\n",
       "\n",
       "    .dataframe thead th {\n",
       "        text-align: right;\n",
       "    }\n",
       "</style>\n",
       "<table border=\"1\" class=\"dataframe\">\n",
       "  <thead>\n",
       "    <tr style=\"text-align: right;\">\n",
       "      <th></th>\n",
       "      <th>ANIO</th>\n",
       "      <th>CED_AFILIADO</th>\n",
       "      <th>FECHA_NAC_AFI</th>\n",
       "      <th>SEXO_AFI</th>\n",
       "      <th>EDAD_AFI</th>\n",
       "      <th>FECHA_MUERTE_AFI</th>\n",
       "      <th>CED_HIJO</th>\n",
       "      <th>CEDULA_PADRE</th>\n",
       "      <th>CEDULA_MADRE</th>\n",
       "      <th>FECHA_NAC_HIJ</th>\n",
       "      <th>SEXO_HIJ</th>\n",
       "      <th>EDAD_HIJO</th>\n",
       "      <th>peso</th>\n",
       "      <th>padre</th>\n",
       "      <th>madre</th>\n",
       "    </tr>\n",
       "  </thead>\n",
       "  <tbody>\n",
       "    <tr>\n",
       "      <th>14</th>\n",
       "      <td>2015</td>\n",
       "      <td>1304002437</td>\n",
       "      <td>14/10/1961</td>\n",
       "      <td>M</td>\n",
       "      <td>54</td>\n",
       "      <td>NaN</td>\n",
       "      <td>1309942975</td>\n",
       "      <td>1302027105</td>\n",
       "      <td>1304002437</td>\n",
       "      <td>12/04/1997</td>\n",
       "      <td>H</td>\n",
       "      <td>18.0</td>\n",
       "      <td>1</td>\n",
       "      <td>NaN</td>\n",
       "      <td>54.0</td>\n",
       "    </tr>\n",
       "    <tr>\n",
       "      <th>16</th>\n",
       "      <td>2015</td>\n",
       "      <td>1308407640</td>\n",
       "      <td>25/09/1974</td>\n",
       "      <td>M</td>\n",
       "      <td>41</td>\n",
       "      <td>NaN</td>\n",
       "      <td>1309943411</td>\n",
       "      <td>1306210707</td>\n",
       "      <td>1308407640</td>\n",
       "      <td>16/04/1997</td>\n",
       "      <td>M</td>\n",
       "      <td>18.0</td>\n",
       "      <td>1</td>\n",
       "      <td>NaN</td>\n",
       "      <td>41.0</td>\n",
       "    </tr>\n",
       "    <tr>\n",
       "      <th>32</th>\n",
       "      <td>2015</td>\n",
       "      <td>1305725184</td>\n",
       "      <td>04/10/1967</td>\n",
       "      <td>M</td>\n",
       "      <td>48</td>\n",
       "      <td>NaN</td>\n",
       "      <td>1310338676</td>\n",
       "      <td>1307110302</td>\n",
       "      <td>1305725184</td>\n",
       "      <td>14/07/1997</td>\n",
       "      <td>H</td>\n",
       "      <td>18.0</td>\n",
       "      <td>1</td>\n",
       "      <td>NaN</td>\n",
       "      <td>48.0</td>\n",
       "    </tr>\n",
       "    <tr>\n",
       "      <th>45</th>\n",
       "      <td>2015</td>\n",
       "      <td>1717256885</td>\n",
       "      <td>25/01/1980</td>\n",
       "      <td>M</td>\n",
       "      <td>35</td>\n",
       "      <td>NaN</td>\n",
       "      <td>1717256844</td>\n",
       "      <td>0801988239</td>\n",
       "      <td>1717256885</td>\n",
       "      <td>12/06/1997</td>\n",
       "      <td>M</td>\n",
       "      <td>18.0</td>\n",
       "      <td>1</td>\n",
       "      <td>NaN</td>\n",
       "      <td>35.0</td>\n",
       "    </tr>\n",
       "    <tr>\n",
       "      <th>58</th>\n",
       "      <td>2015</td>\n",
       "      <td>0915907232</td>\n",
       "      <td>04/06/1976</td>\n",
       "      <td>M</td>\n",
       "      <td>39</td>\n",
       "      <td>NaN</td>\n",
       "      <td>0921465324</td>\n",
       "      <td>0907375026</td>\n",
       "      <td>0915907232</td>\n",
       "      <td>09/09/1997</td>\n",
       "      <td>H</td>\n",
       "      <td>18.0</td>\n",
       "      <td>1</td>\n",
       "      <td>NaN</td>\n",
       "      <td>39.0</td>\n",
       "    </tr>\n",
       "    <tr>\n",
       "      <th>...</th>\n",
       "      <td>...</td>\n",
       "      <td>...</td>\n",
       "      <td>...</td>\n",
       "      <td>...</td>\n",
       "      <td>...</td>\n",
       "      <td>...</td>\n",
       "      <td>...</td>\n",
       "      <td>...</td>\n",
       "      <td>...</td>\n",
       "      <td>...</td>\n",
       "      <td>...</td>\n",
       "      <td>...</td>\n",
       "      <td>...</td>\n",
       "      <td>...</td>\n",
       "      <td>...</td>\n",
       "    </tr>\n",
       "    <tr>\n",
       "      <th>4776312</th>\n",
       "      <td>2015</td>\n",
       "      <td>0100649292</td>\n",
       "      <td>19/05/1948</td>\n",
       "      <td>H</td>\n",
       "      <td>67</td>\n",
       "      <td>NaN</td>\n",
       "      <td>NaN</td>\n",
       "      <td>NaN</td>\n",
       "      <td>NaN</td>\n",
       "      <td>NaN</td>\n",
       "      <td>NaN</td>\n",
       "      <td>NaN</td>\n",
       "      <td>1</td>\n",
       "      <td>NaN</td>\n",
       "      <td>NaN</td>\n",
       "    </tr>\n",
       "    <tr>\n",
       "      <th>4776319</th>\n",
       "      <td>2015</td>\n",
       "      <td>0911007565</td>\n",
       "      <td>23/02/1966</td>\n",
       "      <td>M</td>\n",
       "      <td>49</td>\n",
       "      <td>NaN</td>\n",
       "      <td>NaN</td>\n",
       "      <td>NaN</td>\n",
       "      <td>NaN</td>\n",
       "      <td>NaN</td>\n",
       "      <td>NaN</td>\n",
       "      <td>NaN</td>\n",
       "      <td>1</td>\n",
       "      <td>NaN</td>\n",
       "      <td>NaN</td>\n",
       "    </tr>\n",
       "    <tr>\n",
       "      <th>4776320</th>\n",
       "      <td>2015</td>\n",
       "      <td>0902176494</td>\n",
       "      <td>16/11/1940</td>\n",
       "      <td>H</td>\n",
       "      <td>75</td>\n",
       "      <td>NaN</td>\n",
       "      <td>NaN</td>\n",
       "      <td>NaN</td>\n",
       "      <td>NaN</td>\n",
       "      <td>NaN</td>\n",
       "      <td>NaN</td>\n",
       "      <td>NaN</td>\n",
       "      <td>1</td>\n",
       "      <td>NaN</td>\n",
       "      <td>NaN</td>\n",
       "    </tr>\n",
       "    <tr>\n",
       "      <th>4776325</th>\n",
       "      <td>2015</td>\n",
       "      <td>1301742704</td>\n",
       "      <td>29/08/1943</td>\n",
       "      <td>H</td>\n",
       "      <td>72</td>\n",
       "      <td>NaN</td>\n",
       "      <td>NaN</td>\n",
       "      <td>NaN</td>\n",
       "      <td>NaN</td>\n",
       "      <td>NaN</td>\n",
       "      <td>NaN</td>\n",
       "      <td>NaN</td>\n",
       "      <td>1</td>\n",
       "      <td>NaN</td>\n",
       "      <td>NaN</td>\n",
       "    </tr>\n",
       "    <tr>\n",
       "      <th>4776328</th>\n",
       "      <td>2015</td>\n",
       "      <td>1306150382</td>\n",
       "      <td>15/04/1964</td>\n",
       "      <td>H</td>\n",
       "      <td>51</td>\n",
       "      <td>NaN</td>\n",
       "      <td>NaN</td>\n",
       "      <td>NaN</td>\n",
       "      <td>NaN</td>\n",
       "      <td>NaN</td>\n",
       "      <td>NaN</td>\n",
       "      <td>NaN</td>\n",
       "      <td>1</td>\n",
       "      <td>NaN</td>\n",
       "      <td>NaN</td>\n",
       "    </tr>\n",
       "  </tbody>\n",
       "</table>\n",
       "<p>529608 rows × 15 columns</p>\n",
       "</div>"
      ],
      "text/plain": [
       "         ANIO CED_AFILIADO FECHA_NAC_AFI SEXO_AFI  EDAD_AFI FECHA_MUERTE_AFI  \\\n",
       "14       2015   1304002437    14/10/1961        M        54              NaN   \n",
       "16       2015   1308407640    25/09/1974        M        41              NaN   \n",
       "32       2015   1305725184    04/10/1967        M        48              NaN   \n",
       "45       2015   1717256885    25/01/1980        M        35              NaN   \n",
       "58       2015   0915907232    04/06/1976        M        39              NaN   \n",
       "...       ...          ...           ...      ...       ...              ...   \n",
       "4776312  2015   0100649292    19/05/1948        H        67              NaN   \n",
       "4776319  2015   0911007565    23/02/1966        M        49              NaN   \n",
       "4776320  2015   0902176494    16/11/1940        H        75              NaN   \n",
       "4776325  2015   1301742704    29/08/1943        H        72              NaN   \n",
       "4776328  2015   1306150382    15/04/1964        H        51              NaN   \n",
       "\n",
       "           CED_HIJO CEDULA_PADRE CEDULA_MADRE FECHA_NAC_HIJ SEXO_HIJ  \\\n",
       "14       1309942975   1302027105   1304002437    12/04/1997        H   \n",
       "16       1309943411   1306210707   1308407640    16/04/1997        M   \n",
       "32       1310338676   1307110302   1305725184    14/07/1997        H   \n",
       "45       1717256844   0801988239   1717256885    12/06/1997        M   \n",
       "58       0921465324   0907375026   0915907232    09/09/1997        H   \n",
       "...             ...          ...          ...           ...      ...   \n",
       "4776312         NaN          NaN          NaN           NaN      NaN   \n",
       "4776319         NaN          NaN          NaN           NaN      NaN   \n",
       "4776320         NaN          NaN          NaN           NaN      NaN   \n",
       "4776325         NaN          NaN          NaN           NaN      NaN   \n",
       "4776328         NaN          NaN          NaN           NaN      NaN   \n",
       "\n",
       "         EDAD_HIJO  peso  padre  madre  \n",
       "14            18.0     1    NaN   54.0  \n",
       "16            18.0     1    NaN   41.0  \n",
       "32            18.0     1    NaN   48.0  \n",
       "45            18.0     1    NaN   35.0  \n",
       "58            18.0     1    NaN   39.0  \n",
       "...            ...   ...    ...    ...  \n",
       "4776312        NaN     1    NaN    NaN  \n",
       "4776319        NaN     1    NaN    NaN  \n",
       "4776320        NaN     1    NaN    NaN  \n",
       "4776325        NaN     1    NaN    NaN  \n",
       "4776328        NaN     1    NaN    NaN  \n",
       "\n",
       "[529608 rows x 15 columns]"
      ]
     },
     "execution_count": 70,
     "metadata": {},
     "output_type": "execute_result"
    }
   ],
   "source": [
    "hijos['padre']=np.nan\n",
    "hijos['madre']=np.nan\n",
    "for i in range(2012,2021):\n",
    "    dict_f=hijos[ (hijos['SEXO_AFI']=='H') & ( hijos['ANIO']==i)].set_index('CEDULA_PADRE')['EDAD_AFI'].to_dict()\n",
    "    hijos.loc[ (hijos['ANIO']==i) & (hijos['SEXO_AFI']=='H'), 'padre']=hijos[ (hijos['SEXO_AFI']=='H') & (hijos['ANIO']==i)]['CED_AFILIADO'].map(dict_f)\n",
    "    dict_m=hijos[ (hijos['SEXO_AFI']=='M') & ( hijos['ANIO']==i)].set_index('CEDULA_MADRE')['EDAD_AFI'].to_dict()\n",
    "    hijos.loc[ (hijos['ANIO']==i) & (hijos['SEXO_AFI']=='M'), 'madre']=hijos[ (hijos['SEXO_AFI']=='M') & (hijos['ANIO']==i)]['CED_AFILIADO'].map(dict_m)\n",
    "\n",
    "hijos"
   ]
  },
  {
   "cell_type": "code",
   "execution_count": 71,
   "id": "a5ac9a67",
   "metadata": {
    "ExecuteTime": {
     "end_time": "2022-05-11T20:33:00.864039Z",
     "start_time": "2022-05-11T20:33:00.444588Z"
    }
   },
   "outputs": [
    {
     "name": "stderr",
     "output_type": "stream",
     "text": [
      "C:\\Users\\CRISTI~1.GUA\\AppData\\Local\\Temp/ipykernel_8636/3961900794.py:2: UserWarning: Boolean Series key will be reindexed to match DataFrame index.\n",
      "  hijos[hijos['CED_HIJO'].isnull()==False][hijos['SEXO_AFI']=='H'][hijos['padre'].isnull()==True] # 243 registros\n"
     ]
    },
    {
     "data": {
      "text/html": [
       "<div>\n",
       "<style scoped>\n",
       "    .dataframe tbody tr th:only-of-type {\n",
       "        vertical-align: middle;\n",
       "    }\n",
       "\n",
       "    .dataframe tbody tr th {\n",
       "        vertical-align: top;\n",
       "    }\n",
       "\n",
       "    .dataframe thead th {\n",
       "        text-align: right;\n",
       "    }\n",
       "</style>\n",
       "<table border=\"1\" class=\"dataframe\">\n",
       "  <thead>\n",
       "    <tr style=\"text-align: right;\">\n",
       "      <th></th>\n",
       "      <th>ANIO</th>\n",
       "      <th>CED_AFILIADO</th>\n",
       "      <th>FECHA_NAC_AFI</th>\n",
       "      <th>SEXO_AFI</th>\n",
       "      <th>EDAD_AFI</th>\n",
       "      <th>FECHA_MUERTE_AFI</th>\n",
       "      <th>CED_HIJO</th>\n",
       "      <th>CEDULA_PADRE</th>\n",
       "      <th>CEDULA_MADRE</th>\n",
       "      <th>FECHA_NAC_HIJ</th>\n",
       "      <th>SEXO_HIJ</th>\n",
       "      <th>EDAD_HIJO</th>\n",
       "      <th>peso</th>\n",
       "      <th>padre</th>\n",
       "      <th>madre</th>\n",
       "    </tr>\n",
       "  </thead>\n",
       "  <tbody>\n",
       "    <tr>\n",
       "      <th>49025</th>\n",
       "      <td>2015</td>\n",
       "      <td>1304509514</td>\n",
       "      <td>29/05/1962</td>\n",
       "      <td>H</td>\n",
       "      <td>53</td>\n",
       "      <td>NaN</td>\n",
       "      <td>0950289264</td>\n",
       "      <td>1205833039</td>\n",
       "      <td>1304509514</td>\n",
       "      <td>14/07/2009</td>\n",
       "      <td>H</td>\n",
       "      <td>6.0</td>\n",
       "      <td>1</td>\n",
       "      <td>NaN</td>\n",
       "      <td>NaN</td>\n",
       "    </tr>\n",
       "    <tr>\n",
       "      <th>54169</th>\n",
       "      <td>2015</td>\n",
       "      <td>1203184450</td>\n",
       "      <td>09/10/1972</td>\n",
       "      <td>H</td>\n",
       "      <td>43</td>\n",
       "      <td>NaN</td>\n",
       "      <td>1207699701</td>\n",
       "      <td>1202230361</td>\n",
       "      <td>1203184450</td>\n",
       "      <td>10/05/2000</td>\n",
       "      <td>H</td>\n",
       "      <td>15.0</td>\n",
       "      <td>1</td>\n",
       "      <td>NaN</td>\n",
       "      <td>NaN</td>\n",
       "    </tr>\n",
       "    <tr>\n",
       "      <th>104884</th>\n",
       "      <td>2015</td>\n",
       "      <td>0201221686</td>\n",
       "      <td>22/04/1969</td>\n",
       "      <td>H</td>\n",
       "      <td>46</td>\n",
       "      <td>NaN</td>\n",
       "      <td>1650065533</td>\n",
       "      <td>1600373292</td>\n",
       "      <td>0201221686</td>\n",
       "      <td>06/05/2011</td>\n",
       "      <td>H</td>\n",
       "      <td>4.0</td>\n",
       "      <td>1</td>\n",
       "      <td>NaN</td>\n",
       "      <td>NaN</td>\n",
       "    </tr>\n",
       "    <tr>\n",
       "      <th>110826</th>\n",
       "      <td>2015</td>\n",
       "      <td>1102015912</td>\n",
       "      <td>03/01/1959</td>\n",
       "      <td>H</td>\n",
       "      <td>56</td>\n",
       "      <td>NaN</td>\n",
       "      <td>0750606972</td>\n",
       "      <td>0301991188</td>\n",
       "      <td>1102015912</td>\n",
       "      <td>17/04/2013</td>\n",
       "      <td>M</td>\n",
       "      <td>2.0</td>\n",
       "      <td>1</td>\n",
       "      <td>NaN</td>\n",
       "      <td>NaN</td>\n",
       "    </tr>\n",
       "    <tr>\n",
       "      <th>123001</th>\n",
       "      <td>2015</td>\n",
       "      <td>0917683930</td>\n",
       "      <td>01/07/1978</td>\n",
       "      <td>H</td>\n",
       "      <td>37</td>\n",
       "      <td>NaN</td>\n",
       "      <td>0957527864</td>\n",
       "      <td>0801570060</td>\n",
       "      <td>0917683930</td>\n",
       "      <td>28/12/2007</td>\n",
       "      <td>M</td>\n",
       "      <td>8.0</td>\n",
       "      <td>1</td>\n",
       "      <td>NaN</td>\n",
       "      <td>NaN</td>\n",
       "    </tr>\n",
       "    <tr>\n",
       "      <th>186056</th>\n",
       "      <td>2015</td>\n",
       "      <td>0803505577</td>\n",
       "      <td>17/08/1985</td>\n",
       "      <td>H</td>\n",
       "      <td>30</td>\n",
       "      <td>NaN</td>\n",
       "      <td>2350715310</td>\n",
       "      <td>0803207653</td>\n",
       "      <td>0803505577</td>\n",
       "      <td>09/06/2007</td>\n",
       "      <td>H</td>\n",
       "      <td>8.0</td>\n",
       "      <td>1</td>\n",
       "      <td>NaN</td>\n",
       "      <td>NaN</td>\n",
       "    </tr>\n",
       "    <tr>\n",
       "      <th>186057</th>\n",
       "      <td>2015</td>\n",
       "      <td>0803505577</td>\n",
       "      <td>17/08/1985</td>\n",
       "      <td>H</td>\n",
       "      <td>30</td>\n",
       "      <td>NaN</td>\n",
       "      <td>2350715294</td>\n",
       "      <td>0803207653</td>\n",
       "      <td>0803505577</td>\n",
       "      <td>21/05/2006</td>\n",
       "      <td>H</td>\n",
       "      <td>9.0</td>\n",
       "      <td>1</td>\n",
       "      <td>NaN</td>\n",
       "      <td>NaN</td>\n",
       "    </tr>\n",
       "    <tr>\n",
       "      <th>186058</th>\n",
       "      <td>2015</td>\n",
       "      <td>0803505577</td>\n",
       "      <td>17/08/1985</td>\n",
       "      <td>H</td>\n",
       "      <td>30</td>\n",
       "      <td>NaN</td>\n",
       "      <td>0804717247</td>\n",
       "      <td>0803207653</td>\n",
       "      <td>0803505577</td>\n",
       "      <td>27/03/2012</td>\n",
       "      <td>M</td>\n",
       "      <td>3.0</td>\n",
       "      <td>1</td>\n",
       "      <td>NaN</td>\n",
       "      <td>NaN</td>\n",
       "    </tr>\n",
       "    <tr>\n",
       "      <th>206974</th>\n",
       "      <td>2015</td>\n",
       "      <td>1313299875</td>\n",
       "      <td>29/05/1979</td>\n",
       "      <td>H</td>\n",
       "      <td>36</td>\n",
       "      <td>NaN</td>\n",
       "      <td>1351643646</td>\n",
       "      <td>1313299883</td>\n",
       "      <td>1313299875</td>\n",
       "      <td>22/08/2005</td>\n",
       "      <td>M</td>\n",
       "      <td>10.0</td>\n",
       "      <td>1</td>\n",
       "      <td>NaN</td>\n",
       "      <td>NaN</td>\n",
       "    </tr>\n",
       "    <tr>\n",
       "      <th>206975</th>\n",
       "      <td>2015</td>\n",
       "      <td>1313299875</td>\n",
       "      <td>29/05/1979</td>\n",
       "      <td>H</td>\n",
       "      <td>36</td>\n",
       "      <td>NaN</td>\n",
       "      <td>1316607256</td>\n",
       "      <td>1313299883</td>\n",
       "      <td>1313299875</td>\n",
       "      <td>08/09/2000</td>\n",
       "      <td>H</td>\n",
       "      <td>15.0</td>\n",
       "      <td>1</td>\n",
       "      <td>NaN</td>\n",
       "      <td>NaN</td>\n",
       "    </tr>\n",
       "    <tr>\n",
       "      <th>206976</th>\n",
       "      <td>2015</td>\n",
       "      <td>1313299875</td>\n",
       "      <td>29/05/1979</td>\n",
       "      <td>H</td>\n",
       "      <td>36</td>\n",
       "      <td>NaN</td>\n",
       "      <td>1315621589</td>\n",
       "      <td>1313299883</td>\n",
       "      <td>1313299875</td>\n",
       "      <td>29/10/1997</td>\n",
       "      <td>M</td>\n",
       "      <td>18.0</td>\n",
       "      <td>1</td>\n",
       "      <td>NaN</td>\n",
       "      <td>NaN</td>\n",
       "    </tr>\n",
       "    <tr>\n",
       "      <th>319420</th>\n",
       "      <td>2015</td>\n",
       "      <td>0302113774</td>\n",
       "      <td>18/12/1982</td>\n",
       "      <td>H</td>\n",
       "      <td>33</td>\n",
       "      <td>NaN</td>\n",
       "      <td>0302511480</td>\n",
       "      <td>0302106349</td>\n",
       "      <td>0302113774</td>\n",
       "      <td>04/03/2004</td>\n",
       "      <td>H</td>\n",
       "      <td>11.0</td>\n",
       "      <td>1</td>\n",
       "      <td>NaN</td>\n",
       "      <td>NaN</td>\n",
       "    </tr>\n",
       "    <tr>\n",
       "      <th>319421</th>\n",
       "      <td>2015</td>\n",
       "      <td>0302113774</td>\n",
       "      <td>18/12/1982</td>\n",
       "      <td>H</td>\n",
       "      <td>33</td>\n",
       "      <td>NaN</td>\n",
       "      <td>0302511472</td>\n",
       "      <td>0302106349</td>\n",
       "      <td>0302113774</td>\n",
       "      <td>06/04/2007</td>\n",
       "      <td>M</td>\n",
       "      <td>8.0</td>\n",
       "      <td>1</td>\n",
       "      <td>NaN</td>\n",
       "      <td>NaN</td>\n",
       "    </tr>\n",
       "    <tr>\n",
       "      <th>344815</th>\n",
       "      <td>2015</td>\n",
       "      <td>1200743431</td>\n",
       "      <td>10/08/1948</td>\n",
       "      <td>H</td>\n",
       "      <td>67</td>\n",
       "      <td>NaN</td>\n",
       "      <td>1250560370</td>\n",
       "      <td>1202572994</td>\n",
       "      <td>1200743431</td>\n",
       "      <td>23/05/2011</td>\n",
       "      <td>H</td>\n",
       "      <td>4.0</td>\n",
       "      <td>1</td>\n",
       "      <td>NaN</td>\n",
       "      <td>NaN</td>\n",
       "    </tr>\n",
       "    <tr>\n",
       "      <th>406910</th>\n",
       "      <td>2015</td>\n",
       "      <td>1312641523</td>\n",
       "      <td>07/04/1985</td>\n",
       "      <td>H</td>\n",
       "      <td>30</td>\n",
       "      <td>NaN</td>\n",
       "      <td>0956106934</td>\n",
       "      <td>0801200882</td>\n",
       "      <td>1312641523</td>\n",
       "      <td>14/11/2008</td>\n",
       "      <td>M</td>\n",
       "      <td>7.0</td>\n",
       "      <td>1</td>\n",
       "      <td>NaN</td>\n",
       "      <td>NaN</td>\n",
       "    </tr>\n",
       "    <tr>\n",
       "      <th>437381</th>\n",
       "      <td>2015</td>\n",
       "      <td>1202487532</td>\n",
       "      <td>11/05/1967</td>\n",
       "      <td>H</td>\n",
       "      <td>48</td>\n",
       "      <td>NaN</td>\n",
       "      <td>0954502951</td>\n",
       "      <td>0914524152</td>\n",
       "      <td>1202487532</td>\n",
       "      <td>18/12/2001</td>\n",
       "      <td>H</td>\n",
       "      <td>14.0</td>\n",
       "      <td>1</td>\n",
       "      <td>NaN</td>\n",
       "      <td>NaN</td>\n",
       "    </tr>\n",
       "    <tr>\n",
       "      <th>446616</th>\n",
       "      <td>2015</td>\n",
       "      <td>0401649934</td>\n",
       "      <td>25/02/1984</td>\n",
       "      <td>H</td>\n",
       "      <td>31</td>\n",
       "      <td>NaN</td>\n",
       "      <td>1725508756</td>\n",
       "      <td>1753120094</td>\n",
       "      <td>0401649934</td>\n",
       "      <td>10/06/2000</td>\n",
       "      <td>M</td>\n",
       "      <td>15.0</td>\n",
       "      <td>1</td>\n",
       "      <td>NaN</td>\n",
       "      <td>NaN</td>\n",
       "    </tr>\n",
       "    <tr>\n",
       "      <th>540534</th>\n",
       "      <td>2015</td>\n",
       "      <td>0600634927</td>\n",
       "      <td>28/06/1947</td>\n",
       "      <td>H</td>\n",
       "      <td>68</td>\n",
       "      <td>NaN</td>\n",
       "      <td>1751690247</td>\n",
       "      <td>0604177865</td>\n",
       "      <td>0600634927</td>\n",
       "      <td>28/04/2008</td>\n",
       "      <td>M</td>\n",
       "      <td>7.0</td>\n",
       "      <td>1</td>\n",
       "      <td>NaN</td>\n",
       "      <td>NaN</td>\n",
       "    </tr>\n",
       "    <tr>\n",
       "      <th>548210</th>\n",
       "      <td>2015</td>\n",
       "      <td>1002937553</td>\n",
       "      <td>17/07/1981</td>\n",
       "      <td>H</td>\n",
       "      <td>34</td>\n",
       "      <td>NaN</td>\n",
       "      <td>1050428778</td>\n",
       "      <td>1720473212</td>\n",
       "      <td>1002937553</td>\n",
       "      <td>30/05/2009</td>\n",
       "      <td>M</td>\n",
       "      <td>6.0</td>\n",
       "      <td>1</td>\n",
       "      <td>NaN</td>\n",
       "      <td>NaN</td>\n",
       "    </tr>\n",
       "    <tr>\n",
       "      <th>569519</th>\n",
       "      <td>2015</td>\n",
       "      <td>0800943607</td>\n",
       "      <td>10/07/1960</td>\n",
       "      <td>H</td>\n",
       "      <td>55</td>\n",
       "      <td>NaN</td>\n",
       "      <td>0804886489</td>\n",
       "      <td>1707981013</td>\n",
       "      <td>0800943607</td>\n",
       "      <td>27/05/1997</td>\n",
       "      <td>H</td>\n",
       "      <td>18.0</td>\n",
       "      <td>1</td>\n",
       "      <td>NaN</td>\n",
       "      <td>NaN</td>\n",
       "    </tr>\n",
       "    <tr>\n",
       "      <th>592736</th>\n",
       "      <td>2015</td>\n",
       "      <td>1312353699</td>\n",
       "      <td>21/01/1986</td>\n",
       "      <td>H</td>\n",
       "      <td>29</td>\n",
       "      <td>NaN</td>\n",
       "      <td>1350671408</td>\n",
       "      <td>1313690776</td>\n",
       "      <td>1312353699</td>\n",
       "      <td>17/11/2009</td>\n",
       "      <td>M</td>\n",
       "      <td>6.0</td>\n",
       "      <td>1</td>\n",
       "      <td>NaN</td>\n",
       "      <td>NaN</td>\n",
       "    </tr>\n",
       "    <tr>\n",
       "      <th>602786</th>\n",
       "      <td>2015</td>\n",
       "      <td>0802243386</td>\n",
       "      <td>07/04/1980</td>\n",
       "      <td>H</td>\n",
       "      <td>35</td>\n",
       "      <td>NaN</td>\n",
       "      <td>0850408618</td>\n",
       "      <td>0801849902</td>\n",
       "      <td>0802243386</td>\n",
       "      <td>19/03/1998</td>\n",
       "      <td>H</td>\n",
       "      <td>17.0</td>\n",
       "      <td>1</td>\n",
       "      <td>NaN</td>\n",
       "      <td>NaN</td>\n",
       "    </tr>\n",
       "    <tr>\n",
       "      <th>602787</th>\n",
       "      <td>2015</td>\n",
       "      <td>0802243386</td>\n",
       "      <td>07/04/1980</td>\n",
       "      <td>H</td>\n",
       "      <td>35</td>\n",
       "      <td>NaN</td>\n",
       "      <td>1724195027</td>\n",
       "      <td>1709730582</td>\n",
       "      <td>0802243386</td>\n",
       "      <td>23/03/2004</td>\n",
       "      <td>M</td>\n",
       "      <td>11.0</td>\n",
       "      <td>1</td>\n",
       "      <td>NaN</td>\n",
       "      <td>NaN</td>\n",
       "    </tr>\n",
       "    <tr>\n",
       "      <th>622284</th>\n",
       "      <td>2015</td>\n",
       "      <td>1000696797</td>\n",
       "      <td>22/05/1950</td>\n",
       "      <td>H</td>\n",
       "      <td>65</td>\n",
       "      <td>NaN</td>\n",
       "      <td>0401880976</td>\n",
       "      <td>1000895324</td>\n",
       "      <td>1000696797</td>\n",
       "      <td>06/11/1998</td>\n",
       "      <td>H</td>\n",
       "      <td>17.0</td>\n",
       "      <td>1</td>\n",
       "      <td>NaN</td>\n",
       "      <td>NaN</td>\n",
       "    </tr>\n",
       "    <tr>\n",
       "      <th>666159</th>\n",
       "      <td>2015</td>\n",
       "      <td>0600993695</td>\n",
       "      <td>02/11/1950</td>\n",
       "      <td>H</td>\n",
       "      <td>65</td>\n",
       "      <td>NaN</td>\n",
       "      <td>0605392786</td>\n",
       "      <td>0603333832</td>\n",
       "      <td>0600993695</td>\n",
       "      <td>28/08/1997</td>\n",
       "      <td>M</td>\n",
       "      <td>18.0</td>\n",
       "      <td>1</td>\n",
       "      <td>NaN</td>\n",
       "      <td>NaN</td>\n",
       "    </tr>\n",
       "    <tr>\n",
       "      <th>767893</th>\n",
       "      <td>2015</td>\n",
       "      <td>0400970224</td>\n",
       "      <td>28/08/1971</td>\n",
       "      <td>H</td>\n",
       "      <td>44</td>\n",
       "      <td>NaN</td>\n",
       "      <td>0450121876</td>\n",
       "      <td>0401014980</td>\n",
       "      <td>0400970224</td>\n",
       "      <td>19/07/2011</td>\n",
       "      <td>M</td>\n",
       "      <td>4.0</td>\n",
       "      <td>1</td>\n",
       "      <td>NaN</td>\n",
       "      <td>NaN</td>\n",
       "    </tr>\n",
       "    <tr>\n",
       "      <th>788192</th>\n",
       "      <td>2015</td>\n",
       "      <td>0301238242</td>\n",
       "      <td>17/10/1973</td>\n",
       "      <td>H</td>\n",
       "      <td>42</td>\n",
       "      <td>NaN</td>\n",
       "      <td>0350216255</td>\n",
       "      <td>0301479762</td>\n",
       "      <td>0301238242</td>\n",
       "      <td>18/07/2009</td>\n",
       "      <td>M</td>\n",
       "      <td>6.0</td>\n",
       "      <td>1</td>\n",
       "      <td>NaN</td>\n",
       "      <td>NaN</td>\n",
       "    </tr>\n",
       "    <tr>\n",
       "      <th>788193</th>\n",
       "      <td>2015</td>\n",
       "      <td>0301238242</td>\n",
       "      <td>17/10/1973</td>\n",
       "      <td>H</td>\n",
       "      <td>42</td>\n",
       "      <td>NaN</td>\n",
       "      <td>0303118889</td>\n",
       "      <td>0301479762</td>\n",
       "      <td>0301238242</td>\n",
       "      <td>16/05/2006</td>\n",
       "      <td>M</td>\n",
       "      <td>9.0</td>\n",
       "      <td>1</td>\n",
       "      <td>NaN</td>\n",
       "      <td>NaN</td>\n",
       "    </tr>\n",
       "    <tr>\n",
       "      <th>788194</th>\n",
       "      <td>2015</td>\n",
       "      <td>0301238242</td>\n",
       "      <td>17/10/1973</td>\n",
       "      <td>H</td>\n",
       "      <td>42</td>\n",
       "      <td>NaN</td>\n",
       "      <td>0350219887</td>\n",
       "      <td>0301479762</td>\n",
       "      <td>0301238242</td>\n",
       "      <td>23/12/2001</td>\n",
       "      <td>H</td>\n",
       "      <td>14.0</td>\n",
       "      <td>1</td>\n",
       "      <td>NaN</td>\n",
       "      <td>NaN</td>\n",
       "    </tr>\n",
       "  </tbody>\n",
       "</table>\n",
       "</div>"
      ],
      "text/plain": [
       "        ANIO CED_AFILIADO FECHA_NAC_AFI SEXO_AFI  EDAD_AFI FECHA_MUERTE_AFI  \\\n",
       "49025   2015   1304509514    29/05/1962        H        53              NaN   \n",
       "54169   2015   1203184450    09/10/1972        H        43              NaN   \n",
       "104884  2015   0201221686    22/04/1969        H        46              NaN   \n",
       "110826  2015   1102015912    03/01/1959        H        56              NaN   \n",
       "123001  2015   0917683930    01/07/1978        H        37              NaN   \n",
       "186056  2015   0803505577    17/08/1985        H        30              NaN   \n",
       "186057  2015   0803505577    17/08/1985        H        30              NaN   \n",
       "186058  2015   0803505577    17/08/1985        H        30              NaN   \n",
       "206974  2015   1313299875    29/05/1979        H        36              NaN   \n",
       "206975  2015   1313299875    29/05/1979        H        36              NaN   \n",
       "206976  2015   1313299875    29/05/1979        H        36              NaN   \n",
       "319420  2015   0302113774    18/12/1982        H        33              NaN   \n",
       "319421  2015   0302113774    18/12/1982        H        33              NaN   \n",
       "344815  2015   1200743431    10/08/1948        H        67              NaN   \n",
       "406910  2015   1312641523    07/04/1985        H        30              NaN   \n",
       "437381  2015   1202487532    11/05/1967        H        48              NaN   \n",
       "446616  2015   0401649934    25/02/1984        H        31              NaN   \n",
       "540534  2015   0600634927    28/06/1947        H        68              NaN   \n",
       "548210  2015   1002937553    17/07/1981        H        34              NaN   \n",
       "569519  2015   0800943607    10/07/1960        H        55              NaN   \n",
       "592736  2015   1312353699    21/01/1986        H        29              NaN   \n",
       "602786  2015   0802243386    07/04/1980        H        35              NaN   \n",
       "602787  2015   0802243386    07/04/1980        H        35              NaN   \n",
       "622284  2015   1000696797    22/05/1950        H        65              NaN   \n",
       "666159  2015   0600993695    02/11/1950        H        65              NaN   \n",
       "767893  2015   0400970224    28/08/1971        H        44              NaN   \n",
       "788192  2015   0301238242    17/10/1973        H        42              NaN   \n",
       "788193  2015   0301238242    17/10/1973        H        42              NaN   \n",
       "788194  2015   0301238242    17/10/1973        H        42              NaN   \n",
       "\n",
       "          CED_HIJO CEDULA_PADRE CEDULA_MADRE FECHA_NAC_HIJ SEXO_HIJ  \\\n",
       "49025   0950289264   1205833039   1304509514    14/07/2009        H   \n",
       "54169   1207699701   1202230361   1203184450    10/05/2000        H   \n",
       "104884  1650065533   1600373292   0201221686    06/05/2011        H   \n",
       "110826  0750606972   0301991188   1102015912    17/04/2013        M   \n",
       "123001  0957527864   0801570060   0917683930    28/12/2007        M   \n",
       "186056  2350715310   0803207653   0803505577    09/06/2007        H   \n",
       "186057  2350715294   0803207653   0803505577    21/05/2006        H   \n",
       "186058  0804717247   0803207653   0803505577    27/03/2012        M   \n",
       "206974  1351643646   1313299883   1313299875    22/08/2005        M   \n",
       "206975  1316607256   1313299883   1313299875    08/09/2000        H   \n",
       "206976  1315621589   1313299883   1313299875    29/10/1997        M   \n",
       "319420  0302511480   0302106349   0302113774    04/03/2004        H   \n",
       "319421  0302511472   0302106349   0302113774    06/04/2007        M   \n",
       "344815  1250560370   1202572994   1200743431    23/05/2011        H   \n",
       "406910  0956106934   0801200882   1312641523    14/11/2008        M   \n",
       "437381  0954502951   0914524152   1202487532    18/12/2001        H   \n",
       "446616  1725508756   1753120094   0401649934    10/06/2000        M   \n",
       "540534  1751690247   0604177865   0600634927    28/04/2008        M   \n",
       "548210  1050428778   1720473212   1002937553    30/05/2009        M   \n",
       "569519  0804886489   1707981013   0800943607    27/05/1997        H   \n",
       "592736  1350671408   1313690776   1312353699    17/11/2009        M   \n",
       "602786  0850408618   0801849902   0802243386    19/03/1998        H   \n",
       "602787  1724195027   1709730582   0802243386    23/03/2004        M   \n",
       "622284  0401880976   1000895324   1000696797    06/11/1998        H   \n",
       "666159  0605392786   0603333832   0600993695    28/08/1997        M   \n",
       "767893  0450121876   0401014980   0400970224    19/07/2011        M   \n",
       "788192  0350216255   0301479762   0301238242    18/07/2009        M   \n",
       "788193  0303118889   0301479762   0301238242    16/05/2006        M   \n",
       "788194  0350219887   0301479762   0301238242    23/12/2001        H   \n",
       "\n",
       "        EDAD_HIJO  peso  padre  madre  \n",
       "49025         6.0     1    NaN    NaN  \n",
       "54169        15.0     1    NaN    NaN  \n",
       "104884        4.0     1    NaN    NaN  \n",
       "110826        2.0     1    NaN    NaN  \n",
       "123001        8.0     1    NaN    NaN  \n",
       "186056        8.0     1    NaN    NaN  \n",
       "186057        9.0     1    NaN    NaN  \n",
       "186058        3.0     1    NaN    NaN  \n",
       "206974       10.0     1    NaN    NaN  \n",
       "206975       15.0     1    NaN    NaN  \n",
       "206976       18.0     1    NaN    NaN  \n",
       "319420       11.0     1    NaN    NaN  \n",
       "319421        8.0     1    NaN    NaN  \n",
       "344815        4.0     1    NaN    NaN  \n",
       "406910        7.0     1    NaN    NaN  \n",
       "437381       14.0     1    NaN    NaN  \n",
       "446616       15.0     1    NaN    NaN  \n",
       "540534        7.0     1    NaN    NaN  \n",
       "548210        6.0     1    NaN    NaN  \n",
       "569519       18.0     1    NaN    NaN  \n",
       "592736        6.0     1    NaN    NaN  \n",
       "602786       17.0     1    NaN    NaN  \n",
       "602787       11.0     1    NaN    NaN  \n",
       "622284       17.0     1    NaN    NaN  \n",
       "666159       18.0     1    NaN    NaN  \n",
       "767893        4.0     1    NaN    NaN  \n",
       "788192        6.0     1    NaN    NaN  \n",
       "788193        9.0     1    NaN    NaN  \n",
       "788194       14.0     1    NaN    NaN  "
      ]
     },
     "execution_count": 71,
     "metadata": {},
     "output_type": "execute_result"
    }
   ],
   "source": [
    "#Verificaciones para padres\n",
    "hijos[hijos['CED_HIJO'].isnull()==False][hijos['SEXO_AFI']=='H'][hijos['padre'].isnull()==True] # 243 registros \n",
    "#hijos[hijos['CED_HIJO'].isnull()==False][hijos['SEXO_AFI']=='M'][hijos['madre'].isnull()==True] # 429 registros "
   ]
  },
  {
   "cell_type": "code",
   "execution_count": 72,
   "id": "6add961c",
   "metadata": {
    "ExecuteTime": {
     "end_time": "2022-05-11T20:33:07.297882Z",
     "start_time": "2022-05-11T20:33:04.370268Z"
    }
   },
   "outputs": [],
   "source": [
    "#Correcciones de edad del afiliado por sexo\n",
    "for i in range(2012,2021):\n",
    "    dict_f=hijos[ (hijos['CED_HIJO'].isnull()==False) & (hijos['SEXO_AFI']=='H') & (hijos['ANIO']==i) & (hijos['padre'].isnull()==True)].set_index('CEDULA_MADRE')['EDAD_AFI'].to_dict()\n",
    "    hijos.loc[(hijos['CED_HIJO'].isnull()==False) & (hijos['SEXO_AFI']=='H') & (hijos['ANIO']==i) & (hijos['padre'].isnull()==True), 'padre']=hijos[ (hijos['CED_HIJO'].isnull()==False) & (hijos['SEXO_AFI']=='H') & (hijos['ANIO']==i) & (hijos['padre'].isnull()==True)]['CED_AFILIADO'].map(dict_f)\n",
    "    dict_m=hijos[ (hijos['CED_HIJO'].isnull()==False) & (hijos['SEXO_AFI']=='M') & (hijos['ANIO']==i) & (hijos['madre'].isnull()==True)].set_index('CEDULA_PADRE')['EDAD_AFI'].to_dict()\n",
    "    hijos.loc[(hijos['CED_HIJO'].isnull()==False) & (hijos['SEXO_AFI']=='M') & (hijos['ANIO']==i) & (hijos['madre'].isnull()==True), 'madre']=hijos[ (hijos['CED_HIJO'].isnull()==False) & (hijos['SEXO_AFI']=='M') & (hijos['ANIO']==i) & (hijos['madre'].isnull()==True)]['CED_AFILIADO'].map(dict_m)"
   ]
  },
  {
   "cell_type": "code",
   "execution_count": 73,
   "id": "8a89ad10",
   "metadata": {
    "ExecuteTime": {
     "end_time": "2022-05-11T20:33:08.027866Z",
     "start_time": "2022-05-11T20:33:07.778657Z"
    }
   },
   "outputs": [
    {
     "name": "stderr",
     "output_type": "stream",
     "text": [
      "C:\\Users\\CRISTI~1.GUA\\AppData\\Local\\Temp/ipykernel_8636/4119575258.py:2: UserWarning: Boolean Series key will be reindexed to match DataFrame index.\n",
      "  hijos[hijos['CED_HIJO'].isnull()==False][hijos['SEXO_AFI']=='H'][hijos['padre'].isnull()==True] # 0 registros\n"
     ]
    },
    {
     "data": {
      "text/html": [
       "<div>\n",
       "<style scoped>\n",
       "    .dataframe tbody tr th:only-of-type {\n",
       "        vertical-align: middle;\n",
       "    }\n",
       "\n",
       "    .dataframe tbody tr th {\n",
       "        vertical-align: top;\n",
       "    }\n",
       "\n",
       "    .dataframe thead th {\n",
       "        text-align: right;\n",
       "    }\n",
       "</style>\n",
       "<table border=\"1\" class=\"dataframe\">\n",
       "  <thead>\n",
       "    <tr style=\"text-align: right;\">\n",
       "      <th></th>\n",
       "      <th>ANIO</th>\n",
       "      <th>CED_AFILIADO</th>\n",
       "      <th>FECHA_NAC_AFI</th>\n",
       "      <th>SEXO_AFI</th>\n",
       "      <th>EDAD_AFI</th>\n",
       "      <th>FECHA_MUERTE_AFI</th>\n",
       "      <th>CED_HIJO</th>\n",
       "      <th>CEDULA_PADRE</th>\n",
       "      <th>CEDULA_MADRE</th>\n",
       "      <th>FECHA_NAC_HIJ</th>\n",
       "      <th>SEXO_HIJ</th>\n",
       "      <th>EDAD_HIJO</th>\n",
       "      <th>peso</th>\n",
       "      <th>padre</th>\n",
       "      <th>madre</th>\n",
       "    </tr>\n",
       "  </thead>\n",
       "  <tbody>\n",
       "  </tbody>\n",
       "</table>\n",
       "</div>"
      ],
      "text/plain": [
       "Empty DataFrame\n",
       "Columns: [ANIO, CED_AFILIADO, FECHA_NAC_AFI, SEXO_AFI, EDAD_AFI, FECHA_MUERTE_AFI, CED_HIJO, CEDULA_PADRE, CEDULA_MADRE, FECHA_NAC_HIJ, SEXO_HIJ, EDAD_HIJO, peso, padre, madre]\n",
       "Index: []"
      ]
     },
     "execution_count": 73,
     "metadata": {},
     "output_type": "execute_result"
    }
   ],
   "source": [
    "#Verificaciones para padres segunda parte\n",
    "hijos[hijos['CED_HIJO'].isnull()==False][hijos['SEXO_AFI']=='H'][hijos['padre'].isnull()==True] # 0 registros \n",
    "#hijos[hijos['CED_HIJO'].isnull()==False][hijos['SEXO_AFI']=='M'][hijos['madre'].isnull()==True] # 0 registros "
   ]
  },
  {
   "cell_type": "code",
   "execution_count": null,
   "id": "3118d7b4",
   "metadata": {
    "ExecuteTime": {
     "end_time": "2022-05-03T21:58:51.879542Z",
     "start_time": "2022-05-03T21:58:51.341842Z"
    }
   },
   "outputs": [],
   "source": [
    "# Para un año en específico\n",
    "a=pd.DataFrame( hijos[(hijos['CED_HIJO'].isnull()==False) & (hijos['ANIO']==2020)].groupby(['ANIO','SEXO_AFI','padre'])['CED_AFILIADO'].count().unstack(0).sum(1)['H']/hijos[hijos['ANIO']==2020].groupby(['ANIO','SEXO_AFI','EDAD_AFI'])['CED_AFILIADO'].count().unstack(0).sum(1)['H'])\n",
    "a"
   ]
  },
  {
   "cell_type": "code",
   "execution_count": null,
   "id": "b1a767dc",
   "metadata": {
    "ExecuteTime": {
     "end_time": "2022-05-03T21:58:54.600016Z",
     "start_time": "2022-05-03T21:58:51.881541Z"
    }
   },
   "outputs": [],
   "source": [
    "hijos[(hijos['SEXO_AFI']=='H')].groupby(['EDAD_HIJO', 'padre'])['CED_AFILIADO'].nunique().unstack(0)\n",
    "#hijos[(hijos['SEXO_AFI']=='H')][hijos['EDAD_HIJO'].isnull()==True]['EDAD_AFI'].value_counts() # Valores nulos"
   ]
  },
  {
   "cell_type": "code",
   "execution_count": null,
   "id": "986aaf52",
   "metadata": {
    "ExecuteTime": {
     "end_time": "2022-05-03T21:58:57.580365Z",
     "start_time": "2022-05-03T21:58:54.602015Z"
    }
   },
   "outputs": [],
   "source": [
    "hijos[hijos['SEXO_AFI']=='H'].groupby(['ANIO','EDAD_AFI'])['CED_AFILIADO'].nunique().unstack(0).reindex(range(15,101))"
   ]
  },
  {
   "cell_type": "code",
   "execution_count": 74,
   "id": "c57ff4fc",
   "metadata": {
    "ExecuteTime": {
     "end_time": "2022-05-11T20:33:13.155301Z",
     "start_time": "2022-05-11T20:33:12.242786Z"
    }
   },
   "outputs": [
    {
     "data": {
      "text/plain": [
       "padre\n",
       "15     1.000000\n",
       "16     0.200000\n",
       "17     0.458333\n",
       "18     0.439024\n",
       "19     0.411765\n",
       "         ...   \n",
       "96          NaN\n",
       "97          NaN\n",
       "98          NaN\n",
       "99          NaN\n",
       "100         NaN\n",
       "Length: 86, dtype: float64"
      ]
     },
     "execution_count": 74,
     "metadata": {},
     "output_type": "execute_result"
    }
   ],
   "source": [
    "#esp_p=hijos[hijos['CED_HIJO'].isnull()==False].groupby(['ANIO','SEXO_AFI','padre'])['CED_AFILIADO'].count().unstack(0).sum(1)['H']/hijos.groupby(['ANIO','SEXO_AFI','EDAD_AFI'])['CED_AFILIADO'].count().unstack(0).sum(1)['H']\n",
    "esp_p=(hijos[ ( hijos['CED_HIJO'].isnull()==False) & (hijos['SEXO_AFI']=='H')].groupby(['ANIO','padre'])['CED_HIJO'].nunique().unstack(0).reindex(range(15,101))/hijos[hijos['SEXO_AFI']=='H'].groupby(['ANIO','EDAD_AFI'])['CED_AFILIADO'].nunique().unstack(0).reindex(range(15,101))).median(axis = 1, skipna = True)\n",
    "esp_p"
   ]
  },
  {
   "cell_type": "code",
   "execution_count": 75,
   "id": "5df877e3",
   "metadata": {
    "ExecuteTime": {
     "end_time": "2022-05-11T20:33:16.452197Z",
     "start_time": "2022-05-11T20:33:14.737639Z"
    }
   },
   "outputs": [
    {
     "data": {
      "text/plain": [
       "<AxesSubplot:xlabel='padre'>"
      ]
     },
     "execution_count": 75,
     "metadata": {},
     "output_type": "execute_result"
    },
    {
     "data": {
      "image/png": "[encoded data removed]",
      "text/plain": [
       "<Figure size 432x288 with 1 Axes>"
      ]
     },
     "metadata": {
      "needs_background": "light"
     },
     "output_type": "display_data"
    }
   ],
   "source": [
    "esp_p.plot()"
   ]
  },
  {
   "cell_type": "code",
   "execution_count": 76,
   "id": "ce387d7b",
   "metadata": {
    "ExecuteTime": {
     "end_time": "2022-05-11T20:33:18.272872Z",
     "start_time": "2022-05-11T20:33:18.201925Z"
    }
   },
   "outputs": [
    {
     "data": {
      "text/plain": [
       "padre\n",
       "15     0.552778\n",
       "16     0.524339\n",
       "17     0.501824\n",
       "18     0.395414\n",
       "19     0.476188\n",
       "         ...   \n",
       "96          NaN\n",
       "97          NaN\n",
       "98          NaN\n",
       "99          NaN\n",
       "100         NaN\n",
       "Length: 86, dtype: float64"
      ]
     },
     "execution_count": 76,
     "metadata": {},
     "output_type": "execute_result"
    }
   ],
   "source": [
    "esp_p=esp_p.rolling(window=5,center=True, min_periods=1).mean()\n",
    "esp_p"
   ]
  },
  {
   "cell_type": "code",
   "execution_count": 77,
   "id": "a8d6b060",
   "metadata": {
    "ExecuteTime": {
     "end_time": "2022-05-11T20:33:19.802942Z",
     "start_time": "2022-05-11T20:33:19.595176Z"
    }
   },
   "outputs": [
    {
     "data": {
      "text/plain": [
       "<AxesSubplot:xlabel='padre'>"
      ]
     },
     "execution_count": 77,
     "metadata": {},
     "output_type": "execute_result"
    },
    {
     "data": {
      "image/png": "[encoded data removed]",
      "text/plain": [
       "<Figure size 432x288 with 1 Axes>"
      ]
     },
     "metadata": {
      "needs_background": "light"
     },
     "output_type": "display_data"
    }
   ],
   "source": [
    "esp_p.plot()"
   ]
  },
  {
   "cell_type": "code",
   "execution_count": null,
   "id": "c526d081",
   "metadata": {
    "ExecuteTime": {
     "end_time": "2022-05-03T21:59:03.055444Z",
     "start_time": "2022-05-03T21:59:02.418633Z"
    }
   },
   "outputs": [],
   "source": [
    "hijos[ ( hijos['CED_HIJO'].isnull()==False) & (hijos['SEXO_AFI']=='M')].groupby(['ANIO','madre'])['CED_AFILIADO'].count().unstack(0).reindex(range(15,101))"
   ]
  },
  {
   "cell_type": "code",
   "execution_count": null,
   "id": "cb299e9d",
   "metadata": {
    "ExecuteTime": {
     "end_time": "2022-05-03T21:59:03.711096Z",
     "start_time": "2022-05-03T21:59:03.056445Z"
    }
   },
   "outputs": [],
   "source": [
    "hijos[hijos['SEXO_AFI']=='M'].groupby(['ANIO','EDAD_AFI'])['CED_AFILIADO'].count().unstack(0).reindex(range(15,101))"
   ]
  },
  {
   "cell_type": "code",
   "execution_count": 78,
   "id": "a6562878",
   "metadata": {
    "ExecuteTime": {
     "end_time": "2022-05-11T20:33:22.801683Z",
     "start_time": "2022-05-11T20:33:22.498016Z"
    }
   },
   "outputs": [
    {
     "data": {
      "text/plain": [
       "madre\n",
       "15     1.000000\n",
       "16     0.600000\n",
       "17     0.800000\n",
       "18     0.820359\n",
       "19     0.872549\n",
       "         ...   \n",
       "96          NaN\n",
       "97          NaN\n",
       "98          NaN\n",
       "99          NaN\n",
       "100         NaN\n",
       "Length: 86, dtype: float64"
      ]
     },
     "execution_count": 78,
     "metadata": {},
     "output_type": "execute_result"
    }
   ],
   "source": [
    "esp_m=(hijos[ ( hijos['CED_HIJO'].isnull()==False) & (hijos['SEXO_AFI']=='M')].groupby(['ANIO','madre'])['CED_HIJO'].nunique().unstack(0).reindex(range(15,101))/hijos[hijos['SEXO_AFI']=='M'].groupby(['ANIO','EDAD_AFI'])['CED_AFILIADO'].nunique().unstack(0).reindex(range(15,101))).median(axis = 1, skipna = True)\n",
    "esp_m"
   ]
  },
  {
   "cell_type": "code",
   "execution_count": 79,
   "id": "2c7e76dd",
   "metadata": {
    "ExecuteTime": {
     "end_time": "2022-05-11T20:33:24.515059Z",
     "start_time": "2022-05-11T20:33:24.394786Z"
    }
   },
   "outputs": [
    {
     "data": {
      "text/plain": [
       "<AxesSubplot:xlabel='madre'>"
      ]
     },
     "execution_count": 79,
     "metadata": {},
     "output_type": "execute_result"
    },
    {
     "data": {
      "image/png": "[encoded data removed]",
      "text/plain": [
       "<Figure size 432x288 with 1 Axes>"
      ]
     },
     "metadata": {
      "needs_background": "light"
     },
     "output_type": "display_data"
    }
   ],
   "source": [
    "esp_m.plot()"
   ]
  },
  {
   "cell_type": "code",
   "execution_count": 80,
   "id": "1ba69cfd",
   "metadata": {
    "ExecuteTime": {
     "end_time": "2022-05-11T20:33:25.731920Z",
     "start_time": "2022-05-11T20:33:25.706932Z"
    }
   },
   "outputs": [
    {
     "data": {
      "text/plain": [
       "madre\n",
       "15     0.800000\n",
       "16     0.805090\n",
       "17     0.818582\n",
       "18     0.810608\n",
       "19     0.883027\n",
       "         ...   \n",
       "96          NaN\n",
       "97          NaN\n",
       "98          NaN\n",
       "99          NaN\n",
       "100         NaN\n",
       "Length: 86, dtype: float64"
      ]
     },
     "execution_count": 80,
     "metadata": {},
     "output_type": "execute_result"
    }
   ],
   "source": [
    "esp_m=esp_m.rolling(5,center=True, min_periods=1).mean()\n",
    "esp_m"
   ]
  },
  {
   "cell_type": "code",
   "execution_count": 81,
   "id": "b0d2a010",
   "metadata": {
    "ExecuteTime": {
     "end_time": "2022-05-11T20:33:27.246916Z",
     "start_time": "2022-05-11T20:33:27.130544Z"
    }
   },
   "outputs": [
    {
     "data": {
      "text/plain": [
       "<AxesSubplot:xlabel='madre'>"
      ]
     },
     "execution_count": 81,
     "metadata": {},
     "output_type": "execute_result"
    },
    {
     "data": {
      "image/png": "[encoded data removed]",
      "text/plain": [
       "<Figure size 432x288 with 1 Axes>"
      ]
     },
     "metadata": {
      "needs_background": "light"
     },
     "output_type": "display_data"
    }
   ],
   "source": [
    "esp_m.plot()"
   ]
  },
  {
   "cell_type": "code",
   "execution_count": 82,
   "id": "7129069c",
   "metadata": {
    "ExecuteTime": {
     "end_time": "2022-05-11T20:33:29.046991Z",
     "start_time": "2022-05-11T20:33:28.699827Z"
    }
   },
   "outputs": [
    {
     "data": {
      "text/html": [
       "<div>\n",
       "<style scoped>\n",
       "    .dataframe tbody tr th:only-of-type {\n",
       "        vertical-align: middle;\n",
       "    }\n",
       "\n",
       "    .dataframe tbody tr th {\n",
       "        vertical-align: top;\n",
       "    }\n",
       "\n",
       "    .dataframe thead th {\n",
       "        text-align: right;\n",
       "    }\n",
       "</style>\n",
       "<table border=\"1\" class=\"dataframe\">\n",
       "  <thead>\n",
       "    <tr style=\"text-align: right;\">\n",
       "      <th>EDAD_HIJO</th>\n",
       "      <th>0.0</th>\n",
       "      <th>1.0</th>\n",
       "      <th>2.0</th>\n",
       "      <th>3.0</th>\n",
       "      <th>4.0</th>\n",
       "      <th>5.0</th>\n",
       "      <th>6.0</th>\n",
       "      <th>7.0</th>\n",
       "      <th>8.0</th>\n",
       "      <th>9.0</th>\n",
       "      <th>10.0</th>\n",
       "      <th>11.0</th>\n",
       "      <th>12.0</th>\n",
       "      <th>13.0</th>\n",
       "      <th>14.0</th>\n",
       "      <th>15.0</th>\n",
       "      <th>16.0</th>\n",
       "      <th>17.0</th>\n",
       "      <th>18.0</th>\n",
       "    </tr>\n",
       "    <tr>\n",
       "      <th>padre</th>\n",
       "      <th></th>\n",
       "      <th></th>\n",
       "      <th></th>\n",
       "      <th></th>\n",
       "      <th></th>\n",
       "      <th></th>\n",
       "      <th></th>\n",
       "      <th></th>\n",
       "      <th></th>\n",
       "      <th></th>\n",
       "      <th></th>\n",
       "      <th></th>\n",
       "      <th></th>\n",
       "      <th></th>\n",
       "      <th></th>\n",
       "      <th></th>\n",
       "      <th></th>\n",
       "      <th></th>\n",
       "      <th></th>\n",
       "    </tr>\n",
       "  </thead>\n",
       "  <tbody>\n",
       "    <tr>\n",
       "      <th>15</th>\n",
       "      <td>1.0</td>\n",
       "      <td>NaN</td>\n",
       "      <td>NaN</td>\n",
       "      <td>NaN</td>\n",
       "      <td>NaN</td>\n",
       "      <td>NaN</td>\n",
       "      <td>NaN</td>\n",
       "      <td>NaN</td>\n",
       "      <td>NaN</td>\n",
       "      <td>NaN</td>\n",
       "      <td>NaN</td>\n",
       "      <td>NaN</td>\n",
       "      <td>NaN</td>\n",
       "      <td>NaN</td>\n",
       "      <td>NaN</td>\n",
       "      <td>NaN</td>\n",
       "      <td>NaN</td>\n",
       "      <td>NaN</td>\n",
       "      <td>NaN</td>\n",
       "    </tr>\n",
       "    <tr>\n",
       "      <th>16</th>\n",
       "      <td>1.0</td>\n",
       "      <td>NaN</td>\n",
       "      <td>1.0</td>\n",
       "      <td>NaN</td>\n",
       "      <td>NaN</td>\n",
       "      <td>NaN</td>\n",
       "      <td>NaN</td>\n",
       "      <td>NaN</td>\n",
       "      <td>NaN</td>\n",
       "      <td>NaN</td>\n",
       "      <td>NaN</td>\n",
       "      <td>NaN</td>\n",
       "      <td>NaN</td>\n",
       "      <td>NaN</td>\n",
       "      <td>NaN</td>\n",
       "      <td>NaN</td>\n",
       "      <td>NaN</td>\n",
       "      <td>NaN</td>\n",
       "      <td>NaN</td>\n",
       "    </tr>\n",
       "    <tr>\n",
       "      <th>17</th>\n",
       "      <td>9.0</td>\n",
       "      <td>2.0</td>\n",
       "      <td>NaN</td>\n",
       "      <td>NaN</td>\n",
       "      <td>NaN</td>\n",
       "      <td>NaN</td>\n",
       "      <td>NaN</td>\n",
       "      <td>NaN</td>\n",
       "      <td>NaN</td>\n",
       "      <td>NaN</td>\n",
       "      <td>NaN</td>\n",
       "      <td>NaN</td>\n",
       "      <td>NaN</td>\n",
       "      <td>NaN</td>\n",
       "      <td>NaN</td>\n",
       "      <td>NaN</td>\n",
       "      <td>NaN</td>\n",
       "      <td>NaN</td>\n",
       "      <td>NaN</td>\n",
       "    </tr>\n",
       "    <tr>\n",
       "      <th>18</th>\n",
       "      <td>31.0</td>\n",
       "      <td>34.0</td>\n",
       "      <td>4.0</td>\n",
       "      <td>3.0</td>\n",
       "      <td>NaN</td>\n",
       "      <td>NaN</td>\n",
       "      <td>NaN</td>\n",
       "      <td>NaN</td>\n",
       "      <td>NaN</td>\n",
       "      <td>NaN</td>\n",
       "      <td>NaN</td>\n",
       "      <td>NaN</td>\n",
       "      <td>NaN</td>\n",
       "      <td>NaN</td>\n",
       "      <td>NaN</td>\n",
       "      <td>NaN</td>\n",
       "      <td>NaN</td>\n",
       "      <td>NaN</td>\n",
       "      <td>NaN</td>\n",
       "    </tr>\n",
       "    <tr>\n",
       "      <th>19</th>\n",
       "      <td>95.0</td>\n",
       "      <td>55.0</td>\n",
       "      <td>20.0</td>\n",
       "      <td>4.0</td>\n",
       "      <td>NaN</td>\n",
       "      <td>1.0</td>\n",
       "      <td>NaN</td>\n",
       "      <td>NaN</td>\n",
       "      <td>NaN</td>\n",
       "      <td>NaN</td>\n",
       "      <td>NaN</td>\n",
       "      <td>NaN</td>\n",
       "      <td>NaN</td>\n",
       "      <td>NaN</td>\n",
       "      <td>NaN</td>\n",
       "      <td>NaN</td>\n",
       "      <td>NaN</td>\n",
       "      <td>NaN</td>\n",
       "      <td>NaN</td>\n",
       "    </tr>\n",
       "    <tr>\n",
       "      <th>...</th>\n",
       "      <td>...</td>\n",
       "      <td>...</td>\n",
       "      <td>...</td>\n",
       "      <td>...</td>\n",
       "      <td>...</td>\n",
       "      <td>...</td>\n",
       "      <td>...</td>\n",
       "      <td>...</td>\n",
       "      <td>...</td>\n",
       "      <td>...</td>\n",
       "      <td>...</td>\n",
       "      <td>...</td>\n",
       "      <td>...</td>\n",
       "      <td>...</td>\n",
       "      <td>...</td>\n",
       "      <td>...</td>\n",
       "      <td>...</td>\n",
       "      <td>...</td>\n",
       "      <td>...</td>\n",
       "    </tr>\n",
       "    <tr>\n",
       "      <th>96</th>\n",
       "      <td>NaN</td>\n",
       "      <td>NaN</td>\n",
       "      <td>NaN</td>\n",
       "      <td>NaN</td>\n",
       "      <td>NaN</td>\n",
       "      <td>NaN</td>\n",
       "      <td>NaN</td>\n",
       "      <td>NaN</td>\n",
       "      <td>NaN</td>\n",
       "      <td>NaN</td>\n",
       "      <td>NaN</td>\n",
       "      <td>NaN</td>\n",
       "      <td>NaN</td>\n",
       "      <td>NaN</td>\n",
       "      <td>NaN</td>\n",
       "      <td>NaN</td>\n",
       "      <td>NaN</td>\n",
       "      <td>NaN</td>\n",
       "      <td>NaN</td>\n",
       "    </tr>\n",
       "    <tr>\n",
       "      <th>97</th>\n",
       "      <td>NaN</td>\n",
       "      <td>NaN</td>\n",
       "      <td>NaN</td>\n",
       "      <td>NaN</td>\n",
       "      <td>NaN</td>\n",
       "      <td>NaN</td>\n",
       "      <td>NaN</td>\n",
       "      <td>NaN</td>\n",
       "      <td>NaN</td>\n",
       "      <td>NaN</td>\n",
       "      <td>NaN</td>\n",
       "      <td>NaN</td>\n",
       "      <td>NaN</td>\n",
       "      <td>NaN</td>\n",
       "      <td>NaN</td>\n",
       "      <td>NaN</td>\n",
       "      <td>NaN</td>\n",
       "      <td>NaN</td>\n",
       "      <td>NaN</td>\n",
       "    </tr>\n",
       "    <tr>\n",
       "      <th>98</th>\n",
       "      <td>NaN</td>\n",
       "      <td>NaN</td>\n",
       "      <td>NaN</td>\n",
       "      <td>NaN</td>\n",
       "      <td>NaN</td>\n",
       "      <td>NaN</td>\n",
       "      <td>NaN</td>\n",
       "      <td>NaN</td>\n",
       "      <td>NaN</td>\n",
       "      <td>NaN</td>\n",
       "      <td>NaN</td>\n",
       "      <td>NaN</td>\n",
       "      <td>NaN</td>\n",
       "      <td>NaN</td>\n",
       "      <td>NaN</td>\n",
       "      <td>NaN</td>\n",
       "      <td>NaN</td>\n",
       "      <td>NaN</td>\n",
       "      <td>NaN</td>\n",
       "    </tr>\n",
       "    <tr>\n",
       "      <th>99</th>\n",
       "      <td>NaN</td>\n",
       "      <td>NaN</td>\n",
       "      <td>NaN</td>\n",
       "      <td>NaN</td>\n",
       "      <td>NaN</td>\n",
       "      <td>NaN</td>\n",
       "      <td>NaN</td>\n",
       "      <td>NaN</td>\n",
       "      <td>NaN</td>\n",
       "      <td>NaN</td>\n",
       "      <td>NaN</td>\n",
       "      <td>NaN</td>\n",
       "      <td>NaN</td>\n",
       "      <td>NaN</td>\n",
       "      <td>NaN</td>\n",
       "      <td>NaN</td>\n",
       "      <td>NaN</td>\n",
       "      <td>NaN</td>\n",
       "      <td>NaN</td>\n",
       "    </tr>\n",
       "    <tr>\n",
       "      <th>100</th>\n",
       "      <td>NaN</td>\n",
       "      <td>NaN</td>\n",
       "      <td>NaN</td>\n",
       "      <td>NaN</td>\n",
       "      <td>NaN</td>\n",
       "      <td>NaN</td>\n",
       "      <td>NaN</td>\n",
       "      <td>NaN</td>\n",
       "      <td>NaN</td>\n",
       "      <td>NaN</td>\n",
       "      <td>NaN</td>\n",
       "      <td>NaN</td>\n",
       "      <td>NaN</td>\n",
       "      <td>NaN</td>\n",
       "      <td>NaN</td>\n",
       "      <td>NaN</td>\n",
       "      <td>NaN</td>\n",
       "      <td>NaN</td>\n",
       "      <td>NaN</td>\n",
       "    </tr>\n",
       "  </tbody>\n",
       "</table>\n",
       "<p>86 rows × 19 columns</p>\n",
       "</div>"
      ],
      "text/plain": [
       "EDAD_HIJO  0.0   1.0   2.0   3.0   4.0   5.0   6.0   7.0   8.0   9.0   10.0  \\\n",
       "padre                                                                         \n",
       "15          1.0   NaN   NaN   NaN   NaN   NaN   NaN   NaN   NaN   NaN   NaN   \n",
       "16          1.0   NaN   1.0   NaN   NaN   NaN   NaN   NaN   NaN   NaN   NaN   \n",
       "17          9.0   2.0   NaN   NaN   NaN   NaN   NaN   NaN   NaN   NaN   NaN   \n",
       "18         31.0  34.0   4.0   3.0   NaN   NaN   NaN   NaN   NaN   NaN   NaN   \n",
       "19         95.0  55.0  20.0   4.0   NaN   1.0   NaN   NaN   NaN   NaN   NaN   \n",
       "...         ...   ...   ...   ...   ...   ...   ...   ...   ...   ...   ...   \n",
       "96          NaN   NaN   NaN   NaN   NaN   NaN   NaN   NaN   NaN   NaN   NaN   \n",
       "97          NaN   NaN   NaN   NaN   NaN   NaN   NaN   NaN   NaN   NaN   NaN   \n",
       "98          NaN   NaN   NaN   NaN   NaN   NaN   NaN   NaN   NaN   NaN   NaN   \n",
       "99          NaN   NaN   NaN   NaN   NaN   NaN   NaN   NaN   NaN   NaN   NaN   \n",
       "100         NaN   NaN   NaN   NaN   NaN   NaN   NaN   NaN   NaN   NaN   NaN   \n",
       "\n",
       "EDAD_HIJO  11.0  12.0  13.0  14.0  15.0  16.0  17.0  18.0  \n",
       "padre                                                      \n",
       "15          NaN   NaN   NaN   NaN   NaN   NaN   NaN   NaN  \n",
       "16          NaN   NaN   NaN   NaN   NaN   NaN   NaN   NaN  \n",
       "17          NaN   NaN   NaN   NaN   NaN   NaN   NaN   NaN  \n",
       "18          NaN   NaN   NaN   NaN   NaN   NaN   NaN   NaN  \n",
       "19          NaN   NaN   NaN   NaN   NaN   NaN   NaN   NaN  \n",
       "...         ...   ...   ...   ...   ...   ...   ...   ...  \n",
       "96          NaN   NaN   NaN   NaN   NaN   NaN   NaN   NaN  \n",
       "97          NaN   NaN   NaN   NaN   NaN   NaN   NaN   NaN  \n",
       "98          NaN   NaN   NaN   NaN   NaN   NaN   NaN   NaN  \n",
       "99          NaN   NaN   NaN   NaN   NaN   NaN   NaN   NaN  \n",
       "100         NaN   NaN   NaN   NaN   NaN   NaN   NaN   NaN  \n",
       "\n",
       "[86 rows x 19 columns]"
      ]
     },
     "execution_count": 82,
     "metadata": {},
     "output_type": "execute_result"
    }
   ],
   "source": [
    "hijos_papi=hijos[(hijos['CED_HIJO'].isnull()==False) & (hijos['SEXO_AFI']=='H')].groupby(['ANIO','padre', 'EDAD_HIJO'])['CED_HIJO'].nunique().unstack(0).median(axis = 1, skipna = True).unstack(1).reindex(range(15,101))\n",
    "hijos_papi\n",
    "#hijos_papi.sum().sum()"
   ]
  },
  {
   "cell_type": "code",
   "execution_count": 83,
   "id": "7e2c36ee",
   "metadata": {
    "ExecuteTime": {
     "end_time": "2022-05-11T20:33:30.747323Z",
     "start_time": "2022-05-11T20:33:30.739341Z"
    }
   },
   "outputs": [
    {
     "data": {
      "text/plain": [
       "padre\n",
       "15     0.000000\n",
       "16     0.055556\n",
       "17     0.010101\n",
       "18     0.039352\n",
       "19     0.035556\n",
       "         ...   \n",
       "96          NaN\n",
       "97          NaN\n",
       "98          NaN\n",
       "99          NaN\n",
       "100         NaN\n",
       "Length: 86, dtype: float64"
      ]
     },
     "execution_count": 83,
     "metadata": {},
     "output_type": "execute_result"
    }
   ],
   "source": [
    "m=((((hijos_papi*hijos_papi.columns)).sum(axis=1)/hijos_papi.sum(axis=1))/18)\n",
    "m"
   ]
  },
  {
   "cell_type": "code",
   "execution_count": 84,
   "id": "48c7a49a",
   "metadata": {
    "ExecuteTime": {
     "end_time": "2022-05-11T20:33:32.508986Z",
     "start_time": "2022-05-11T20:33:32.498976Z"
    }
   },
   "outputs": [
    {
     "data": {
      "text/plain": [
       "padre\n",
       "15     0.000000\n",
       "16     0.055556\n",
       "17     0.021427\n",
       "18     0.041859\n",
       "19     0.046825\n",
       "         ...   \n",
       "96          NaN\n",
       "97          NaN\n",
       "98          NaN\n",
       "99          NaN\n",
       "100         NaN\n",
       "Length: 86, dtype: float64"
      ]
     },
     "execution_count": 84,
     "metadata": {},
     "output_type": "execute_result"
    }
   ],
   "source": [
    "s=(np.sqrt((hijos_papi*(hijos_papi.columns)**2).sum(axis=1)/hijos_papi.sum(axis=1)-((hijos_papi*(hijos_papi.columns)).sum(axis=1)/hijos_papi.sum(axis=1))**2)/18)\n",
    "s"
   ]
  },
  {
   "cell_type": "code",
   "execution_count": 85,
   "id": "bff6d8e3",
   "metadata": {
    "ExecuteTime": {
     "end_time": "2022-05-11T20:33:34.627543Z",
     "start_time": "2022-05-11T20:33:34.516112Z"
    },
    "code_folding": [
     0,
     2,
     4,
     6,
     8,
     10,
     12,
     14,
     29,
     35,
     49,
     55,
     69,
     85,
     105,
     125
    ]
   },
   "outputs": [],
   "source": [
    "def basic(x,a):\n",
    "    return a\n",
    "def logagrowth(x,a,b,c):\n",
    "    return np.exp(np.log(c+x)-np.log(a+(b*x)))\n",
    "def exp_logagrowht(x,a,b):\n",
    "    return a+(b*x)\n",
    "def trinomio(x,a,b,c,d):\n",
    "    return a+b*x+c*x**2+d*x**3\n",
    "def cuadrado(x,a,b,c):\n",
    "    return a+b*x+c*x**2\n",
    "def polinomio4(x,a,b,c,d,e):\n",
    "    return a+b*x+c*x**2+d*x**3+e*x**4\n",
    "def polinomio5(x,a,b,c,d,e, f):\n",
    "    return a+b*x+c*x**2+d*x**3+e*x**4+f*x**5\n",
    "def approximacion_basic(serie,a_inf,a_sup,sample):\n",
    "    serie_df=pd.DataFrame(serie.loc[a_inf:a_sup])\n",
    "    serie_df.columns=['serie']\n",
    "    serie_df['age']=serie_df.index\n",
    "    serie_df['sample']=sample.loc[a_inf:a_sup]\n",
    "    serie_df['sigma']=1/(serie_df['sample']/serie_df['sample'].max())\n",
    "    test=scipy.optimize.curve_fit(basic,xdata=range(a_inf,a_sup+1),ydata=serie_df.loc[a_inf:a_sup]['serie'],\n",
    "                          sigma=serie_df.loc[a_inf:a_sup]['sigma'],absolute_sigma=False)[0]\n",
    "    serie_df['smooth']=serie_df.loc[a_inf:a_sup]['age'].apply(basic,args=([test[0]]))\n",
    "    for i in serie_df.index:\n",
    "        serie_df['smooth'].loc[i]*=(serie_df['smooth'].loc[i]>0)\n",
    "    serie_df['serie'].plot(kind='line').axes.set_xlim(a_inf,a_sup)\n",
    "    serie_df['smooth'].plot(kind='line').set_xlim(a_inf,a_sup)\n",
    "    ppl.savefig('smooth.png')\n",
    "    return serie_df\n",
    "def approximacion_curvas_logagrowth(serie,a_inf,a_sup,sample, a_inf1,a_sup1):\n",
    "    serie_df=pd.DataFrame(serie.loc[a_inf:a_sup])\n",
    "    serie_df.columns=['serie']\n",
    "    serie_df['age']=serie_df.index\n",
    "    serie_df['sample']=sample.loc[a_inf:a_sup]\n",
    "    serie_df['sigma']=1/(serie_df['sample']/serie_df['sample'].max())\n",
    "    test=scipy.optimize.curve_fit(logagrowth,xdata=range(a_inf1,a_sup1+1),ydata=serie_df.loc[a_inf1:a_sup1]['serie'],\n",
    "                          sigma=serie_df.loc[a_inf1:a_sup1]['sigma'],absolute_sigma=False)[0]\n",
    "    serie_df['smooth']=serie_df.loc[a_inf:a_sup]['age'].apply(logagrowth,args=(test[0],test[1],test[2]))\n",
    "    for i in serie_df.index:\n",
    "        serie_df['smooth'].loc[i]*=(serie_df['smooth'].loc[i]<1)\n",
    "    serie_df['smooth']=serie_df['smooth'].map({0:1}).fillna(serie_df['smooth'])\n",
    "\n",
    "    for i in serie_df.index:\n",
    "        serie_df['smooth'].loc[i]*=(serie_df['smooth'].loc[i]>0)\n",
    "    \n",
    "    serie_df['serie'].plot(kind='line').axes.set_xlim(a_inf,a_sup)\n",
    "    serie_df['smooth'].plot(kind='line').set_xlim(a_inf,a_sup)\n",
    "    ppl.savefig('smooth.png')\n",
    "    return serie_df\n",
    "def approximacion_curvas_e_logagrowth(serie,a_inf,a_sup,sample, a_inf1,a_sup1):\n",
    "    serie_df=pd.DataFrame(serie.loc[a_inf:a_sup])\n",
    "    serie_df.columns=['serie']\n",
    "    serie_df['age']=serie_df.index\n",
    "    serie_df['sample']=sample.loc[a_inf:a_sup]\n",
    "    serie_df['sigma']=1/(serie_df['sample']/serie_df['sample'].max())\n",
    "    test=scipy.optimize.curve_fit(exp_logagrowht,xdata=range(a_inf1,a_sup1+1),ydata=serie_df.loc[a_inf1:a_sup1]['serie'],\n",
    "                          sigma=serie_df.loc[a_inf1:a_sup1]['sigma'],absolute_sigma=False)[0]\n",
    "    serie_df['smooth']=serie_df.loc[a_inf:a_sup]['age'].apply(exp_logagrowht,args=(test[0],test[1]))\n",
    "    for i in serie_df.index:\n",
    "        serie_df['smooth'].loc[i]*=1-(serie_df['smooth'].loc[i]>1)\n",
    "    serie_df['smooth']=serie_df['smooth'].map({0:1}).fillna(serie_df['smooth'])\n",
    "\n",
    "    for i in serie_df.index:\n",
    "        serie_df['smooth'].loc[i]*=(serie_df['smooth'].loc[i]>0)\n",
    "\n",
    "    serie_df['serie'].plot(kind='line').axes.set_xlim(a_inf,a_sup)\n",
    "    serie_df['smooth'].plot(kind='line').set_xlim(a_inf,a_sup)\n",
    "    ppl.savefig('smooth.png')\n",
    "    return serie_df\n",
    "def approximacion_curvas_trinomio(serie,a_inf,a_sup,sample, a_inf1,a_sup1):\n",
    "    serie_df=pd.DataFrame(serie.loc[a_inf:a_sup])\n",
    "    serie_df.columns=['serie']\n",
    "    serie_df['age']=serie_df.index\n",
    "    serie_df['sample']=sample.loc[a_inf:a_sup]\n",
    "    serie_df['sigma']=1/(serie_df['sample']/serie_df['sample'].max())\n",
    "    test=scipy.optimize.curve_fit(trinomio,xdata=pd.Series(range(a_inf1,a_sup1+1)),ydata=serie_df.loc[a_inf1:a_sup1]['serie'],\n",
    "                                  sigma=serie_df.loc[a_inf1:a_sup1]['sigma'],absolute_sigma=False)[0]\n",
    "    serie_df['smooth']=serie_df.loc[a_inf:a_sup]['age'].apply(trinomio,args=(test[0],test[1],test[2],test[3]))\n",
    "    for i in serie_df.index:\n",
    "        serie_df['smooth'].loc[i]*=(serie_df['smooth'].loc[i]>0)  \n",
    "        \n",
    "    serie_df['serie'].plot(kind='line').axes.set_xlim(a_inf,a_sup)\n",
    "    serie_df['smooth'].plot(kind='line').set_xlim(a_inf,a_sup)\n",
    "    ppl.savefig('smooth.png')\n",
    "    return serie_df\n",
    "def approximacion_curvas_cuadrado(serie,a_inf,a_sup,sample, a_inf1,a_sup1):\n",
    "    serie_df=pd.DataFrame(serie.loc[a_inf:a_sup])\n",
    "    serie_df.columns=['serie']\n",
    "    serie_df['age']=serie_df.index\n",
    "    serie_df['sample']=sample.loc[a_inf:a_sup]\n",
    "    serie_df['sigma']=1/(serie_df['sample']/serie_df['sample'].max())\n",
    "    test=scipy.optimize.curve_fit(cuadrado,xdata=pd.Series(range(a_inf1,a_sup1+1)),ydata=serie_df.loc[a_inf1:a_sup1]['serie'],\n",
    "                          sigma=serie_df.loc[a_inf1:a_sup1]['sigma'],absolute_sigma=False)[0]\n",
    "    serie_df['smooth']=serie_df.loc[a_inf:a_sup]['age'].apply(cuadrado,args=(test[0],test[1],test[2]))\n",
    "    for i in serie_df.index:\n",
    "        serie_df['smooth'].loc[i]*=1-(serie_df['smooth'].loc[i]>1)\n",
    "    serie_df['smooth']=serie_df['smooth'].map({0:1}).fillna(serie_df['smooth'])\n",
    "\n",
    "    for i in serie_df.index:\n",
    "        serie_df['smooth'].loc[i]*=(serie_df['smooth'].loc[i]>0)\n",
    "\n",
    "    serie_df['serie'].plot(kind='line').axes.set_xlim(a_inf,a_sup)\n",
    "    serie_df['smooth'].plot(kind='line').set_xlim(a_inf,a_sup)\n",
    "    ppl.savefig('smooth.png')\n",
    "    return serie_df\n",
    "def approximacion_curvas_polinomio4(serie,a_inf,a_sup,sample, a_inf1,a_sup1):\n",
    "    serie_df=pd.DataFrame(serie.loc[a_inf:a_sup])\n",
    "    serie_df.columns=['serie']\n",
    "    serie_df['age']=serie_df.index\n",
    "    serie_df['sample']=sample.loc[a_inf:a_sup]\n",
    "    serie_df['sigma']=1/(serie_df['sample']/serie_df['sample'].max())\n",
    "    test=scipy.optimize.curve_fit(polinomio4,xdata=pd.Series(range(a_inf1,a_sup1+1)),ydata=serie_df.loc[a_inf1:a_sup1]['serie'],\n",
    "                          sigma=serie_df.loc[a_inf1:a_sup1]['sigma'],absolute_sigma=False)[0]\n",
    "    serie_df['smooth']=serie_df.loc[a_inf:a_sup]['age'].apply(polinomio4,args=(test[0],test[1],test[2],test[3],test[4]))\n",
    "    for i in serie_df.index:\n",
    "        serie_df['smooth'].loc[i]*=1-(serie_df['smooth'].loc[i]>1)\n",
    "    serie_df['smooth']=serie_df['smooth'].map({0:1}).fillna(serie_df['smooth'])\n",
    "\n",
    "    for i in serie_df.index:\n",
    "        serie_df['smooth'].loc[i]*=(serie_df['smooth'].loc[i]>0)\n",
    "\n",
    "    serie_df['serie'].plot(kind='line').axes.set_xlim(a_inf,a_sup)\n",
    "    serie_df['smooth'].plot(kind='line').set_xlim(a_inf,a_sup)\n",
    "    ppl.savefig('smooth.png')\n",
    "    return serie_df\n",
    "def approximacion_curvas_polinomio5(serie,a_inf,a_sup,sample, a_inf1,a_sup1):\n",
    "    serie_df=pd.DataFrame(serie.loc[a_inf:a_sup])\n",
    "    serie_df.columns=['serie']\n",
    "    serie_df['age']=serie_df.index\n",
    "    serie_df['sample']=sample.loc[a_inf:a_sup]\n",
    "    serie_df['sigma']=1/(serie_df['sample']/serie_df['sample'].max())\n",
    "    test=scipy.optimize.curve_fit(polinomio5,xdata=pd.Series(range(a_inf1,a_sup1+1)),ydata=serie_df.loc[a_inf1:a_sup1]['serie'],\n",
    "                          sigma=serie_df.loc[a_inf1:a_sup1]['sigma'],absolute_sigma=False)[0]\n",
    "    serie_df['smooth']=serie_df.loc[a_inf:a_sup]['age'].apply(polinomio5,args=(test[0],test[1],test[2],test[3],test[4], test[5]))\n",
    "    for i in serie_df.index:\n",
    "        serie_df['smooth'].loc[i]*=1-(serie_df['smooth'].loc[i]>1)\n",
    "    serie_df['smooth']=serie_df['smooth'].map({0:1}).fillna(serie_df['smooth'])\n",
    "\n",
    "    for i in serie_df.index:\n",
    "        serie_df['smooth'].loc[i]*=(serie_df['smooth'].loc[i]>0)\n",
    "\n",
    "    serie_df['serie'].plot(kind='line').axes.set_xlim(a_inf,a_sup)\n",
    "    serie_df['smooth'].plot(kind='line').set_xlim(a_inf,a_sup)\n",
    "    ppl.savefig('smooth.png')\n",
    "    return serie_df"
   ]
  },
  {
   "cell_type": "code",
   "execution_count": 86,
   "id": "e88d801c",
   "metadata": {
    "ExecuteTime": {
     "end_time": "2022-05-11T20:33:36.050675Z",
     "start_time": "2022-05-11T20:33:35.435540Z"
    }
   },
   "outputs": [
    {
     "name": "stderr",
     "output_type": "stream",
     "text": [
      "C:\\ProgramData\\Anaconda3\\lib\\site-packages\\pandas\\core\\indexing.py:1732: SettingWithCopyWarning: \n",
      "A value is trying to be set on a copy of a slice from a DataFrame\n",
      "\n",
      "See the caveats in the documentation: https://pandas.pydata.org/pandas-docs/stable/user_guide/indexing.html#returning-a-view-versus-a-copy\n",
      "  self._setitem_single_block(indexer, value, name)\n"
     ]
    },
    {
     "data": {
      "text/plain": [
       "padre\n",
       "15     0.043736\n",
       "16     0.064272\n",
       "17     0.084808\n",
       "18     0.105345\n",
       "19     0.125881\n",
       "         ...   \n",
       "96     1.000000\n",
       "97     1.000000\n",
       "98     1.000000\n",
       "99     1.000000\n",
       "100    1.000000\n",
       "Name: smooth, Length: 86, dtype: float64"
      ]
     },
     "execution_count": 86,
     "metadata": {},
     "output_type": "execute_result"
    },
    {
     "data": {
      "image/png": "[encoded data removed]",
      "text/plain": [
       "<Figure size 432x288 with 1 Axes>"
      ]
     },
     "metadata": {
      "needs_background": "light"
     },
     "output_type": "display_data"
    }
   ],
   "source": [
    "#%reload_ext rpy2.ipython\n",
    "m_hijos_p=approximacion_curvas_e_logagrowth(m.fillna(0),a_inf=15,a_sup=100,sample=hijos_papi.sum(axis=1).reindex(range(15,101)).fillna(0),a_inf1=15, a_sup1=55)['smooth']\n",
    "#m_hijos_p=m_hijos_p.reset_index()\n",
    "m_hijos_p"
   ]
  },
  {
   "cell_type": "code",
   "execution_count": null,
   "id": "75e297bb",
   "metadata": {
    "ExecuteTime": {
     "end_time": "2022-05-03T21:59:08.359058Z",
     "start_time": "2022-05-03T21:59:08.344057Z"
    }
   },
   "outputs": [],
   "source": [
    "\"\"\"%%R -i m_hijos_p\n",
    "b <- as.data.table(m_hijos_p)\n",
    "proy <- data.table( age = 15:100 )\n",
    "#plot(b$age, b$serie)\n",
    "ud_smooth_model <- lm(  serie ~ bs( age, df= 4, degree = 3    #5 y 4\n",
    "                                       , knots = c( 40.5)  #76.5\n",
    "                                       ), \n",
    "                          weights = sigma,\n",
    "                          data = b[age>=18  & age<=75] )  #37 y 90\n",
    "summary(ud_smooth_model)\n",
    "proy[ , smooth_bs := predict( object = ud_smooth_model, \n",
    "                                  newdata = proy ) ]\n",
    "plot(b$age, b$serie);points(proy$age, proy$smooth_bs, col=\"red\", type = \"l\")\n",
    "plot(proy$age, proy$smooth_bs, col=\"red\")\n",
    "m_hijos_p1 <- cbind( ind=seq(15,100),merge( m_hijos_p, proy, by=c('age'), all.x=T))\n",
    "col_name <- colnames(m_hijos_p1)\"\"\""
   ]
  },
  {
   "cell_type": "code",
   "execution_count": null,
   "id": "d34b662e",
   "metadata": {
    "ExecuteTime": {
     "end_time": "2022-05-03T21:59:08.438018Z",
     "start_time": "2022-05-03T21:59:08.361049Z"
    }
   },
   "outputs": [],
   "source": [
    "\"\"\"\"%reload_ext rpy2.ipython\n",
    "m_hijos_p=pd.DataFrame( robjects.r['m_hijos_p1']).transpose()\n",
    "m_hijos_p.columns = robjects.r['col_name']\n",
    "m_hijos_p=m_hijos_p.set_index('padre').drop(['ind'], axis=1)\n",
    "m_hijos_p\"\"\""
   ]
  },
  {
   "cell_type": "code",
   "execution_count": null,
   "id": "feff794f",
   "metadata": {
    "ExecuteTime": {
     "end_time": "2022-05-03T21:59:08.533965Z",
     "start_time": "2022-05-03T21:59:08.439004Z"
    }
   },
   "outputs": [],
   "source": [
    "#m_hijos_p.plot(x='age', y=['serie','smooth_bs', 'smooth'])"
   ]
  },
  {
   "cell_type": "code",
   "execution_count": null,
   "id": "83875be2",
   "metadata": {
    "ExecuteTime": {
     "end_time": "2022-05-03T21:59:08.627907Z",
     "start_time": "2022-05-03T21:59:08.535951Z"
    }
   },
   "outputs": [],
   "source": [
    "#aux=pd.DataFrame(m_hijos_p).reset_index()\n",
    "#a=5\n",
    "#b=3\n",
    "#noot=(18,100)\n",
    "#x=np.array( aux['padre'])\n",
    "#y=np.array( aux['serie'])\n",
    "#sy=np.array( aux['smooth'])\n",
    "#transformed_x=dmatrix(\"bs(x, df=a, degree=b, knots=noot,include_intercept=False)\", {\"x\": x},return_type='dataframe')\n",
    "#fit=sm.GLM(y,transformed_x).fit()\n",
    "#aux['pred'] = fit.predict(dmatrix(\"bs(x, df=a,degree=b, knots=noot,include_intercept=False)\", {\"x\": x}, return_type='dataframe'))\n",
    "#ppl.plot(aux['age'],aux['pred'],color='g', label='Natural spline')\n",
    "#ppl.plot(aux['age'],aux['serie'], color='r')\n",
    "#ppl.plot(aux['age'],aux['smooth'], color='r')\n",
    "#aux"
   ]
  },
  {
   "cell_type": "code",
   "execution_count": 87,
   "id": "b4278177",
   "metadata": {
    "ExecuteTime": {
     "end_time": "2022-05-11T20:33:39.323381Z",
     "start_time": "2022-05-11T20:33:39.084571Z"
    }
   },
   "outputs": [
    {
     "name": "stderr",
     "output_type": "stream",
     "text": [
      "C:\\ProgramData\\Anaconda3\\lib\\site-packages\\pandas\\core\\indexing.py:1732: SettingWithCopyWarning: \n",
      "A value is trying to be set on a copy of a slice from a DataFrame\n",
      "\n",
      "See the caveats in the documentation: https://pandas.pydata.org/pandas-docs/stable/user_guide/indexing.html#returning-a-view-versus-a-copy\n",
      "  self._setitem_single_block(indexer, value, name)\n"
     ]
    },
    {
     "data": {
      "text/plain": [
       "padre\n",
       "15     0.036729\n",
       "16     0.039596\n",
       "17     0.042463\n",
       "18     0.045330\n",
       "19     0.048197\n",
       "         ...   \n",
       "96     0.268965\n",
       "97     0.271833\n",
       "98     0.274700\n",
       "99     0.277567\n",
       "100    0.280434\n",
       "Name: smooth, Length: 86, dtype: float64"
      ]
     },
     "execution_count": 87,
     "metadata": {},
     "output_type": "execute_result"
    },
    {
     "data": {
      "image/png": "[encoded data removed]",
      "text/plain": [
       "<Figure size 432x288 with 1 Axes>"
      ]
     },
     "metadata": {
      "needs_background": "light"
     },
     "output_type": "display_data"
    }
   ],
   "source": [
    "s_hijos_p=approximacion_curvas_e_logagrowth(s.fillna(0),a_inf=15,a_sup=100,sample=hijos_papi.sum(axis=1).reindex(range(15,101)).fillna(0), a_inf1=75, a_sup1=85)['smooth']\n",
    "#s_hijos_p=s_hijos_p.reset_index()\n",
    "s_hijos_p"
   ]
  },
  {
   "cell_type": "code",
   "execution_count": 88,
   "id": "afe75396",
   "metadata": {
    "ExecuteTime": {
     "end_time": "2022-05-11T20:33:42.315283Z",
     "start_time": "2022-05-11T20:33:41.732079Z"
    }
   },
   "outputs": [
    {
     "name": "stderr",
     "output_type": "stream",
     "text": [
      "C:\\Users\\CRISTI~1.GUA\\AppData\\Local\\Temp/ipykernel_8636/3642829450.py:4: RuntimeWarning: invalid value encountered in log\n",
      "  return np.exp(np.log(c+x)-np.log(a+(b*x)))\n",
      "C:\\ProgramData\\Anaconda3\\lib\\site-packages\\pandas\\core\\indexing.py:1732: SettingWithCopyWarning: \n",
      "A value is trying to be set on a copy of a slice from a DataFrame\n",
      "\n",
      "See the caveats in the documentation: https://pandas.pydata.org/pandas-docs/stable/user_guide/indexing.html#returning-a-view-versus-a-copy\n",
      "  self._setitem_single_block(indexer, value, name)\n",
      "C:\\ProgramData\\Anaconda3\\lib\\site-packages\\pandas\\core\\indexing.py:1732: SettingWithCopyWarning: \n",
      "A value is trying to be set on a copy of a slice from a DataFrame\n",
      "\n",
      "See the caveats in the documentation: https://pandas.pydata.org/pandas-docs/stable/user_guide/indexing.html#returning-a-view-versus-a-copy\n",
      "  self._setitem_single_block(indexer, value, name)\n"
     ]
    },
    {
     "data": {
      "image/png": "[encoded data removed]",
      "text/plain": [
       "<Figure size 864x360 with 1 Axes>"
      ]
     },
     "metadata": {
      "needs_background": "light"
     },
     "output_type": "display_data"
    }
   ],
   "source": [
    "ppl.figure(figsize=(12,5))\n",
    "ppl.xlabel('Edad padre')\n",
    "m.plot()\n",
    "\n",
    "m_hijos_p=approximacion_curvas_logagrowth(m.fillna(0),a_inf=15,a_sup=100,sample=hijos_papi.sum(axis=1).reindex(range(15,101)).fillna(0), a_inf1=15, a_sup1=55)['smooth']\n",
    "s_hijos_p=approximacion_curvas_e_logagrowth(s.fillna(0),a_inf=15,a_sup=100,sample=hijos_papi.sum(axis=1).reindex(range(15,101)).fillna(0), a_inf1=75, a_sup1=85)['smooth']\n",
    "\n",
    "\n",
    "ax1 =m_hijos_p.plot(color='blue',label='media')\n",
    "ax2 =s_hijos_p.plot(color='red',label='desv.stand')\n",
    "\n",
    "ax1.legend(loc=1)\n",
    "ax2.legend(loc=2)\n",
    "\n",
    "ppl.show()"
   ]
  },
  {
   "cell_type": "code",
   "execution_count": 89,
   "id": "bc807289",
   "metadata": {
    "ExecuteTime": {
     "end_time": "2022-05-11T20:33:46.001282Z",
     "start_time": "2022-05-11T20:33:45.965302Z"
    }
   },
   "outputs": [
    {
     "data": {
      "text/plain": [
       "padre\n",
       "15    -4.712261e-09\n",
       "16     3.536318e-01\n",
       "17     1.223065e+00\n",
       "18     2.354267e+00\n",
       "19     3.590722e+00\n",
       "           ...     \n",
       "96    -1.000000e+00\n",
       "97    -1.000000e+00\n",
       "98    -1.000000e+00\n",
       "99    -1.000000e+00\n",
       "100   -1.000000e+00\n",
       "Name: smooth, Length: 86, dtype: float64"
      ]
     },
     "execution_count": 89,
     "metadata": {},
     "output_type": "execute_result"
    }
   ],
   "source": [
    "alpha_hijos_p=((1-m_hijos_p)/(s_hijos_p**2)-1/m_hijos_p)*m_hijos_p**2\n",
    "alpha_hijos_p"
   ]
  },
  {
   "cell_type": "code",
   "execution_count": 90,
   "id": "bdf05478",
   "metadata": {
    "ExecuteTime": {
     "end_time": "2022-05-11T20:33:47.258494Z",
     "start_time": "2022-05-11T20:33:47.139934Z"
    }
   },
   "outputs": [
    {
     "data": {
      "text/plain": [
       "<AxesSubplot:xlabel='padre'>"
      ]
     },
     "execution_count": 90,
     "metadata": {},
     "output_type": "execute_result"
    },
    {
     "data": {
      "image/png": "[encoded data removed]",
      "text/plain": [
       "<Figure size 432x288 with 1 Axes>"
      ]
     },
     "metadata": {
      "needs_background": "light"
     },
     "output_type": "display_data"
    }
   ],
   "source": [
    "alpha_hijos_p.plot()"
   ]
  },
  {
   "cell_type": "code",
   "execution_count": 91,
   "id": "3d631ed4",
   "metadata": {
    "ExecuteTime": {
     "end_time": "2022-05-11T20:33:49.780383Z",
     "start_time": "2022-05-11T20:33:49.773371Z"
    }
   },
   "outputs": [
    {
     "data": {
      "text/plain": [
       "padre\n",
       "15     -0.999997\n",
       "16     13.986994\n",
       "17     23.678687\n",
       "18     29.732901\n",
       "19     33.264382\n",
       "         ...    \n",
       "96     -0.000000\n",
       "97     -0.000000\n",
       "98     -0.000000\n",
       "99     -0.000000\n",
       "100    -0.000000\n",
       "Name: smooth, Length: 86, dtype: float64"
      ]
     },
     "execution_count": 91,
     "metadata": {},
     "output_type": "execute_result"
    }
   ],
   "source": [
    "beta_hijos_p=alpha_hijos_p*(1/m_hijos_p-1)\n",
    "beta_hijos_p"
   ]
  },
  {
   "cell_type": "code",
   "execution_count": 92,
   "id": "ba87397d",
   "metadata": {
    "ExecuteTime": {
     "end_time": "2022-05-11T20:33:52.975751Z",
     "start_time": "2022-05-11T20:33:52.860954Z"
    }
   },
   "outputs": [
    {
     "data": {
      "text/plain": [
       "<AxesSubplot:xlabel='padre'>"
      ]
     },
     "execution_count": 92,
     "metadata": {},
     "output_type": "execute_result"
    },
    {
     "data": {
      "image/png": "[encoded data removed]",
      "text/plain": [
       "<Figure size 432x288 with 1 Axes>"
      ]
     },
     "metadata": {
      "needs_background": "light"
     },
     "output_type": "display_data"
    }
   ],
   "source": [
    "beta_hijos_p.plot()"
   ]
  },
  {
   "cell_type": "code",
   "execution_count": 93,
   "id": "050e6fe3",
   "metadata": {
    "ExecuteTime": {
     "end_time": "2022-05-11T20:33:55.541158Z",
     "start_time": "2022-05-11T20:33:55.460738Z"
    }
   },
   "outputs": [],
   "source": [
    "children=scipy.stats.beta(alpha_hijos_p,beta_hijos_p,0,19)"
   ]
  },
  {
   "cell_type": "code",
   "execution_count": 94,
   "id": "00179d0b",
   "metadata": {
    "ExecuteTime": {
     "end_time": "2022-05-11T20:34:03.368077Z",
     "start_time": "2022-05-11T20:33:56.285026Z"
    }
   },
   "outputs": [
    {
     "data": {
      "text/plain": [
       "<AxesSubplot:>"
      ]
     },
     "execution_count": 94,
     "metadata": {},
     "output_type": "execute_result"
    },
    {
     "data": {
      "image/png": "[encoded data removed]",
      "text/plain": [
       "<Figure size 432x288 with 1 Axes>"
      ]
     },
     "metadata": {
      "needs_background": "light"
     },
     "output_type": "display_data"
    }
   ],
   "source": [
    "pd.Series(scipy.stats.beta(alpha_hijos_p,beta_hijos_p,0,19).cdf(18)-scipy.stats.beta(alpha_hijos_p,beta_hijos_p,0,19).cdf(17)).plot()"
   ]
  },
  {
   "cell_type": "code",
   "execution_count": 95,
   "id": "c23e0f38",
   "metadata": {
    "ExecuteTime": {
     "end_time": "2022-05-11T20:34:06.470050Z",
     "start_time": "2022-05-11T20:34:06.366007Z"
    }
   },
   "outputs": [
    {
     "data": {
      "text/plain": [
       "<AxesSubplot:>"
      ]
     },
     "execution_count": 95,
     "metadata": {},
     "output_type": "execute_result"
    },
    {
     "data": {
      "image/png": "[encoded data removed]",
      "text/plain": [
       "<Figure size 432x288 with 1 Axes>"
      ]
     },
     "metadata": {
      "needs_background": "light"
     },
     "output_type": "display_data"
    }
   ],
   "source": [
    "pd.Series(scipy.stats.beta(alpha_hijos_p,beta_hijos_p,0,19).cdf(18)).plot()"
   ]
  },
  {
   "cell_type": "code",
   "execution_count": 96,
   "id": "16e82678",
   "metadata": {
    "ExecuteTime": {
     "end_time": "2022-05-11T20:34:08.549449Z",
     "start_time": "2022-05-11T20:34:08.510449Z"
    }
   },
   "outputs": [],
   "source": [
    "hijos_dist=pd.DataFrame(columns=range(0,20))\n",
    "for c in hijos_dist.columns:\n",
    "    hijos_dist[c]=pd.Series(children.cdf(c+1)-children.cdf(c),index=range(15,101)).fillna(0)"
   ]
  },
  {
   "cell_type": "code",
   "execution_count": 97,
   "id": "7c3d3b26",
   "metadata": {
    "ExecuteTime": {
     "end_time": "2022-05-11T20:34:09.736577Z",
     "start_time": "2022-05-11T20:34:09.631545Z"
    }
   },
   "outputs": [
    {
     "data": {
      "text/html": [
       "<div>\n",
       "<style scoped>\n",
       "    .dataframe tbody tr th:only-of-type {\n",
       "        vertical-align: middle;\n",
       "    }\n",
       "\n",
       "    .dataframe tbody tr th {\n",
       "        vertical-align: top;\n",
       "    }\n",
       "\n",
       "    .dataframe thead th {\n",
       "        text-align: right;\n",
       "    }\n",
       "</style>\n",
       "<table border=\"1\" class=\"dataframe\">\n",
       "  <thead>\n",
       "    <tr style=\"text-align: right;\">\n",
       "      <th></th>\n",
       "      <th>0</th>\n",
       "      <th>1</th>\n",
       "      <th>2</th>\n",
       "      <th>3</th>\n",
       "      <th>4</th>\n",
       "      <th>5</th>\n",
       "      <th>6</th>\n",
       "      <th>7</th>\n",
       "      <th>8</th>\n",
       "      <th>9</th>\n",
       "      <th>10</th>\n",
       "      <th>11</th>\n",
       "      <th>12</th>\n",
       "      <th>13</th>\n",
       "      <th>14</th>\n",
       "      <th>15</th>\n",
       "      <th>16</th>\n",
       "      <th>17</th>\n",
       "      <th>18</th>\n",
       "      <th>19</th>\n",
       "    </tr>\n",
       "  </thead>\n",
       "  <tbody>\n",
       "    <tr>\n",
       "      <th>15</th>\n",
       "      <td>0.000000</td>\n",
       "      <td>0.000000</td>\n",
       "      <td>0.000000</td>\n",
       "      <td>0.000000</td>\n",
       "      <td>0.000000</td>\n",
       "      <td>0.000000</td>\n",
       "      <td>0.000000</td>\n",
       "      <td>0.000000</td>\n",
       "      <td>0.000000</td>\n",
       "      <td>0.000000e+00</td>\n",
       "      <td>0.000000e+00</td>\n",
       "      <td>0.000000e+00</td>\n",
       "      <td>0.000000e+00</td>\n",
       "      <td>0.000000e+00</td>\n",
       "      <td>0.000000e+00</td>\n",
       "      <td>0.000000e+00</td>\n",
       "      <td>0.000000e+00</td>\n",
       "      <td>0.000000e+00</td>\n",
       "      <td>0.0</td>\n",
       "      <td>0.0</td>\n",
       "    </tr>\n",
       "    <tr>\n",
       "      <th>16</th>\n",
       "      <td>0.849116</td>\n",
       "      <td>0.100095</td>\n",
       "      <td>0.032810</td>\n",
       "      <td>0.011667</td>\n",
       "      <td>0.004172</td>\n",
       "      <td>0.001452</td>\n",
       "      <td>0.000482</td>\n",
       "      <td>0.000150</td>\n",
       "      <td>0.000043</td>\n",
       "      <td>1.098460e-05</td>\n",
       "      <td>2.470361e-06</td>\n",
       "      <td>4.696831e-07</td>\n",
       "      <td>7.191630e-08</td>\n",
       "      <td>8.263953e-09</td>\n",
       "      <td>6.392307e-10</td>\n",
       "      <td>2.777634e-11</td>\n",
       "      <td>4.847234e-13</td>\n",
       "      <td>1.665335e-15</td>\n",
       "      <td>0.0</td>\n",
       "      <td>0.0</td>\n",
       "    </tr>\n",
       "    <tr>\n",
       "      <th>17</th>\n",
       "      <td>0.640558</td>\n",
       "      <td>0.256233</td>\n",
       "      <td>0.076857</td>\n",
       "      <td>0.020324</td>\n",
       "      <td>0.004800</td>\n",
       "      <td>0.001008</td>\n",
       "      <td>0.000186</td>\n",
       "      <td>0.000030</td>\n",
       "      <td>0.000004</td>\n",
       "      <td>4.384443e-07</td>\n",
       "      <td>3.784413e-08</td>\n",
       "      <td>2.422972e-09</td>\n",
       "      <td>1.063103e-10</td>\n",
       "      <td>2.846834e-12</td>\n",
       "      <td>3.896883e-14</td>\n",
       "      <td>2.220446e-16</td>\n",
       "      <td>0.000000e+00</td>\n",
       "      <td>0.000000e+00</td>\n",
       "      <td>0.0</td>\n",
       "      <td>0.0</td>\n",
       "    </tr>\n",
       "    <tr>\n",
       "      <th>18</th>\n",
       "      <td>0.383813</td>\n",
       "      <td>0.405284</td>\n",
       "      <td>0.157449</td>\n",
       "      <td>0.042577</td>\n",
       "      <td>0.009057</td>\n",
       "      <td>0.001569</td>\n",
       "      <td>0.000222</td>\n",
       "      <td>0.000026</td>\n",
       "      <td>0.000002</td>\n",
       "      <td>1.613247e-07</td>\n",
       "      <td>8.172909e-09</td>\n",
       "      <td>2.818719e-10</td>\n",
       "      <td>6.005529e-12</td>\n",
       "      <td>6.861178e-14</td>\n",
       "      <td>2.220446e-16</td>\n",
       "      <td>0.000000e+00</td>\n",
       "      <td>0.000000e+00</td>\n",
       "      <td>0.000000e+00</td>\n",
       "      <td>0.0</td>\n",
       "      <td>0.0</td>\n",
       "    </tr>\n",
       "    <tr>\n",
       "      <th>19</th>\n",
       "      <td>0.175557</td>\n",
       "      <td>0.444293</td>\n",
       "      <td>0.266555</td>\n",
       "      <td>0.088851</td>\n",
       "      <td>0.020615</td>\n",
       "      <td>0.003593</td>\n",
       "      <td>0.000482</td>\n",
       "      <td>0.000050</td>\n",
       "      <td>0.000004</td>\n",
       "      <td>2.200793e-07</td>\n",
       "      <td>8.673111e-09</td>\n",
       "      <td>2.201851e-10</td>\n",
       "      <td>3.236633e-12</td>\n",
       "      <td>2.342571e-14</td>\n",
       "      <td>1.110223e-16</td>\n",
       "      <td>0.000000e+00</td>\n",
       "      <td>0.000000e+00</td>\n",
       "      <td>0.000000e+00</td>\n",
       "      <td>0.0</td>\n",
       "      <td>0.0</td>\n",
       "    </tr>\n",
       "    <tr>\n",
       "      <th>...</th>\n",
       "      <td>...</td>\n",
       "      <td>...</td>\n",
       "      <td>...</td>\n",
       "      <td>...</td>\n",
       "      <td>...</td>\n",
       "      <td>...</td>\n",
       "      <td>...</td>\n",
       "      <td>...</td>\n",
       "      <td>...</td>\n",
       "      <td>...</td>\n",
       "      <td>...</td>\n",
       "      <td>...</td>\n",
       "      <td>...</td>\n",
       "      <td>...</td>\n",
       "      <td>...</td>\n",
       "      <td>...</td>\n",
       "      <td>...</td>\n",
       "      <td>...</td>\n",
       "      <td>...</td>\n",
       "      <td>...</td>\n",
       "    </tr>\n",
       "    <tr>\n",
       "      <th>96</th>\n",
       "      <td>0.000000</td>\n",
       "      <td>0.000000</td>\n",
       "      <td>0.000000</td>\n",
       "      <td>0.000000</td>\n",
       "      <td>0.000000</td>\n",
       "      <td>0.000000</td>\n",
       "      <td>0.000000</td>\n",
       "      <td>0.000000</td>\n",
       "      <td>0.000000</td>\n",
       "      <td>0.000000e+00</td>\n",
       "      <td>0.000000e+00</td>\n",
       "      <td>0.000000e+00</td>\n",
       "      <td>0.000000e+00</td>\n",
       "      <td>0.000000e+00</td>\n",
       "      <td>0.000000e+00</td>\n",
       "      <td>0.000000e+00</td>\n",
       "      <td>0.000000e+00</td>\n",
       "      <td>0.000000e+00</td>\n",
       "      <td>0.0</td>\n",
       "      <td>0.0</td>\n",
       "    </tr>\n",
       "    <tr>\n",
       "      <th>97</th>\n",
       "      <td>0.000000</td>\n",
       "      <td>0.000000</td>\n",
       "      <td>0.000000</td>\n",
       "      <td>0.000000</td>\n",
       "      <td>0.000000</td>\n",
       "      <td>0.000000</td>\n",
       "      <td>0.000000</td>\n",
       "      <td>0.000000</td>\n",
       "      <td>0.000000</td>\n",
       "      <td>0.000000e+00</td>\n",
       "      <td>0.000000e+00</td>\n",
       "      <td>0.000000e+00</td>\n",
       "      <td>0.000000e+00</td>\n",
       "      <td>0.000000e+00</td>\n",
       "      <td>0.000000e+00</td>\n",
       "      <td>0.000000e+00</td>\n",
       "      <td>0.000000e+00</td>\n",
       "      <td>0.000000e+00</td>\n",
       "      <td>0.0</td>\n",
       "      <td>0.0</td>\n",
       "    </tr>\n",
       "    <tr>\n",
       "      <th>98</th>\n",
       "      <td>0.000000</td>\n",
       "      <td>0.000000</td>\n",
       "      <td>0.000000</td>\n",
       "      <td>0.000000</td>\n",
       "      <td>0.000000</td>\n",
       "      <td>0.000000</td>\n",
       "      <td>0.000000</td>\n",
       "      <td>0.000000</td>\n",
       "      <td>0.000000</td>\n",
       "      <td>0.000000e+00</td>\n",
       "      <td>0.000000e+00</td>\n",
       "      <td>0.000000e+00</td>\n",
       "      <td>0.000000e+00</td>\n",
       "      <td>0.000000e+00</td>\n",
       "      <td>0.000000e+00</td>\n",
       "      <td>0.000000e+00</td>\n",
       "      <td>0.000000e+00</td>\n",
       "      <td>0.000000e+00</td>\n",
       "      <td>0.0</td>\n",
       "      <td>0.0</td>\n",
       "    </tr>\n",
       "    <tr>\n",
       "      <th>99</th>\n",
       "      <td>0.000000</td>\n",
       "      <td>0.000000</td>\n",
       "      <td>0.000000</td>\n",
       "      <td>0.000000</td>\n",
       "      <td>0.000000</td>\n",
       "      <td>0.000000</td>\n",
       "      <td>0.000000</td>\n",
       "      <td>0.000000</td>\n",
       "      <td>0.000000</td>\n",
       "      <td>0.000000e+00</td>\n",
       "      <td>0.000000e+00</td>\n",
       "      <td>0.000000e+00</td>\n",
       "      <td>0.000000e+00</td>\n",
       "      <td>0.000000e+00</td>\n",
       "      <td>0.000000e+00</td>\n",
       "      <td>0.000000e+00</td>\n",
       "      <td>0.000000e+00</td>\n",
       "      <td>0.000000e+00</td>\n",
       "      <td>0.0</td>\n",
       "      <td>0.0</td>\n",
       "    </tr>\n",
       "    <tr>\n",
       "      <th>100</th>\n",
       "      <td>0.000000</td>\n",
       "      <td>0.000000</td>\n",
       "      <td>0.000000</td>\n",
       "      <td>0.000000</td>\n",
       "      <td>0.000000</td>\n",
       "      <td>0.000000</td>\n",
       "      <td>0.000000</td>\n",
       "      <td>0.000000</td>\n",
       "      <td>0.000000</td>\n",
       "      <td>0.000000e+00</td>\n",
       "      <td>0.000000e+00</td>\n",
       "      <td>0.000000e+00</td>\n",
       "      <td>0.000000e+00</td>\n",
       "      <td>0.000000e+00</td>\n",
       "      <td>0.000000e+00</td>\n",
       "      <td>0.000000e+00</td>\n",
       "      <td>0.000000e+00</td>\n",
       "      <td>0.000000e+00</td>\n",
       "      <td>0.0</td>\n",
       "      <td>0.0</td>\n",
       "    </tr>\n",
       "  </tbody>\n",
       "</table>\n",
       "<p>86 rows × 20 columns</p>\n",
       "</div>"
      ],
      "text/plain": [
       "           0         1         2         3         4         5         6   \\\n",
       "15   0.000000  0.000000  0.000000  0.000000  0.000000  0.000000  0.000000   \n",
       "16   0.849116  0.100095  0.032810  0.011667  0.004172  0.001452  0.000482   \n",
       "17   0.640558  0.256233  0.076857  0.020324  0.004800  0.001008  0.000186   \n",
       "18   0.383813  0.405284  0.157449  0.042577  0.009057  0.001569  0.000222   \n",
       "19   0.175557  0.444293  0.266555  0.088851  0.020615  0.003593  0.000482   \n",
       "..        ...       ...       ...       ...       ...       ...       ...   \n",
       "96   0.000000  0.000000  0.000000  0.000000  0.000000  0.000000  0.000000   \n",
       "97   0.000000  0.000000  0.000000  0.000000  0.000000  0.000000  0.000000   \n",
       "98   0.000000  0.000000  0.000000  0.000000  0.000000  0.000000  0.000000   \n",
       "99   0.000000  0.000000  0.000000  0.000000  0.000000  0.000000  0.000000   \n",
       "100  0.000000  0.000000  0.000000  0.000000  0.000000  0.000000  0.000000   \n",
       "\n",
       "           7         8             9             10            11  \\\n",
       "15   0.000000  0.000000  0.000000e+00  0.000000e+00  0.000000e+00   \n",
       "16   0.000150  0.000043  1.098460e-05  2.470361e-06  4.696831e-07   \n",
       "17   0.000030  0.000004  4.384443e-07  3.784413e-08  2.422972e-09   \n",
       "18   0.000026  0.000002  1.613247e-07  8.172909e-09  2.818719e-10   \n",
       "19   0.000050  0.000004  2.200793e-07  8.673111e-09  2.201851e-10   \n",
       "..        ...       ...           ...           ...           ...   \n",
       "96   0.000000  0.000000  0.000000e+00  0.000000e+00  0.000000e+00   \n",
       "97   0.000000  0.000000  0.000000e+00  0.000000e+00  0.000000e+00   \n",
       "98   0.000000  0.000000  0.000000e+00  0.000000e+00  0.000000e+00   \n",
       "99   0.000000  0.000000  0.000000e+00  0.000000e+00  0.000000e+00   \n",
       "100  0.000000  0.000000  0.000000e+00  0.000000e+00  0.000000e+00   \n",
       "\n",
       "               12            13            14            15            16  \\\n",
       "15   0.000000e+00  0.000000e+00  0.000000e+00  0.000000e+00  0.000000e+00   \n",
       "16   7.191630e-08  8.263953e-09  6.392307e-10  2.777634e-11  4.847234e-13   \n",
       "17   1.063103e-10  2.846834e-12  3.896883e-14  2.220446e-16  0.000000e+00   \n",
       "18   6.005529e-12  6.861178e-14  2.220446e-16  0.000000e+00  0.000000e+00   \n",
       "19   3.236633e-12  2.342571e-14  1.110223e-16  0.000000e+00  0.000000e+00   \n",
       "..            ...           ...           ...           ...           ...   \n",
       "96   0.000000e+00  0.000000e+00  0.000000e+00  0.000000e+00  0.000000e+00   \n",
       "97   0.000000e+00  0.000000e+00  0.000000e+00  0.000000e+00  0.000000e+00   \n",
       "98   0.000000e+00  0.000000e+00  0.000000e+00  0.000000e+00  0.000000e+00   \n",
       "99   0.000000e+00  0.000000e+00  0.000000e+00  0.000000e+00  0.000000e+00   \n",
       "100  0.000000e+00  0.000000e+00  0.000000e+00  0.000000e+00  0.000000e+00   \n",
       "\n",
       "               17   18   19  \n",
       "15   0.000000e+00  0.0  0.0  \n",
       "16   1.665335e-15  0.0  0.0  \n",
       "17   0.000000e+00  0.0  0.0  \n",
       "18   0.000000e+00  0.0  0.0  \n",
       "19   0.000000e+00  0.0  0.0  \n",
       "..            ...  ...  ...  \n",
       "96   0.000000e+00  0.0  0.0  \n",
       "97   0.000000e+00  0.0  0.0  \n",
       "98   0.000000e+00  0.0  0.0  \n",
       "99   0.000000e+00  0.0  0.0  \n",
       "100  0.000000e+00  0.0  0.0  \n",
       "\n",
       "[86 rows x 20 columns]"
      ]
     },
     "execution_count": 97,
     "metadata": {},
     "output_type": "execute_result"
    }
   ],
   "source": [
    "hijos_dist"
   ]
  },
  {
   "cell_type": "code",
   "execution_count": 98,
   "id": "e400dbb3",
   "metadata": {
    "ExecuteTime": {
     "end_time": "2022-05-11T20:34:18.561036Z",
     "start_time": "2022-05-11T20:34:18.528047Z"
    }
   },
   "outputs": [
    {
     "data": {
      "text/html": [
       "<div>\n",
       "<style scoped>\n",
       "    .dataframe tbody tr th:only-of-type {\n",
       "        vertical-align: middle;\n",
       "    }\n",
       "\n",
       "    .dataframe tbody tr th {\n",
       "        vertical-align: top;\n",
       "    }\n",
       "\n",
       "    .dataframe thead th {\n",
       "        text-align: right;\n",
       "    }\n",
       "</style>\n",
       "<table border=\"1\" class=\"dataframe\">\n",
       "  <thead>\n",
       "    <tr style=\"text-align: right;\">\n",
       "      <th></th>\n",
       "      <th>0</th>\n",
       "      <th>1</th>\n",
       "      <th>2</th>\n",
       "      <th>3</th>\n",
       "      <th>4</th>\n",
       "      <th>5</th>\n",
       "      <th>6</th>\n",
       "      <th>7</th>\n",
       "      <th>8</th>\n",
       "      <th>9</th>\n",
       "      <th>10</th>\n",
       "      <th>11</th>\n",
       "      <th>12</th>\n",
       "      <th>13</th>\n",
       "      <th>14</th>\n",
       "      <th>15</th>\n",
       "      <th>16</th>\n",
       "      <th>17</th>\n",
       "      <th>18</th>\n",
       "      <th>19</th>\n",
       "    </tr>\n",
       "  </thead>\n",
       "  <tbody>\n",
       "    <tr>\n",
       "      <th>15</th>\n",
       "      <td>0.000000</td>\n",
       "      <td>0.000000</td>\n",
       "      <td>0.000000</td>\n",
       "      <td>0.000000</td>\n",
       "      <td>0.000000</td>\n",
       "      <td>0.000000</td>\n",
       "      <td>0.000000</td>\n",
       "      <td>0.000000</td>\n",
       "      <td>0.000000</td>\n",
       "      <td>0.000000e+00</td>\n",
       "      <td>0.000000e+00</td>\n",
       "      <td>0.000000e+00</td>\n",
       "      <td>0.000000e+00</td>\n",
       "      <td>0.000000e+00</td>\n",
       "      <td>0.000000e+00</td>\n",
       "      <td>0.000000e+00</td>\n",
       "      <td>0.000000e+00</td>\n",
       "      <td>0.000000e+00</td>\n",
       "      <td>0.0</td>\n",
       "      <td>0.0</td>\n",
       "    </tr>\n",
       "    <tr>\n",
       "      <th>16</th>\n",
       "      <td>1.068540</td>\n",
       "      <td>0.125961</td>\n",
       "      <td>0.041289</td>\n",
       "      <td>0.014681</td>\n",
       "      <td>0.005250</td>\n",
       "      <td>0.001828</td>\n",
       "      <td>0.000607</td>\n",
       "      <td>0.000188</td>\n",
       "      <td>0.000054</td>\n",
       "      <td>1.382318e-05</td>\n",
       "      <td>3.108739e-06</td>\n",
       "      <td>5.910561e-07</td>\n",
       "      <td>9.050053e-08</td>\n",
       "      <td>1.039948e-08</td>\n",
       "      <td>8.044172e-10</td>\n",
       "      <td>3.495415e-11</td>\n",
       "      <td>6.099830e-13</td>\n",
       "      <td>2.095681e-15</td>\n",
       "      <td>0.0</td>\n",
       "      <td>0.0</td>\n",
       "    </tr>\n",
       "    <tr>\n",
       "      <th>17</th>\n",
       "      <td>0.771474</td>\n",
       "      <td>0.308602</td>\n",
       "      <td>0.092565</td>\n",
       "      <td>0.024478</td>\n",
       "      <td>0.005781</td>\n",
       "      <td>0.001214</td>\n",
       "      <td>0.000224</td>\n",
       "      <td>0.000036</td>\n",
       "      <td>0.000005</td>\n",
       "      <td>5.280530e-07</td>\n",
       "      <td>4.557866e-08</td>\n",
       "      <td>2.918176e-09</td>\n",
       "      <td>1.280379e-10</td>\n",
       "      <td>3.428666e-12</td>\n",
       "      <td>4.693323e-14</td>\n",
       "      <td>2.674258e-16</td>\n",
       "      <td>0.000000e+00</td>\n",
       "      <td>0.000000e+00</td>\n",
       "      <td>0.0</td>\n",
       "      <td>0.0</td>\n",
       "    </tr>\n",
       "    <tr>\n",
       "      <th>18</th>\n",
       "      <td>0.364237</td>\n",
       "      <td>0.384612</td>\n",
       "      <td>0.149419</td>\n",
       "      <td>0.040406</td>\n",
       "      <td>0.008595</td>\n",
       "      <td>0.001489</td>\n",
       "      <td>0.000211</td>\n",
       "      <td>0.000024</td>\n",
       "      <td>0.000002</td>\n",
       "      <td>1.530962e-07</td>\n",
       "      <td>7.756043e-09</td>\n",
       "      <td>2.674947e-10</td>\n",
       "      <td>5.699212e-12</td>\n",
       "      <td>6.511218e-14</td>\n",
       "      <td>2.107190e-16</td>\n",
       "      <td>0.000000e+00</td>\n",
       "      <td>0.000000e+00</td>\n",
       "      <td>0.000000e+00</td>\n",
       "      <td>0.0</td>\n",
       "      <td>0.0</td>\n",
       "    </tr>\n",
       "    <tr>\n",
       "      <th>19</th>\n",
       "      <td>0.200636</td>\n",
       "      <td>0.507761</td>\n",
       "      <td>0.304633</td>\n",
       "      <td>0.101544</td>\n",
       "      <td>0.023559</td>\n",
       "      <td>0.004106</td>\n",
       "      <td>0.000551</td>\n",
       "      <td>0.000057</td>\n",
       "      <td>0.000004</td>\n",
       "      <td>2.515180e-07</td>\n",
       "      <td>9.912079e-09</td>\n",
       "      <td>2.516389e-10</td>\n",
       "      <td>3.698991e-12</td>\n",
       "      <td>2.677211e-14</td>\n",
       "      <td>1.268820e-16</td>\n",
       "      <td>0.000000e+00</td>\n",
       "      <td>0.000000e+00</td>\n",
       "      <td>0.000000e+00</td>\n",
       "      <td>0.0</td>\n",
       "      <td>0.0</td>\n",
       "    </tr>\n",
       "    <tr>\n",
       "      <th>...</th>\n",
       "      <td>...</td>\n",
       "      <td>...</td>\n",
       "      <td>...</td>\n",
       "      <td>...</td>\n",
       "      <td>...</td>\n",
       "      <td>...</td>\n",
       "      <td>...</td>\n",
       "      <td>...</td>\n",
       "      <td>...</td>\n",
       "      <td>...</td>\n",
       "      <td>...</td>\n",
       "      <td>...</td>\n",
       "      <td>...</td>\n",
       "      <td>...</td>\n",
       "      <td>...</td>\n",
       "      <td>...</td>\n",
       "      <td>...</td>\n",
       "      <td>...</td>\n",
       "      <td>...</td>\n",
       "      <td>...</td>\n",
       "    </tr>\n",
       "    <tr>\n",
       "      <th>96</th>\n",
       "      <td>0.000000</td>\n",
       "      <td>0.000000</td>\n",
       "      <td>0.000000</td>\n",
       "      <td>0.000000</td>\n",
       "      <td>0.000000</td>\n",
       "      <td>0.000000</td>\n",
       "      <td>0.000000</td>\n",
       "      <td>0.000000</td>\n",
       "      <td>0.000000</td>\n",
       "      <td>0.000000e+00</td>\n",
       "      <td>0.000000e+00</td>\n",
       "      <td>0.000000e+00</td>\n",
       "      <td>0.000000e+00</td>\n",
       "      <td>0.000000e+00</td>\n",
       "      <td>0.000000e+00</td>\n",
       "      <td>0.000000e+00</td>\n",
       "      <td>0.000000e+00</td>\n",
       "      <td>0.000000e+00</td>\n",
       "      <td>0.0</td>\n",
       "      <td>0.0</td>\n",
       "    </tr>\n",
       "    <tr>\n",
       "      <th>97</th>\n",
       "      <td>0.000000</td>\n",
       "      <td>0.000000</td>\n",
       "      <td>0.000000</td>\n",
       "      <td>0.000000</td>\n",
       "      <td>0.000000</td>\n",
       "      <td>0.000000</td>\n",
       "      <td>0.000000</td>\n",
       "      <td>0.000000</td>\n",
       "      <td>0.000000</td>\n",
       "      <td>0.000000e+00</td>\n",
       "      <td>0.000000e+00</td>\n",
       "      <td>0.000000e+00</td>\n",
       "      <td>0.000000e+00</td>\n",
       "      <td>0.000000e+00</td>\n",
       "      <td>0.000000e+00</td>\n",
       "      <td>0.000000e+00</td>\n",
       "      <td>0.000000e+00</td>\n",
       "      <td>0.000000e+00</td>\n",
       "      <td>0.0</td>\n",
       "      <td>0.0</td>\n",
       "    </tr>\n",
       "    <tr>\n",
       "      <th>98</th>\n",
       "      <td>0.000000</td>\n",
       "      <td>0.000000</td>\n",
       "      <td>0.000000</td>\n",
       "      <td>0.000000</td>\n",
       "      <td>0.000000</td>\n",
       "      <td>0.000000</td>\n",
       "      <td>0.000000</td>\n",
       "      <td>0.000000</td>\n",
       "      <td>0.000000</td>\n",
       "      <td>0.000000e+00</td>\n",
       "      <td>0.000000e+00</td>\n",
       "      <td>0.000000e+00</td>\n",
       "      <td>0.000000e+00</td>\n",
       "      <td>0.000000e+00</td>\n",
       "      <td>0.000000e+00</td>\n",
       "      <td>0.000000e+00</td>\n",
       "      <td>0.000000e+00</td>\n",
       "      <td>0.000000e+00</td>\n",
       "      <td>0.0</td>\n",
       "      <td>0.0</td>\n",
       "    </tr>\n",
       "    <tr>\n",
       "      <th>99</th>\n",
       "      <td>0.000000</td>\n",
       "      <td>0.000000</td>\n",
       "      <td>0.000000</td>\n",
       "      <td>0.000000</td>\n",
       "      <td>0.000000</td>\n",
       "      <td>0.000000</td>\n",
       "      <td>0.000000</td>\n",
       "      <td>0.000000</td>\n",
       "      <td>0.000000</td>\n",
       "      <td>0.000000e+00</td>\n",
       "      <td>0.000000e+00</td>\n",
       "      <td>0.000000e+00</td>\n",
       "      <td>0.000000e+00</td>\n",
       "      <td>0.000000e+00</td>\n",
       "      <td>0.000000e+00</td>\n",
       "      <td>0.000000e+00</td>\n",
       "      <td>0.000000e+00</td>\n",
       "      <td>0.000000e+00</td>\n",
       "      <td>0.0</td>\n",
       "      <td>0.0</td>\n",
       "    </tr>\n",
       "    <tr>\n",
       "      <th>100</th>\n",
       "      <td>0.000000</td>\n",
       "      <td>0.000000</td>\n",
       "      <td>0.000000</td>\n",
       "      <td>0.000000</td>\n",
       "      <td>0.000000</td>\n",
       "      <td>0.000000</td>\n",
       "      <td>0.000000</td>\n",
       "      <td>0.000000</td>\n",
       "      <td>0.000000</td>\n",
       "      <td>0.000000e+00</td>\n",
       "      <td>0.000000e+00</td>\n",
       "      <td>0.000000e+00</td>\n",
       "      <td>0.000000e+00</td>\n",
       "      <td>0.000000e+00</td>\n",
       "      <td>0.000000e+00</td>\n",
       "      <td>0.000000e+00</td>\n",
       "      <td>0.000000e+00</td>\n",
       "      <td>0.000000e+00</td>\n",
       "      <td>0.0</td>\n",
       "      <td>0.0</td>\n",
       "    </tr>\n",
       "  </tbody>\n",
       "</table>\n",
       "<p>86 rows × 20 columns</p>\n",
       "</div>"
      ],
      "text/plain": [
       "           0         1         2         3         4         5         6   \\\n",
       "15   0.000000  0.000000  0.000000  0.000000  0.000000  0.000000  0.000000   \n",
       "16   1.068540  0.125961  0.041289  0.014681  0.005250  0.001828  0.000607   \n",
       "17   0.771474  0.308602  0.092565  0.024478  0.005781  0.001214  0.000224   \n",
       "18   0.364237  0.384612  0.149419  0.040406  0.008595  0.001489  0.000211   \n",
       "19   0.200636  0.507761  0.304633  0.101544  0.023559  0.004106  0.000551   \n",
       "..        ...       ...       ...       ...       ...       ...       ...   \n",
       "96   0.000000  0.000000  0.000000  0.000000  0.000000  0.000000  0.000000   \n",
       "97   0.000000  0.000000  0.000000  0.000000  0.000000  0.000000  0.000000   \n",
       "98   0.000000  0.000000  0.000000  0.000000  0.000000  0.000000  0.000000   \n",
       "99   0.000000  0.000000  0.000000  0.000000  0.000000  0.000000  0.000000   \n",
       "100  0.000000  0.000000  0.000000  0.000000  0.000000  0.000000  0.000000   \n",
       "\n",
       "           7         8             9             10            11  \\\n",
       "15   0.000000  0.000000  0.000000e+00  0.000000e+00  0.000000e+00   \n",
       "16   0.000188  0.000054  1.382318e-05  3.108739e-06  5.910561e-07   \n",
       "17   0.000036  0.000005  5.280530e-07  4.557866e-08  2.918176e-09   \n",
       "18   0.000024  0.000002  1.530962e-07  7.756043e-09  2.674947e-10   \n",
       "19   0.000057  0.000004  2.515180e-07  9.912079e-09  2.516389e-10   \n",
       "..        ...       ...           ...           ...           ...   \n",
       "96   0.000000  0.000000  0.000000e+00  0.000000e+00  0.000000e+00   \n",
       "97   0.000000  0.000000  0.000000e+00  0.000000e+00  0.000000e+00   \n",
       "98   0.000000  0.000000  0.000000e+00  0.000000e+00  0.000000e+00   \n",
       "99   0.000000  0.000000  0.000000e+00  0.000000e+00  0.000000e+00   \n",
       "100  0.000000  0.000000  0.000000e+00  0.000000e+00  0.000000e+00   \n",
       "\n",
       "               12            13            14            15            16  \\\n",
       "15   0.000000e+00  0.000000e+00  0.000000e+00  0.000000e+00  0.000000e+00   \n",
       "16   9.050053e-08  1.039948e-08  8.044172e-10  3.495415e-11  6.099830e-13   \n",
       "17   1.280379e-10  3.428666e-12  4.693323e-14  2.674258e-16  0.000000e+00   \n",
       "18   5.699212e-12  6.511218e-14  2.107190e-16  0.000000e+00  0.000000e+00   \n",
       "19   3.698991e-12  2.677211e-14  1.268820e-16  0.000000e+00  0.000000e+00   \n",
       "..            ...           ...           ...           ...           ...   \n",
       "96   0.000000e+00  0.000000e+00  0.000000e+00  0.000000e+00  0.000000e+00   \n",
       "97   0.000000e+00  0.000000e+00  0.000000e+00  0.000000e+00  0.000000e+00   \n",
       "98   0.000000e+00  0.000000e+00  0.000000e+00  0.000000e+00  0.000000e+00   \n",
       "99   0.000000e+00  0.000000e+00  0.000000e+00  0.000000e+00  0.000000e+00   \n",
       "100  0.000000e+00  0.000000e+00  0.000000e+00  0.000000e+00  0.000000e+00   \n",
       "\n",
       "               17   18   19  \n",
       "15   0.000000e+00  0.0  0.0  \n",
       "16   2.095681e-15  0.0  0.0  \n",
       "17   0.000000e+00  0.0  0.0  \n",
       "18   0.000000e+00  0.0  0.0  \n",
       "19   0.000000e+00  0.0  0.0  \n",
       "..            ...  ...  ...  \n",
       "96   0.000000e+00  0.0  0.0  \n",
       "97   0.000000e+00  0.0  0.0  \n",
       "98   0.000000e+00  0.0  0.0  \n",
       "99   0.000000e+00  0.0  0.0  \n",
       "100  0.000000e+00  0.0  0.0  \n",
       "\n",
       "[86 rows x 20 columns]"
      ]
     },
     "execution_count": 98,
     "metadata": {},
     "output_type": "execute_result"
    }
   ],
   "source": [
    "h_male=hijos_dist.mul(esp_p*2.4,axis=0).fillna(0)\n",
    "h_male"
   ]
  },
  {
   "cell_type": "code",
   "execution_count": 99,
   "id": "1a991800",
   "metadata": {
    "ExecuteTime": {
     "end_time": "2022-05-11T20:34:21.519814Z",
     "start_time": "2022-05-11T20:34:21.367618Z"
    }
   },
   "outputs": [
    {
     "data": {
      "text/plain": [
       "(0.0, 20.0)"
      ]
     },
     "execution_count": 99,
     "metadata": {},
     "output_type": "execute_result"
    },
    {
     "data": {
      "image/png": "[encoded data removed]",
      "text/plain": [
       "<Figure size 432x288 with 1 Axes>"
      ]
     },
     "metadata": {
      "needs_background": "light"
     },
     "output_type": "display_data"
    }
   ],
   "source": [
    "h_male.transpose()[18].plot().set_xlim(0,20)"
   ]
  },
  {
   "cell_type": "code",
   "execution_count": 100,
   "id": "93b2c79f",
   "metadata": {
    "ExecuteTime": {
     "end_time": "2022-05-11T20:34:23.577640Z",
     "start_time": "2022-05-11T20:34:23.287429Z"
    }
   },
   "outputs": [
    {
     "data": {
      "text/plain": [
       "<AxesSubplot:>"
      ]
     },
     "execution_count": 100,
     "metadata": {},
     "output_type": "execute_result"
    },
    {
     "data": {
      "image/png": "[encoded data removed]",
      "text/plain": [
       "<Figure size 432x288 with 2 Axes>"
      ]
     },
     "metadata": {
      "needs_background": "light"
     },
     "output_type": "display_data"
    }
   ],
   "source": [
    "sns.heatmap(h_male,cmap='Blues')"
   ]
  },
  {
   "cell_type": "code",
   "execution_count": 101,
   "id": "624ed0ba",
   "metadata": {
    "ExecuteTime": {
     "end_time": "2022-05-11T20:34:25.649595Z",
     "start_time": "2022-05-11T20:34:25.631618Z"
    }
   },
   "outputs": [
    {
     "data": {
      "text/plain": [
       "0     2.529981\n",
       "1     2.462673\n",
       "2     3.312249\n",
       "3     4.329048\n",
       "4     5.400980\n",
       "5     6.438917\n",
       "6     7.368953\n",
       "7     8.107815\n",
       "8     8.561933\n",
       "9     8.659513\n",
       "10    8.385523\n",
       "11    7.790935\n",
       "12    6.973696\n",
       "13    6.047516\n",
       "14    5.115599\n",
       "15    4.258196\n",
       "16    3.537610\n",
       "17    3.042796\n",
       "18    6.206108\n",
       "19    0.000000\n",
       "dtype: float64"
      ]
     },
     "execution_count": 101,
     "metadata": {},
     "output_type": "execute_result"
    }
   ],
   "source": [
    "h_male.sum()"
   ]
  },
  {
   "cell_type": "code",
   "execution_count": 102,
   "id": "2d4557c0",
   "metadata": {
    "ExecuteTime": {
     "end_time": "2022-05-11T20:34:28.972239Z",
     "start_time": "2022-05-11T20:34:28.823108Z"
    }
   },
   "outputs": [],
   "source": [
    "h_male.reindex(range(0,106)).reindex(columns=range(0,106)).fillna(0).to_csv('Y:/IESS_2020/Data/SSC/Input/Escenario_Base/Demographic/Family Structure/ssc_forph_male_input.csv', sep=\"\\t\",\n",
    "             decimal= \".\")\n",
    "#wid_m.to_excel('Y:/IESS_2020/Data/SSC/Input/Escenario_Base/Demographic/Transition Probabilities/ssc_fwid_male.xlsx')"
   ]
  },
  {
   "cell_type": "code",
   "execution_count": 103,
   "id": "756e7db9",
   "metadata": {
    "ExecuteTime": {
     "end_time": "2022-05-11T20:34:30.658469Z",
     "start_time": "2022-05-11T20:34:30.505435Z"
    }
   },
   "outputs": [
    {
     "data": {
      "text/html": [
       "<div>\n",
       "<style scoped>\n",
       "    .dataframe tbody tr th:only-of-type {\n",
       "        vertical-align: middle;\n",
       "    }\n",
       "\n",
       "    .dataframe tbody tr th {\n",
       "        vertical-align: top;\n",
       "    }\n",
       "\n",
       "    .dataframe thead th {\n",
       "        text-align: right;\n",
       "    }\n",
       "</style>\n",
       "<table border=\"1\" class=\"dataframe\">\n",
       "  <thead>\n",
       "    <tr style=\"text-align: right;\">\n",
       "      <th>EDAD_HIJO</th>\n",
       "      <th>0.0</th>\n",
       "      <th>1.0</th>\n",
       "      <th>2.0</th>\n",
       "      <th>3.0</th>\n",
       "      <th>4.0</th>\n",
       "      <th>5.0</th>\n",
       "      <th>6.0</th>\n",
       "      <th>7.0</th>\n",
       "      <th>8.0</th>\n",
       "      <th>9.0</th>\n",
       "      <th>10.0</th>\n",
       "      <th>11.0</th>\n",
       "      <th>12.0</th>\n",
       "      <th>13.0</th>\n",
       "      <th>14.0</th>\n",
       "      <th>15.0</th>\n",
       "      <th>16.0</th>\n",
       "      <th>17.0</th>\n",
       "      <th>18.0</th>\n",
       "    </tr>\n",
       "    <tr>\n",
       "      <th>madre</th>\n",
       "      <th></th>\n",
       "      <th></th>\n",
       "      <th></th>\n",
       "      <th></th>\n",
       "      <th></th>\n",
       "      <th></th>\n",
       "      <th></th>\n",
       "      <th></th>\n",
       "      <th></th>\n",
       "      <th></th>\n",
       "      <th></th>\n",
       "      <th></th>\n",
       "      <th></th>\n",
       "      <th></th>\n",
       "      <th></th>\n",
       "      <th></th>\n",
       "      <th></th>\n",
       "      <th></th>\n",
       "      <th></th>\n",
       "    </tr>\n",
       "  </thead>\n",
       "  <tbody>\n",
       "    <tr>\n",
       "      <th>15</th>\n",
       "      <td>2.0</td>\n",
       "      <td>0.0</td>\n",
       "      <td>0.0</td>\n",
       "      <td>0.0</td>\n",
       "      <td>0.0</td>\n",
       "      <td>0.0</td>\n",
       "      <td>0.0</td>\n",
       "      <td>0.0</td>\n",
       "      <td>0.0</td>\n",
       "      <td>0.0</td>\n",
       "      <td>0.0</td>\n",
       "      <td>0.0</td>\n",
       "      <td>0.0</td>\n",
       "      <td>0.0</td>\n",
       "      <td>0.0</td>\n",
       "      <td>0.0</td>\n",
       "      <td>0.0</td>\n",
       "      <td>0.0</td>\n",
       "      <td>0.0</td>\n",
       "    </tr>\n",
       "    <tr>\n",
       "      <th>16</th>\n",
       "      <td>5.0</td>\n",
       "      <td>1.0</td>\n",
       "      <td>3.0</td>\n",
       "      <td>0.0</td>\n",
       "      <td>0.0</td>\n",
       "      <td>0.0</td>\n",
       "      <td>0.0</td>\n",
       "      <td>0.0</td>\n",
       "      <td>0.0</td>\n",
       "      <td>0.0</td>\n",
       "      <td>0.0</td>\n",
       "      <td>0.0</td>\n",
       "      <td>0.0</td>\n",
       "      <td>0.0</td>\n",
       "      <td>0.0</td>\n",
       "      <td>0.0</td>\n",
       "      <td>0.0</td>\n",
       "      <td>0.0</td>\n",
       "      <td>0.0</td>\n",
       "    </tr>\n",
       "    <tr>\n",
       "      <th>17</th>\n",
       "      <td>8.0</td>\n",
       "      <td>11.0</td>\n",
       "      <td>9.0</td>\n",
       "      <td>3.0</td>\n",
       "      <td>1.0</td>\n",
       "      <td>0.0</td>\n",
       "      <td>0.0</td>\n",
       "      <td>0.0</td>\n",
       "      <td>0.0</td>\n",
       "      <td>0.0</td>\n",
       "      <td>0.0</td>\n",
       "      <td>0.0</td>\n",
       "      <td>0.0</td>\n",
       "      <td>0.0</td>\n",
       "      <td>0.0</td>\n",
       "      <td>0.0</td>\n",
       "      <td>0.0</td>\n",
       "      <td>0.0</td>\n",
       "      <td>0.0</td>\n",
       "    </tr>\n",
       "    <tr>\n",
       "      <th>18</th>\n",
       "      <td>36.0</td>\n",
       "      <td>44.0</td>\n",
       "      <td>28.0</td>\n",
       "      <td>20.0</td>\n",
       "      <td>7.0</td>\n",
       "      <td>1.0</td>\n",
       "      <td>0.0</td>\n",
       "      <td>0.0</td>\n",
       "      <td>0.0</td>\n",
       "      <td>0.0</td>\n",
       "      <td>0.0</td>\n",
       "      <td>0.0</td>\n",
       "      <td>0.0</td>\n",
       "      <td>0.0</td>\n",
       "      <td>1.0</td>\n",
       "      <td>0.0</td>\n",
       "      <td>0.0</td>\n",
       "      <td>0.0</td>\n",
       "      <td>0.0</td>\n",
       "    </tr>\n",
       "    <tr>\n",
       "      <th>19</th>\n",
       "      <td>72.0</td>\n",
       "      <td>95.0</td>\n",
       "      <td>66.0</td>\n",
       "      <td>67.0</td>\n",
       "      <td>44.0</td>\n",
       "      <td>10.0</td>\n",
       "      <td>2.0</td>\n",
       "      <td>0.0</td>\n",
       "      <td>0.0</td>\n",
       "      <td>0.0</td>\n",
       "      <td>0.0</td>\n",
       "      <td>0.0</td>\n",
       "      <td>0.0</td>\n",
       "      <td>0.0</td>\n",
       "      <td>0.0</td>\n",
       "      <td>0.0</td>\n",
       "      <td>0.0</td>\n",
       "      <td>0.0</td>\n",
       "      <td>0.0</td>\n",
       "    </tr>\n",
       "    <tr>\n",
       "      <th>...</th>\n",
       "      <td>...</td>\n",
       "      <td>...</td>\n",
       "      <td>...</td>\n",
       "      <td>...</td>\n",
       "      <td>...</td>\n",
       "      <td>...</td>\n",
       "      <td>...</td>\n",
       "      <td>...</td>\n",
       "      <td>...</td>\n",
       "      <td>...</td>\n",
       "      <td>...</td>\n",
       "      <td>...</td>\n",
       "      <td>...</td>\n",
       "      <td>...</td>\n",
       "      <td>...</td>\n",
       "      <td>...</td>\n",
       "      <td>...</td>\n",
       "      <td>...</td>\n",
       "      <td>...</td>\n",
       "    </tr>\n",
       "    <tr>\n",
       "      <th>96</th>\n",
       "      <td>0.0</td>\n",
       "      <td>0.0</td>\n",
       "      <td>0.0</td>\n",
       "      <td>0.0</td>\n",
       "      <td>0.0</td>\n",
       "      <td>0.0</td>\n",
       "      <td>0.0</td>\n",
       "      <td>0.0</td>\n",
       "      <td>0.0</td>\n",
       "      <td>0.0</td>\n",
       "      <td>0.0</td>\n",
       "      <td>0.0</td>\n",
       "      <td>0.0</td>\n",
       "      <td>0.0</td>\n",
       "      <td>0.0</td>\n",
       "      <td>0.0</td>\n",
       "      <td>0.0</td>\n",
       "      <td>0.0</td>\n",
       "      <td>0.0</td>\n",
       "    </tr>\n",
       "    <tr>\n",
       "      <th>97</th>\n",
       "      <td>0.0</td>\n",
       "      <td>0.0</td>\n",
       "      <td>0.0</td>\n",
       "      <td>0.0</td>\n",
       "      <td>0.0</td>\n",
       "      <td>0.0</td>\n",
       "      <td>0.0</td>\n",
       "      <td>0.0</td>\n",
       "      <td>0.0</td>\n",
       "      <td>0.0</td>\n",
       "      <td>0.0</td>\n",
       "      <td>0.0</td>\n",
       "      <td>0.0</td>\n",
       "      <td>0.0</td>\n",
       "      <td>0.0</td>\n",
       "      <td>0.0</td>\n",
       "      <td>0.0</td>\n",
       "      <td>0.0</td>\n",
       "      <td>0.0</td>\n",
       "    </tr>\n",
       "    <tr>\n",
       "      <th>98</th>\n",
       "      <td>0.0</td>\n",
       "      <td>0.0</td>\n",
       "      <td>0.0</td>\n",
       "      <td>0.0</td>\n",
       "      <td>0.0</td>\n",
       "      <td>0.0</td>\n",
       "      <td>0.0</td>\n",
       "      <td>0.0</td>\n",
       "      <td>0.0</td>\n",
       "      <td>0.0</td>\n",
       "      <td>0.0</td>\n",
       "      <td>0.0</td>\n",
       "      <td>0.0</td>\n",
       "      <td>0.0</td>\n",
       "      <td>0.0</td>\n",
       "      <td>0.0</td>\n",
       "      <td>0.0</td>\n",
       "      <td>0.0</td>\n",
       "      <td>0.0</td>\n",
       "    </tr>\n",
       "    <tr>\n",
       "      <th>99</th>\n",
       "      <td>0.0</td>\n",
       "      <td>0.0</td>\n",
       "      <td>0.0</td>\n",
       "      <td>0.0</td>\n",
       "      <td>0.0</td>\n",
       "      <td>0.0</td>\n",
       "      <td>0.0</td>\n",
       "      <td>0.0</td>\n",
       "      <td>0.0</td>\n",
       "      <td>0.0</td>\n",
       "      <td>0.0</td>\n",
       "      <td>0.0</td>\n",
       "      <td>0.0</td>\n",
       "      <td>0.0</td>\n",
       "      <td>0.0</td>\n",
       "      <td>0.0</td>\n",
       "      <td>0.0</td>\n",
       "      <td>0.0</td>\n",
       "      <td>0.0</td>\n",
       "    </tr>\n",
       "    <tr>\n",
       "      <th>100</th>\n",
       "      <td>0.0</td>\n",
       "      <td>0.0</td>\n",
       "      <td>0.0</td>\n",
       "      <td>0.0</td>\n",
       "      <td>0.0</td>\n",
       "      <td>0.0</td>\n",
       "      <td>0.0</td>\n",
       "      <td>0.0</td>\n",
       "      <td>0.0</td>\n",
       "      <td>0.0</td>\n",
       "      <td>0.0</td>\n",
       "      <td>0.0</td>\n",
       "      <td>0.0</td>\n",
       "      <td>0.0</td>\n",
       "      <td>0.0</td>\n",
       "      <td>0.0</td>\n",
       "      <td>0.0</td>\n",
       "      <td>0.0</td>\n",
       "      <td>0.0</td>\n",
       "    </tr>\n",
       "  </tbody>\n",
       "</table>\n",
       "<p>86 rows × 19 columns</p>\n",
       "</div>"
      ],
      "text/plain": [
       "EDAD_HIJO  0.0   1.0   2.0   3.0   4.0   5.0   6.0   7.0   8.0   9.0   10.0  \\\n",
       "madre                                                                         \n",
       "15          2.0   0.0   0.0   0.0   0.0   0.0   0.0   0.0   0.0   0.0   0.0   \n",
       "16          5.0   1.0   3.0   0.0   0.0   0.0   0.0   0.0   0.0   0.0   0.0   \n",
       "17          8.0  11.0   9.0   3.0   1.0   0.0   0.0   0.0   0.0   0.0   0.0   \n",
       "18         36.0  44.0  28.0  20.0   7.0   1.0   0.0   0.0   0.0   0.0   0.0   \n",
       "19         72.0  95.0  66.0  67.0  44.0  10.0   2.0   0.0   0.0   0.0   0.0   \n",
       "...         ...   ...   ...   ...   ...   ...   ...   ...   ...   ...   ...   \n",
       "96          0.0   0.0   0.0   0.0   0.0   0.0   0.0   0.0   0.0   0.0   0.0   \n",
       "97          0.0   0.0   0.0   0.0   0.0   0.0   0.0   0.0   0.0   0.0   0.0   \n",
       "98          0.0   0.0   0.0   0.0   0.0   0.0   0.0   0.0   0.0   0.0   0.0   \n",
       "99          0.0   0.0   0.0   0.0   0.0   0.0   0.0   0.0   0.0   0.0   0.0   \n",
       "100         0.0   0.0   0.0   0.0   0.0   0.0   0.0   0.0   0.0   0.0   0.0   \n",
       "\n",
       "EDAD_HIJO  11.0  12.0  13.0  14.0  15.0  16.0  17.0  18.0  \n",
       "madre                                                      \n",
       "15          0.0   0.0   0.0   0.0   0.0   0.0   0.0   0.0  \n",
       "16          0.0   0.0   0.0   0.0   0.0   0.0   0.0   0.0  \n",
       "17          0.0   0.0   0.0   0.0   0.0   0.0   0.0   0.0  \n",
       "18          0.0   0.0   0.0   1.0   0.0   0.0   0.0   0.0  \n",
       "19          0.0   0.0   0.0   0.0   0.0   0.0   0.0   0.0  \n",
       "...         ...   ...   ...   ...   ...   ...   ...   ...  \n",
       "96          0.0   0.0   0.0   0.0   0.0   0.0   0.0   0.0  \n",
       "97          0.0   0.0   0.0   0.0   0.0   0.0   0.0   0.0  \n",
       "98          0.0   0.0   0.0   0.0   0.0   0.0   0.0   0.0  \n",
       "99          0.0   0.0   0.0   0.0   0.0   0.0   0.0   0.0  \n",
       "100         0.0   0.0   0.0   0.0   0.0   0.0   0.0   0.0  \n",
       "\n",
       "[86 rows x 19 columns]"
      ]
     },
     "execution_count": 103,
     "metadata": {},
     "output_type": "execute_result"
    }
   ],
   "source": [
    "hijos_madre=hijos[(hijos['CED_HIJO'].isnull()==False) & (hijos['SEXO_AFI']=='M')].groupby(['ANIO','madre', 'EDAD_HIJO'])['CED_HIJO'].nunique().unstack(0).median(axis = 1, skipna = True).unstack(1).reindex(range(15,101)).fillna(0)\n",
    "hijos_madre"
   ]
  },
  {
   "cell_type": "code",
   "execution_count": 104,
   "id": "42672316",
   "metadata": {
    "ExecuteTime": {
     "end_time": "2022-05-11T20:34:32.516161Z",
     "start_time": "2022-05-11T20:34:32.505155Z"
    }
   },
   "outputs": [
    {
     "data": {
      "text/plain": [
       "madre\n",
       "15     0.000000\n",
       "16     0.043210\n",
       "17     0.072917\n",
       "18     0.083942\n",
       "19     0.103933\n",
       "         ...   \n",
       "96          NaN\n",
       "97          NaN\n",
       "98          NaN\n",
       "99          NaN\n",
       "100         NaN\n",
       "Length: 86, dtype: float64"
      ]
     },
     "execution_count": 104,
     "metadata": {},
     "output_type": "execute_result"
    }
   ],
   "source": [
    "m=((((hijos_madre*hijos_madre.columns)).sum(axis=1)/hijos_madre.sum(axis=1))/18)\n",
    "m"
   ]
  },
  {
   "cell_type": "code",
   "execution_count": 105,
   "id": "bb8515fa",
   "metadata": {
    "ExecuteTime": {
     "end_time": "2022-05-11T20:34:33.644183Z",
     "start_time": "2022-05-11T20:34:33.624183Z"
    }
   },
   "outputs": [
    {
     "data": {
      "text/plain": [
       "madre\n",
       "15     0.000000\n",
       "16     0.050903\n",
       "17     0.057998\n",
       "18     0.089585\n",
       "19     0.080209\n",
       "         ...   \n",
       "96     0.000000\n",
       "97     0.000000\n",
       "98     0.000000\n",
       "99     0.000000\n",
       "100    0.000000\n",
       "Length: 86, dtype: float64"
      ]
     },
     "execution_count": 105,
     "metadata": {},
     "output_type": "execute_result"
    }
   ],
   "source": [
    "s=(np.sqrt((hijos_madre*(hijos_madre.columns)**2).sum(axis=1)/hijos_madre.sum(axis=1)-((hijos_madre*(hijos_madre.columns)).sum(axis=1)/hijos_madre.sum(axis=1))**2)/18).fillna(0)\n",
    "s"
   ]
  },
  {
   "cell_type": "code",
   "execution_count": 106,
   "id": "68f8f1fa",
   "metadata": {
    "ExecuteTime": {
     "end_time": "2022-05-11T20:34:35.878069Z",
     "start_time": "2022-05-11T20:34:35.656683Z"
    }
   },
   "outputs": [
    {
     "name": "stderr",
     "output_type": "stream",
     "text": [
      "C:\\ProgramData\\Anaconda3\\lib\\site-packages\\pandas\\core\\indexing.py:1732: SettingWithCopyWarning: \n",
      "A value is trying to be set on a copy of a slice from a DataFrame\n",
      "\n",
      "See the caveats in the documentation: https://pandas.pydata.org/pandas-docs/stable/user_guide/indexing.html#returning-a-view-versus-a-copy\n",
      "  self._setitem_single_block(indexer, value, name)\n"
     ]
    },
    {
     "data": {
      "text/plain": [
       "madre\n",
       "15     0.345459\n",
       "16     0.358643\n",
       "17     0.371827\n",
       "18     0.385011\n",
       "19     0.398196\n",
       "         ...   \n",
       "96     1.000000\n",
       "97     1.000000\n",
       "98     1.000000\n",
       "99     1.000000\n",
       "100    1.000000\n",
       "Name: smooth, Length: 86, dtype: float64"
      ]
     },
     "execution_count": 106,
     "metadata": {},
     "output_type": "execute_result"
    },
    {
     "data": {
      "image/png": "[encoded data removed]",
      "text/plain": [
       "<Figure size 432x288 with 1 Axes>"
      ]
     },
     "metadata": {
      "needs_background": "light"
     },
     "output_type": "display_data"
    }
   ],
   "source": [
    "m_hijos_m=approximacion_curvas_e_logagrowth(m.fillna(0),a_inf=15,a_sup=100,sample=hijos_madre.sum(axis=1).reindex(range(15,101)).fillna(0), a_inf1=40, a_sup1=60)['smooth']\n",
    "#m_hijos_m=m_hijos_m.reset_index()\n",
    "m_hijos_m"
   ]
  },
  {
   "cell_type": "code",
   "execution_count": 107,
   "id": "4680ac25",
   "metadata": {
    "ExecuteTime": {
     "end_time": "2022-05-11T20:34:38.592370Z",
     "start_time": "2022-05-11T20:34:38.352842Z"
    }
   },
   "outputs": [
    {
     "name": "stderr",
     "output_type": "stream",
     "text": [
      "C:\\ProgramData\\Anaconda3\\lib\\site-packages\\pandas\\core\\indexing.py:1732: SettingWithCopyWarning: \n",
      "A value is trying to be set on a copy of a slice from a DataFrame\n",
      "\n",
      "See the caveats in the documentation: https://pandas.pydata.org/pandas-docs/stable/user_guide/indexing.html#returning-a-view-versus-a-copy\n",
      "  self._setitem_single_block(indexer, value, name)\n"
     ]
    },
    {
     "data": {
      "text/plain": [
       "madre\n",
       "15     0.246684\n",
       "16     0.247346\n",
       "17     0.248009\n",
       "18     0.248671\n",
       "19     0.249334\n",
       "         ...   \n",
       "96     0.300342\n",
       "97     0.301005\n",
       "98     0.301667\n",
       "99     0.302330\n",
       "100    0.302992\n",
       "Name: smooth, Length: 86, dtype: float64"
      ]
     },
     "execution_count": 107,
     "metadata": {},
     "output_type": "execute_result"
    },
    {
     "data": {
      "image/png": "[encoded data removed]",
      "text/plain": [
       "<Figure size 432x288 with 1 Axes>"
      ]
     },
     "metadata": {
      "needs_background": "light"
     },
     "output_type": "display_data"
    }
   ],
   "source": [
    "s_hijos_m=approximacion_curvas_e_logagrowth(s.fillna(0),a_inf=15,a_sup=100,sample=hijos_madre.sum(axis=1).reindex(range(15,101)).fillna(0), a_inf1=15, a_sup1=60)['smooth']\n",
    "#s_hijos_m=s_hijos_m.reset_index()\n",
    "s_hijos_m"
   ]
  },
  {
   "cell_type": "code",
   "execution_count": 108,
   "id": "c8ba0570",
   "metadata": {
    "ExecuteTime": {
     "end_time": "2022-05-11T20:34:40.607741Z",
     "start_time": "2022-05-11T20:34:40.161731Z"
    }
   },
   "outputs": [
    {
     "name": "stderr",
     "output_type": "stream",
     "text": [
      "C:\\ProgramData\\Anaconda3\\lib\\site-packages\\pandas\\core\\indexing.py:1732: SettingWithCopyWarning: \n",
      "A value is trying to be set on a copy of a slice from a DataFrame\n",
      "\n",
      "See the caveats in the documentation: https://pandas.pydata.org/pandas-docs/stable/user_guide/indexing.html#returning-a-view-versus-a-copy\n",
      "  self._setitem_single_block(indexer, value, name)\n",
      "C:\\ProgramData\\Anaconda3\\lib\\site-packages\\pandas\\core\\indexing.py:1732: SettingWithCopyWarning: \n",
      "A value is trying to be set on a copy of a slice from a DataFrame\n",
      "\n",
      "See the caveats in the documentation: https://pandas.pydata.org/pandas-docs/stable/user_guide/indexing.html#returning-a-view-versus-a-copy\n",
      "  self._setitem_single_block(indexer, value, name)\n"
     ]
    },
    {
     "data": {
      "image/png": "[encoded data removed]",
      "text/plain": [
       "<Figure size 864x360 with 1 Axes>"
      ]
     },
     "metadata": {
      "needs_background": "light"
     },
     "output_type": "display_data"
    }
   ],
   "source": [
    "ppl.figure(figsize=(12,5))\n",
    "ppl.xlabel('Edad padre')\n",
    "m.plot()\n",
    "\n",
    "m_hijos_m=approximacion_curvas_e_logagrowth(m.fillna(0),a_inf=15,a_sup=100,sample=hijos_madre.sum(axis=1).reindex(range(15,101)).fillna(0), a_inf1=40, a_sup1=60)['smooth']\n",
    "s_hijos_m=approximacion_curvas_e_logagrowth(s.fillna(0),a_inf=15,a_sup=100,sample=hijos_madre.sum(axis=1).reindex(range(15,101)).fillna(0), a_inf1=15, a_sup1=60)['smooth']\n",
    "\n",
    "\n",
    "ax1 =m_hijos_m.plot(color='blue',label='media')\n",
    "ax2 =s_hijos_m.plot(color='red',label='desv.stand')\n",
    "\n",
    "ax1.legend(loc=1)\n",
    "ax2.legend(loc=2)\n",
    "\n",
    "ppl.show()"
   ]
  },
  {
   "cell_type": "code",
   "execution_count": 109,
   "id": "7be95ffb",
   "metadata": {
    "ExecuteTime": {
     "end_time": "2022-05-11T20:34:42.168796Z",
     "start_time": "2022-05-11T20:34:42.161801Z"
    }
   },
   "outputs": [
    {
     "data": {
      "text/plain": [
       "madre\n",
       "15     0.938198\n",
       "16     0.989743\n",
       "17     1.040150\n",
       "18     1.089212\n",
       "19     1.136727\n",
       "         ...   \n",
       "96    -1.000000\n",
       "97    -1.000000\n",
       "98    -1.000000\n",
       "99    -1.000000\n",
       "100   -1.000000\n",
       "Name: smooth, Length: 86, dtype: float64"
      ]
     },
     "execution_count": 109,
     "metadata": {},
     "output_type": "execute_result"
    }
   ],
   "source": [
    "alpha_hijos_m=((1-m_hijos_m)/(s_hijos_m**2)-1/m_hijos_m)*m_hijos_m**2\n",
    "alpha_hijos_m"
   ]
  },
  {
   "cell_type": "code",
   "execution_count": 110,
   "id": "cfb21cd6",
   "metadata": {
    "ExecuteTime": {
     "end_time": "2022-05-11T20:34:43.772666Z",
     "start_time": "2022-05-11T20:34:43.584775Z"
    }
   },
   "outputs": [
    {
     "data": {
      "text/plain": [
       "<AxesSubplot:xlabel='madre'>"
      ]
     },
     "execution_count": 110,
     "metadata": {},
     "output_type": "execute_result"
    },
    {
     "data": {
      "image/png": "[encoded data removed]",
      "text/plain": [
       "<Figure size 432x288 with 1 Axes>"
      ]
     },
     "metadata": {
      "needs_background": "light"
     },
     "output_type": "display_data"
    }
   ],
   "source": [
    "alpha_hijos_m.plot()"
   ]
  },
  {
   "cell_type": "code",
   "execution_count": 111,
   "id": "1f7183d1",
   "metadata": {
    "ExecuteTime": {
     "end_time": "2022-05-11T20:34:44.864443Z",
     "start_time": "2022-05-11T20:34:44.849442Z"
    }
   },
   "outputs": [
    {
     "data": {
      "text/plain": [
       "madre\n",
       "15     1.777601\n",
       "16     1.769943\n",
       "17     1.757250\n",
       "18     1.739826\n",
       "19     1.717968\n",
       "         ...   \n",
       "96    -0.000000\n",
       "97    -0.000000\n",
       "98    -0.000000\n",
       "99    -0.000000\n",
       "100   -0.000000\n",
       "Name: smooth, Length: 86, dtype: float64"
      ]
     },
     "execution_count": 111,
     "metadata": {},
     "output_type": "execute_result"
    }
   ],
   "source": [
    "beta_hijos_m=alpha_hijos_m*(1/m_hijos_m-1)\n",
    "beta_hijos_m"
   ]
  },
  {
   "cell_type": "code",
   "execution_count": 112,
   "id": "81a050e9",
   "metadata": {
    "ExecuteTime": {
     "end_time": "2022-05-11T20:34:46.439905Z",
     "start_time": "2022-05-11T20:34:46.321697Z"
    }
   },
   "outputs": [
    {
     "data": {
      "text/plain": [
       "<AxesSubplot:xlabel='madre'>"
      ]
     },
     "execution_count": 112,
     "metadata": {},
     "output_type": "execute_result"
    },
    {
     "data": {
      "image/png": "[encoded data removed]",
      "text/plain": [
       "<Figure size 432x288 with 1 Axes>"
      ]
     },
     "metadata": {
      "needs_background": "light"
     },
     "output_type": "display_data"
    }
   ],
   "source": [
    "beta_hijos_m.plot()"
   ]
  },
  {
   "cell_type": "code",
   "execution_count": 113,
   "id": "7e388752",
   "metadata": {
    "ExecuteTime": {
     "end_time": "2022-05-11T20:34:47.906671Z",
     "start_time": "2022-05-11T20:34:47.889680Z"
    }
   },
   "outputs": [],
   "source": [
    "children=scipy.stats.beta(alpha_hijos_m,beta_hijos_m,0,19)"
   ]
  },
  {
   "cell_type": "code",
   "execution_count": 114,
   "id": "06e69aef",
   "metadata": {
    "ExecuteTime": {
     "end_time": "2022-05-11T20:34:48.926623Z",
     "start_time": "2022-05-11T20:34:48.809647Z"
    }
   },
   "outputs": [
    {
     "data": {
      "text/plain": [
       "<AxesSubplot:>"
      ]
     },
     "execution_count": 114,
     "metadata": {},
     "output_type": "execute_result"
    },
    {
     "data": {
      "image/png": "[encoded data removed]",
      "text/plain": [
       "<Figure size 432x288 with 1 Axes>"
      ]
     },
     "metadata": {
      "needs_background": "light"
     },
     "output_type": "display_data"
    }
   ],
   "source": [
    "pd.Series(scipy.stats.beta(alpha_hijos_m,beta_hijos_m,0,19).cdf(1)-scipy.stats.beta(alpha_hijos_m,beta_hijos_m,0,19).cdf(0)).plot()"
   ]
  },
  {
   "cell_type": "code",
   "execution_count": 115,
   "id": "01a31a31",
   "metadata": {
    "ExecuteTime": {
     "end_time": "2022-05-11T20:34:50.485297Z",
     "start_time": "2022-05-11T20:34:50.443316Z"
    }
   },
   "outputs": [],
   "source": [
    "hijos_dist=pd.DataFrame(columns=range(0,20))\n",
    "for c in hijos_dist.columns:\n",
    "    hijos_dist[c]=pd.Series(children.cdf(c+1)-children.cdf(c),index=range(15,101)).fillna(0)"
   ]
  },
  {
   "cell_type": "code",
   "execution_count": 116,
   "id": "195dcf67",
   "metadata": {
    "ExecuteTime": {
     "end_time": "2022-05-11T20:34:51.500344Z",
     "start_time": "2022-05-11T20:34:51.474348Z"
    }
   },
   "outputs": [
    {
     "data": {
      "text/html": [
       "<div>\n",
       "<style scoped>\n",
       "    .dataframe tbody tr th:only-of-type {\n",
       "        vertical-align: middle;\n",
       "    }\n",
       "\n",
       "    .dataframe tbody tr th {\n",
       "        vertical-align: top;\n",
       "    }\n",
       "\n",
       "    .dataframe thead th {\n",
       "        text-align: right;\n",
       "    }\n",
       "</style>\n",
       "<table border=\"1\" class=\"dataframe\">\n",
       "  <thead>\n",
       "    <tr style=\"text-align: right;\">\n",
       "      <th></th>\n",
       "      <th>0</th>\n",
       "      <th>1</th>\n",
       "      <th>2</th>\n",
       "      <th>3</th>\n",
       "      <th>4</th>\n",
       "      <th>5</th>\n",
       "      <th>6</th>\n",
       "      <th>7</th>\n",
       "      <th>8</th>\n",
       "      <th>9</th>\n",
       "      <th>10</th>\n",
       "      <th>11</th>\n",
       "      <th>12</th>\n",
       "      <th>13</th>\n",
       "      <th>14</th>\n",
       "      <th>15</th>\n",
       "      <th>16</th>\n",
       "      <th>17</th>\n",
       "      <th>18</th>\n",
       "      <th>19</th>\n",
       "    </tr>\n",
       "  </thead>\n",
       "  <tbody>\n",
       "    <tr>\n",
       "      <th>15</th>\n",
       "      <td>0.107214</td>\n",
       "      <td>0.094020</td>\n",
       "      <td>0.086948</td>\n",
       "      <td>0.081097</td>\n",
       "      <td>0.075804</td>\n",
       "      <td>0.070819</td>\n",
       "      <td>0.066017</td>\n",
       "      <td>0.061326</td>\n",
       "      <td>0.056696</td>\n",
       "      <td>0.052091</td>\n",
       "      <td>0.047479</td>\n",
       "      <td>0.042833</td>\n",
       "      <td>0.038124</td>\n",
       "      <td>0.033319</td>\n",
       "      <td>0.028376</td>\n",
       "      <td>0.023238</td>\n",
       "      <td>0.017809</td>\n",
       "      <td>0.011903</td>\n",
       "      <td>0.004886</td>\n",
       "      <td>0.0</td>\n",
       "    </tr>\n",
       "    <tr>\n",
       "      <th>16</th>\n",
       "      <td>0.093677</td>\n",
       "      <td>0.088475</td>\n",
       "      <td>0.084102</td>\n",
       "      <td>0.079870</td>\n",
       "      <td>0.075675</td>\n",
       "      <td>0.071476</td>\n",
       "      <td>0.067248</td>\n",
       "      <td>0.062973</td>\n",
       "      <td>0.058637</td>\n",
       "      <td>0.054225</td>\n",
       "      <td>0.049723</td>\n",
       "      <td>0.045111</td>\n",
       "      <td>0.040369</td>\n",
       "      <td>0.035466</td>\n",
       "      <td>0.030363</td>\n",
       "      <td>0.024998</td>\n",
       "      <td>0.019269</td>\n",
       "      <td>0.012968</td>\n",
       "      <td>0.005377</td>\n",
       "      <td>0.0</td>\n",
       "    </tr>\n",
       "    <tr>\n",
       "      <th>17</th>\n",
       "      <td>0.081785</td>\n",
       "      <td>0.082866</td>\n",
       "      <td>0.080938</td>\n",
       "      <td>0.078256</td>\n",
       "      <td>0.075161</td>\n",
       "      <td>0.071780</td>\n",
       "      <td>0.068173</td>\n",
       "      <td>0.064370</td>\n",
       "      <td>0.060388</td>\n",
       "      <td>0.056230</td>\n",
       "      <td>0.051895</td>\n",
       "      <td>0.047374</td>\n",
       "      <td>0.042649</td>\n",
       "      <td>0.037695</td>\n",
       "      <td>0.032470</td>\n",
       "      <td>0.026908</td>\n",
       "      <td>0.020895</td>\n",
       "      <td>0.014194</td>\n",
       "      <td>0.005974</td>\n",
       "      <td>0.0</td>\n",
       "    </tr>\n",
       "    <tr>\n",
       "      <th>18</th>\n",
       "      <td>0.071376</td>\n",
       "      <td>0.077290</td>\n",
       "      <td>0.077531</td>\n",
       "      <td>0.076305</td>\n",
       "      <td>0.074288</td>\n",
       "      <td>0.071740</td>\n",
       "      <td>0.068789</td>\n",
       "      <td>0.065505</td>\n",
       "      <td>0.061930</td>\n",
       "      <td>0.058083</td>\n",
       "      <td>0.053974</td>\n",
       "      <td>0.049600</td>\n",
       "      <td>0.044948</td>\n",
       "      <td>0.039993</td>\n",
       "      <td>0.034691</td>\n",
       "      <td>0.028969</td>\n",
       "      <td>0.022696</td>\n",
       "      <td>0.015598</td>\n",
       "      <td>0.006696</td>\n",
       "      <td>0.0</td>\n",
       "    </tr>\n",
       "    <tr>\n",
       "      <th>19</th>\n",
       "      <td>0.062296</td>\n",
       "      <td>0.071826</td>\n",
       "      <td>0.073953</td>\n",
       "      <td>0.074068</td>\n",
       "      <td>0.073086</td>\n",
       "      <td>0.071369</td>\n",
       "      <td>0.069096</td>\n",
       "      <td>0.066368</td>\n",
       "      <td>0.063246</td>\n",
       "      <td>0.059762</td>\n",
       "      <td>0.055935</td>\n",
       "      <td>0.051766</td>\n",
       "      <td>0.047245</td>\n",
       "      <td>0.042345</td>\n",
       "      <td>0.037017</td>\n",
       "      <td>0.031180</td>\n",
       "      <td>0.024681</td>\n",
       "      <td>0.017197</td>\n",
       "      <td>0.007563</td>\n",
       "      <td>0.0</td>\n",
       "    </tr>\n",
       "    <tr>\n",
       "      <th>...</th>\n",
       "      <td>...</td>\n",
       "      <td>...</td>\n",
       "      <td>...</td>\n",
       "      <td>...</td>\n",
       "      <td>...</td>\n",
       "      <td>...</td>\n",
       "      <td>...</td>\n",
       "      <td>...</td>\n",
       "      <td>...</td>\n",
       "      <td>...</td>\n",
       "      <td>...</td>\n",
       "      <td>...</td>\n",
       "      <td>...</td>\n",
       "      <td>...</td>\n",
       "      <td>...</td>\n",
       "      <td>...</td>\n",
       "      <td>...</td>\n",
       "      <td>...</td>\n",
       "      <td>...</td>\n",
       "      <td>...</td>\n",
       "    </tr>\n",
       "    <tr>\n",
       "      <th>96</th>\n",
       "      <td>0.000000</td>\n",
       "      <td>0.000000</td>\n",
       "      <td>0.000000</td>\n",
       "      <td>0.000000</td>\n",
       "      <td>0.000000</td>\n",
       "      <td>0.000000</td>\n",
       "      <td>0.000000</td>\n",
       "      <td>0.000000</td>\n",
       "      <td>0.000000</td>\n",
       "      <td>0.000000</td>\n",
       "      <td>0.000000</td>\n",
       "      <td>0.000000</td>\n",
       "      <td>0.000000</td>\n",
       "      <td>0.000000</td>\n",
       "      <td>0.000000</td>\n",
       "      <td>0.000000</td>\n",
       "      <td>0.000000</td>\n",
       "      <td>0.000000</td>\n",
       "      <td>0.000000</td>\n",
       "      <td>0.0</td>\n",
       "    </tr>\n",
       "    <tr>\n",
       "      <th>97</th>\n",
       "      <td>0.000000</td>\n",
       "      <td>0.000000</td>\n",
       "      <td>0.000000</td>\n",
       "      <td>0.000000</td>\n",
       "      <td>0.000000</td>\n",
       "      <td>0.000000</td>\n",
       "      <td>0.000000</td>\n",
       "      <td>0.000000</td>\n",
       "      <td>0.000000</td>\n",
       "      <td>0.000000</td>\n",
       "      <td>0.000000</td>\n",
       "      <td>0.000000</td>\n",
       "      <td>0.000000</td>\n",
       "      <td>0.000000</td>\n",
       "      <td>0.000000</td>\n",
       "      <td>0.000000</td>\n",
       "      <td>0.000000</td>\n",
       "      <td>0.000000</td>\n",
       "      <td>0.000000</td>\n",
       "      <td>0.0</td>\n",
       "    </tr>\n",
       "    <tr>\n",
       "      <th>98</th>\n",
       "      <td>0.000000</td>\n",
       "      <td>0.000000</td>\n",
       "      <td>0.000000</td>\n",
       "      <td>0.000000</td>\n",
       "      <td>0.000000</td>\n",
       "      <td>0.000000</td>\n",
       "      <td>0.000000</td>\n",
       "      <td>0.000000</td>\n",
       "      <td>0.000000</td>\n",
       "      <td>0.000000</td>\n",
       "      <td>0.000000</td>\n",
       "      <td>0.000000</td>\n",
       "      <td>0.000000</td>\n",
       "      <td>0.000000</td>\n",
       "      <td>0.000000</td>\n",
       "      <td>0.000000</td>\n",
       "      <td>0.000000</td>\n",
       "      <td>0.000000</td>\n",
       "      <td>0.000000</td>\n",
       "      <td>0.0</td>\n",
       "    </tr>\n",
       "    <tr>\n",
       "      <th>99</th>\n",
       "      <td>0.000000</td>\n",
       "      <td>0.000000</td>\n",
       "      <td>0.000000</td>\n",
       "      <td>0.000000</td>\n",
       "      <td>0.000000</td>\n",
       "      <td>0.000000</td>\n",
       "      <td>0.000000</td>\n",
       "      <td>0.000000</td>\n",
       "      <td>0.000000</td>\n",
       "      <td>0.000000</td>\n",
       "      <td>0.000000</td>\n",
       "      <td>0.000000</td>\n",
       "      <td>0.000000</td>\n",
       "      <td>0.000000</td>\n",
       "      <td>0.000000</td>\n",
       "      <td>0.000000</td>\n",
       "      <td>0.000000</td>\n",
       "      <td>0.000000</td>\n",
       "      <td>0.000000</td>\n",
       "      <td>0.0</td>\n",
       "    </tr>\n",
       "    <tr>\n",
       "      <th>100</th>\n",
       "      <td>0.000000</td>\n",
       "      <td>0.000000</td>\n",
       "      <td>0.000000</td>\n",
       "      <td>0.000000</td>\n",
       "      <td>0.000000</td>\n",
       "      <td>0.000000</td>\n",
       "      <td>0.000000</td>\n",
       "      <td>0.000000</td>\n",
       "      <td>0.000000</td>\n",
       "      <td>0.000000</td>\n",
       "      <td>0.000000</td>\n",
       "      <td>0.000000</td>\n",
       "      <td>0.000000</td>\n",
       "      <td>0.000000</td>\n",
       "      <td>0.000000</td>\n",
       "      <td>0.000000</td>\n",
       "      <td>0.000000</td>\n",
       "      <td>0.000000</td>\n",
       "      <td>0.000000</td>\n",
       "      <td>0.0</td>\n",
       "    </tr>\n",
       "  </tbody>\n",
       "</table>\n",
       "<p>86 rows × 20 columns</p>\n",
       "</div>"
      ],
      "text/plain": [
       "           0         1         2         3         4         5         6   \\\n",
       "15   0.107214  0.094020  0.086948  0.081097  0.075804  0.070819  0.066017   \n",
       "16   0.093677  0.088475  0.084102  0.079870  0.075675  0.071476  0.067248   \n",
       "17   0.081785  0.082866  0.080938  0.078256  0.075161  0.071780  0.068173   \n",
       "18   0.071376  0.077290  0.077531  0.076305  0.074288  0.071740  0.068789   \n",
       "19   0.062296  0.071826  0.073953  0.074068  0.073086  0.071369  0.069096   \n",
       "..        ...       ...       ...       ...       ...       ...       ...   \n",
       "96   0.000000  0.000000  0.000000  0.000000  0.000000  0.000000  0.000000   \n",
       "97   0.000000  0.000000  0.000000  0.000000  0.000000  0.000000  0.000000   \n",
       "98   0.000000  0.000000  0.000000  0.000000  0.000000  0.000000  0.000000   \n",
       "99   0.000000  0.000000  0.000000  0.000000  0.000000  0.000000  0.000000   \n",
       "100  0.000000  0.000000  0.000000  0.000000  0.000000  0.000000  0.000000   \n",
       "\n",
       "           7         8         9         10        11        12        13  \\\n",
       "15   0.061326  0.056696  0.052091  0.047479  0.042833  0.038124  0.033319   \n",
       "16   0.062973  0.058637  0.054225  0.049723  0.045111  0.040369  0.035466   \n",
       "17   0.064370  0.060388  0.056230  0.051895  0.047374  0.042649  0.037695   \n",
       "18   0.065505  0.061930  0.058083  0.053974  0.049600  0.044948  0.039993   \n",
       "19   0.066368  0.063246  0.059762  0.055935  0.051766  0.047245  0.042345   \n",
       "..        ...       ...       ...       ...       ...       ...       ...   \n",
       "96   0.000000  0.000000  0.000000  0.000000  0.000000  0.000000  0.000000   \n",
       "97   0.000000  0.000000  0.000000  0.000000  0.000000  0.000000  0.000000   \n",
       "98   0.000000  0.000000  0.000000  0.000000  0.000000  0.000000  0.000000   \n",
       "99   0.000000  0.000000  0.000000  0.000000  0.000000  0.000000  0.000000   \n",
       "100  0.000000  0.000000  0.000000  0.000000  0.000000  0.000000  0.000000   \n",
       "\n",
       "           14        15        16        17        18   19  \n",
       "15   0.028376  0.023238  0.017809  0.011903  0.004886  0.0  \n",
       "16   0.030363  0.024998  0.019269  0.012968  0.005377  0.0  \n",
       "17   0.032470  0.026908  0.020895  0.014194  0.005974  0.0  \n",
       "18   0.034691  0.028969  0.022696  0.015598  0.006696  0.0  \n",
       "19   0.037017  0.031180  0.024681  0.017197  0.007563  0.0  \n",
       "..        ...       ...       ...       ...       ...  ...  \n",
       "96   0.000000  0.000000  0.000000  0.000000  0.000000  0.0  \n",
       "97   0.000000  0.000000  0.000000  0.000000  0.000000  0.0  \n",
       "98   0.000000  0.000000  0.000000  0.000000  0.000000  0.0  \n",
       "99   0.000000  0.000000  0.000000  0.000000  0.000000  0.0  \n",
       "100  0.000000  0.000000  0.000000  0.000000  0.000000  0.0  \n",
       "\n",
       "[86 rows x 20 columns]"
      ]
     },
     "execution_count": 116,
     "metadata": {},
     "output_type": "execute_result"
    }
   ],
   "source": [
    "hijos_dist"
   ]
  },
  {
   "cell_type": "code",
   "execution_count": 117,
   "id": "72982e8d",
   "metadata": {
    "ExecuteTime": {
     "end_time": "2022-05-11T20:34:58.249351Z",
     "start_time": "2022-05-11T20:34:58.122237Z"
    }
   },
   "outputs": [
    {
     "data": {
      "text/plain": [
       "<AxesSubplot:>"
      ]
     },
     "execution_count": 117,
     "metadata": {},
     "output_type": "execute_result"
    },
    {
     "data": {
      "image/png": "[encoded data removed]",
      "text/plain": [
       "<Figure size 432x288 with 1 Axes>"
      ]
     },
     "metadata": {
      "needs_background": "light"
     },
     "output_type": "display_data"
    }
   ],
   "source": [
    "h_female=hijos_dist.mul(esp_m*2.4,axis=0).fillna(0)\n",
    "h_female.transpose()[40].plot()"
   ]
  },
  {
   "cell_type": "code",
   "execution_count": 118,
   "id": "4cbd712d",
   "metadata": {
    "ExecuteTime": {
     "end_time": "2022-05-11T20:35:00.144130Z",
     "start_time": "2022-05-11T20:35:00.019041Z"
    }
   },
   "outputs": [
    {
     "data": {
      "text/plain": [
       "(0.0, 20.0)"
      ]
     },
     "execution_count": 118,
     "metadata": {},
     "output_type": "execute_result"
    },
    {
     "data": {
      "image/png": "[encoded data removed]",
      "text/plain": [
       "<Figure size 432x288 with 1 Axes>"
      ]
     },
     "metadata": {
      "needs_background": "light"
     },
     "output_type": "display_data"
    }
   ],
   "source": [
    "h_female.transpose()[25].plot().set_xlim(0,20)"
   ]
  },
  {
   "cell_type": "code",
   "execution_count": 119,
   "id": "fa600378",
   "metadata": {
    "ExecuteTime": {
     "end_time": "2022-05-11T20:35:02.141955Z",
     "start_time": "2022-05-11T20:35:01.850880Z"
    }
   },
   "outputs": [
    {
     "data": {
      "text/plain": [
       "<AxesSubplot:>"
      ]
     },
     "execution_count": 119,
     "metadata": {},
     "output_type": "execute_result"
    },
    {
     "data": {
      "image/png": "[encoded data removed]",
      "text/plain": [
       "<Figure size 432x288 with 2 Axes>"
      ]
     },
     "metadata": {
      "needs_background": "light"
     },
     "output_type": "display_data"
    }
   ],
   "source": [
    "sns.heatmap(h_female,cmap='Reds')"
   ]
  },
  {
   "cell_type": "code",
   "execution_count": 120,
   "id": "cd480b4b",
   "metadata": {
    "ExecuteTime": {
     "end_time": "2022-05-11T20:35:04.605136Z",
     "start_time": "2022-05-11T20:35:04.594048Z"
    }
   },
   "outputs": [
    {
     "data": {
      "text/plain": [
       "0      2.667304\n",
       "1      3.441481\n",
       "2      3.943667\n",
       "3      4.316260\n",
       "4      4.612826\n",
       "5      4.857389\n",
       "6      5.063326\n",
       "7      5.239146\n",
       "8      5.390862\n",
       "9      5.523189\n",
       "10     5.640311\n",
       "11     5.746546\n",
       "12     5.847187\n",
       "13     5.949943\n",
       "14     6.068046\n",
       "15     6.228280\n",
       "16     6.497410\n",
       "17     7.112531\n",
       "18    16.576860\n",
       "19     0.000000\n",
       "dtype: float64"
      ]
     },
     "execution_count": 120,
     "metadata": {},
     "output_type": "execute_result"
    }
   ],
   "source": [
    "h_female.sum()"
   ]
  },
  {
   "cell_type": "code",
   "execution_count": 121,
   "id": "29c5eef6",
   "metadata": {
    "ExecuteTime": {
     "end_time": "2022-05-11T20:35:07.586121Z",
     "start_time": "2022-05-11T20:35:07.555533Z"
    }
   },
   "outputs": [],
   "source": [
    "h_female.reindex(range(0,106)).reindex(columns=range(0,106)).fillna(0).to_csv('Y:/IESS_2020/Data/SSC/Input/Escenario_Base/Demographic/Family Structure/ssc_forph_female_input.csv', sep=\"\\t\",\n",
    "             decimal= \".\")\n",
    "#wid_m.to_excel('Y:/IESS_2020/Data/SSC/Input/Escenario_Base/Demographic/Transition Probabilities/ssc_fwid_male.xlsx')"
   ]
  }
 ],
 "metadata": {
  "kernelspec": {
   "display_name": "Python 3 (ipykernel)",
   "language": "python",
   "name": "python3"
  },
  "language_info": {
   "codemirror_mode": {
    "name": "ipython",
    "version": 3
   },
   "file_extension": ".py",
   "mimetype": "text/x-python",
   "name": "python",
   "nbconvert_exporter": "python",
   "pygments_lexer": "ipython3",
   "version": "3.9.7"
  },
  "toc": {
   "base_numbering": 1,
   "nav_menu": {},
   "number_sections": true,
   "sideBar": true,
   "skip_h1_title": false,
   "title_cell": "Table of Contents",
   "title_sidebar": "Contents",
   "toc_cell": false,
   "toc_position": {},
   "toc_section_display": true,
   "toc_window_display": false
  }
 },
 "nbformat": 4,
 "nbformat_minor": 5
}
