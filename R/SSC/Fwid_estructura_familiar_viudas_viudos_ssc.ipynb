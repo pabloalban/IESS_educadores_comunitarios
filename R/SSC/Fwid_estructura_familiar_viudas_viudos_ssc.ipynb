{
 "cells": [
  {
   "cell_type": "code",
   "execution_count": 45,
   "id": "d98a5215",
   "metadata": {
    "ExecuteTime": {
     "end_time": "2022-05-05T15:09:25.299171Z",
     "start_time": "2022-05-05T15:09:25.281181Z"
    }
   },
   "outputs": [],
   "source": [
    "#Librerías necesarias\n",
    "import pandas as pd\n",
    "import numpy as np\n",
    "import seaborn as sns\n",
    "import matplotlib.pyplot as ppl\n",
    "import scipy\n",
    "%matplotlib inline"
   ]
  },
  {
   "cell_type": "code",
   "execution_count": 46,
   "id": "7df6a414",
   "metadata": {
    "ExecuteTime": {
     "end_time": "2022-05-05T15:09:26.066355Z",
     "start_time": "2022-05-05T15:09:25.301151Z"
    }
   },
   "outputs": [],
   "source": [
    "bd=pd.read_csv('Y:\\IESS_2020\\Data\\SSC\\FWid_ACT_SSC.txt',sep=';', header=0, \n",
    "               dtype={'CEDULA_CONYUGE':'object','SEXO_CONY':'object', 'FECHA_MUERTE_CONY':'object',\n",
    "                      'FECHA_NACIMIENTO_CONY':'object'}) #existen 405769 cedulas distintas"
   ]
  },
  {
   "cell_type": "code",
   "execution_count": 47,
   "id": "44d775a0",
   "metadata": {
    "ExecuteTime": {
     "end_time": "2022-05-05T15:09:26.161753Z",
     "start_time": "2022-05-05T15:09:26.067338Z"
    }
   },
   "outputs": [],
   "source": [
    "bd=bd[ (bd['FECHA_MUERTE_AFI'].isnull()==True) & (bd['FECHA_MUERTE_CONY'].isnull()==True) ]"
   ]
  },
  {
   "cell_type": "code",
   "execution_count": 48,
   "id": "914b213a",
   "metadata": {
    "ExecuteTime": {
     "end_time": "2022-05-05T15:09:26.270407Z",
     "start_time": "2022-05-05T15:09:26.163756Z"
    }
   },
   "outputs": [
    {
     "data": {
      "text/plain": [
       "381382"
      ]
     },
     "execution_count": 48,
     "metadata": {},
     "output_type": "execute_result"
    }
   ],
   "source": [
    "# bd.groupby([\"EDAD_AFI\"]).count().sum() #existen 405769 cedulas distintas\n",
    "bd['CEDULA_AFI'].value_counts().sum()"
   ]
  },
  {
   "cell_type": "code",
   "execution_count": 49,
   "id": "a3ddb2eb",
   "metadata": {
    "ExecuteTime": {
     "end_time": "2022-05-05T15:09:26.442229Z",
     "start_time": "2022-05-05T15:09:26.271407Z"
    }
   },
   "outputs": [
    {
     "data": {
      "text/html": [
       "<div>\n",
       "<style scoped>\n",
       "    .dataframe tbody tr th:only-of-type {\n",
       "        vertical-align: middle;\n",
       "    }\n",
       "\n",
       "    .dataframe tbody tr th {\n",
       "        vertical-align: top;\n",
       "    }\n",
       "\n",
       "    .dataframe thead th {\n",
       "        text-align: right;\n",
       "    }\n",
       "</style>\n",
       "<table border=\"1\" class=\"dataframe\">\n",
       "  <thead>\n",
       "    <tr style=\"text-align: right;\">\n",
       "      <th></th>\n",
       "      <th>hh</th>\n",
       "      <th>FECHA_NACIMIENTO_AFI</th>\n",
       "      <th>sexo</th>\n",
       "      <th>edad</th>\n",
       "      <th>FECHA_MUERTE_AFI</th>\n",
       "      <th>EDAD_MUERTE_AFI</th>\n",
       "      <th>ec</th>\n",
       "      <th>CEDULA_CONYUGE</th>\n",
       "      <th>FECHA_NACIMIENTO_CONY</th>\n",
       "      <th>SEXO_CONY</th>\n",
       "      <th>EDAD_CONY</th>\n",
       "      <th>FECHA_MUERTE_CONY</th>\n",
       "      <th>EDAD_MUERTE_CONY</th>\n",
       "      <th>peso</th>\n",
       "    </tr>\n",
       "  </thead>\n",
       "  <tbody>\n",
       "    <tr>\n",
       "      <th>0</th>\n",
       "      <td>100861137</td>\n",
       "      <td>27/05/1947</td>\n",
       "      <td>M</td>\n",
       "      <td>73</td>\n",
       "      <td>NaN</td>\n",
       "      <td>0</td>\n",
       "      <td>1</td>\n",
       "      <td>0100013929</td>\n",
       "      <td>18/05/1945</td>\n",
       "      <td>H</td>\n",
       "      <td>75.0</td>\n",
       "      <td>NaN</td>\n",
       "      <td>NaN</td>\n",
       "      <td>1</td>\n",
       "    </tr>\n",
       "    <tr>\n",
       "      <th>2</th>\n",
       "      <td>101893758</td>\n",
       "      <td>08/12/1961</td>\n",
       "      <td>M</td>\n",
       "      <td>59</td>\n",
       "      <td>NaN</td>\n",
       "      <td>0</td>\n",
       "      <td>1</td>\n",
       "      <td>0100018357</td>\n",
       "      <td>13/02/1948</td>\n",
       "      <td>H</td>\n",
       "      <td>72.0</td>\n",
       "      <td>NaN</td>\n",
       "      <td>NaN</td>\n",
       "      <td>1</td>\n",
       "    </tr>\n",
       "    <tr>\n",
       "      <th>3</th>\n",
       "      <td>1004557292</td>\n",
       "      <td>18/06/1992</td>\n",
       "      <td>H</td>\n",
       "      <td>28</td>\n",
       "      <td>NaN</td>\n",
       "      <td>0</td>\n",
       "      <td>1</td>\n",
       "      <td>1050220381</td>\n",
       "      <td>17/11/1997</td>\n",
       "      <td>M</td>\n",
       "      <td>23.0</td>\n",
       "      <td>NaN</td>\n",
       "      <td>NaN</td>\n",
       "      <td>1</td>\n",
       "    </tr>\n",
       "    <tr>\n",
       "      <th>4</th>\n",
       "      <td>100436286</td>\n",
       "      <td>04/08/1946</td>\n",
       "      <td>H</td>\n",
       "      <td>74</td>\n",
       "      <td>NaN</td>\n",
       "      <td>0</td>\n",
       "      <td>1</td>\n",
       "      <td>0100023530</td>\n",
       "      <td>25/05/1947</td>\n",
       "      <td>M</td>\n",
       "      <td>73.0</td>\n",
       "      <td>NaN</td>\n",
       "      <td>NaN</td>\n",
       "      <td>1</td>\n",
       "    </tr>\n",
       "    <tr>\n",
       "      <th>5</th>\n",
       "      <td>1201468517</td>\n",
       "      <td>01/03/1943</td>\n",
       "      <td>M</td>\n",
       "      <td>77</td>\n",
       "      <td>NaN</td>\n",
       "      <td>0</td>\n",
       "      <td>1</td>\n",
       "      <td>0100050319</td>\n",
       "      <td>19/02/1931</td>\n",
       "      <td>H</td>\n",
       "      <td>89.0</td>\n",
       "      <td>NaN</td>\n",
       "      <td>NaN</td>\n",
       "      <td>1</td>\n",
       "    </tr>\n",
       "    <tr>\n",
       "      <th>...</th>\n",
       "      <td>...</td>\n",
       "      <td>...</td>\n",
       "      <td>...</td>\n",
       "      <td>...</td>\n",
       "      <td>...</td>\n",
       "      <td>...</td>\n",
       "      <td>...</td>\n",
       "      <td>...</td>\n",
       "      <td>...</td>\n",
       "      <td>...</td>\n",
       "      <td>...</td>\n",
       "      <td>...</td>\n",
       "      <td>...</td>\n",
       "      <td>...</td>\n",
       "    </tr>\n",
       "    <tr>\n",
       "      <th>405764</th>\n",
       "      <td>800550121</td>\n",
       "      <td>21/05/1947</td>\n",
       "      <td>H</td>\n",
       "      <td>73</td>\n",
       "      <td>NaN</td>\n",
       "      <td>0</td>\n",
       "      <td>6</td>\n",
       "      <td>NO CONYUGE</td>\n",
       "      <td>NaN</td>\n",
       "      <td>NaN</td>\n",
       "      <td>NaN</td>\n",
       "      <td>NaN</td>\n",
       "      <td>NaN</td>\n",
       "      <td>1</td>\n",
       "    </tr>\n",
       "    <tr>\n",
       "      <th>405765</th>\n",
       "      <td>800184475</td>\n",
       "      <td>03/02/1935</td>\n",
       "      <td>H</td>\n",
       "      <td>85</td>\n",
       "      <td>NaN</td>\n",
       "      <td>0</td>\n",
       "      <td>1</td>\n",
       "      <td>NO CONYUGE</td>\n",
       "      <td>NaN</td>\n",
       "      <td>NaN</td>\n",
       "      <td>NaN</td>\n",
       "      <td>NaN</td>\n",
       "      <td>NaN</td>\n",
       "      <td>1</td>\n",
       "    </tr>\n",
       "    <tr>\n",
       "      <th>405766</th>\n",
       "      <td>500747944</td>\n",
       "      <td>22/11/1945</td>\n",
       "      <td>M</td>\n",
       "      <td>75</td>\n",
       "      <td>NaN</td>\n",
       "      <td>0</td>\n",
       "      <td>5</td>\n",
       "      <td>0500044343</td>\n",
       "      <td>NaN</td>\n",
       "      <td>NaN</td>\n",
       "      <td>NaN</td>\n",
       "      <td>NaN</td>\n",
       "      <td>NaN</td>\n",
       "      <td>1</td>\n",
       "    </tr>\n",
       "    <tr>\n",
       "      <th>405767</th>\n",
       "      <td>500935002</td>\n",
       "      <td>26/06/1959</td>\n",
       "      <td>H</td>\n",
       "      <td>61</td>\n",
       "      <td>NaN</td>\n",
       "      <td>0</td>\n",
       "      <td>1</td>\n",
       "      <td>50121284</td>\n",
       "      <td>NaN</td>\n",
       "      <td>NaN</td>\n",
       "      <td>NaN</td>\n",
       "      <td>NaN</td>\n",
       "      <td>NaN</td>\n",
       "      <td>1</td>\n",
       "    </tr>\n",
       "    <tr>\n",
       "      <th>405768</th>\n",
       "      <td>100426717</td>\n",
       "      <td>17/01/1947</td>\n",
       "      <td>H</td>\n",
       "      <td>73</td>\n",
       "      <td>NaN</td>\n",
       "      <td>0</td>\n",
       "      <td>1</td>\n",
       "      <td>0100876750</td>\n",
       "      <td>NaN</td>\n",
       "      <td>NaN</td>\n",
       "      <td>NaN</td>\n",
       "      <td>NaN</td>\n",
       "      <td>NaN</td>\n",
       "      <td>1</td>\n",
       "    </tr>\n",
       "  </tbody>\n",
       "</table>\n",
       "<p>381382 rows × 14 columns</p>\n",
       "</div>"
      ],
      "text/plain": [
       "                hh FECHA_NACIMIENTO_AFI sexo  edad FECHA_MUERTE_AFI  \\\n",
       "0        100861137           27/05/1947    M    73              NaN   \n",
       "2        101893758           08/12/1961    M    59              NaN   \n",
       "3       1004557292           18/06/1992    H    28              NaN   \n",
       "4        100436286           04/08/1946    H    74              NaN   \n",
       "5       1201468517           01/03/1943    M    77              NaN   \n",
       "...            ...                  ...  ...   ...              ...   \n",
       "405764   800550121           21/05/1947    H    73              NaN   \n",
       "405765   800184475           03/02/1935    H    85              NaN   \n",
       "405766   500747944           22/11/1945    M    75              NaN   \n",
       "405767   500935002           26/06/1959    H    61              NaN   \n",
       "405768   100426717           17/01/1947    H    73              NaN   \n",
       "\n",
       "        EDAD_MUERTE_AFI ec CEDULA_CONYUGE FECHA_NACIMIENTO_CONY SEXO_CONY  \\\n",
       "0                     0  1     0100013929            18/05/1945         H   \n",
       "2                     0  1     0100018357            13/02/1948         H   \n",
       "3                     0  1     1050220381            17/11/1997         M   \n",
       "4                     0  1     0100023530            25/05/1947         M   \n",
       "5                     0  1     0100050319            19/02/1931         H   \n",
       "...                 ... ..            ...                   ...       ...   \n",
       "405764                0  6     NO CONYUGE                   NaN       NaN   \n",
       "405765                0  1     NO CONYUGE                   NaN       NaN   \n",
       "405766                0  5     0500044343                   NaN       NaN   \n",
       "405767                0  1       50121284                   NaN       NaN   \n",
       "405768                0  1     0100876750                   NaN       NaN   \n",
       "\n",
       "        EDAD_CONY FECHA_MUERTE_CONY  EDAD_MUERTE_CONY  peso  \n",
       "0            75.0               NaN               NaN     1  \n",
       "2            72.0               NaN               NaN     1  \n",
       "3            23.0               NaN               NaN     1  \n",
       "4            73.0               NaN               NaN     1  \n",
       "5            89.0               NaN               NaN     1  \n",
       "...           ...               ...               ...   ...  \n",
       "405764        NaN               NaN               NaN     1  \n",
       "405765        NaN               NaN               NaN     1  \n",
       "405766        NaN               NaN               NaN     1  \n",
       "405767        NaN               NaN               NaN     1  \n",
       "405768        NaN               NaN               NaN     1  \n",
       "\n",
       "[381382 rows x 14 columns]"
      ]
     },
     "execution_count": 49,
     "metadata": {},
     "output_type": "execute_result"
    }
   ],
   "source": [
    "bd=bd.rename(columns={'CEDULA_AFI':'hh', 'SEXO_AFI':'sexo', 'EDAD_AFI':'edad', 'ESTADO_CIVIL_AFI':'ec'})\n",
    "bd['ec']=bd['ec'].map({'CASADO/A':'1', 'UNION DE HECHO':'2', 'DIVORCIADO/A':'4', 'VIUDO/A':'5', 'SOLTERO/A':'6'})\n",
    "bd['peso']=1\n",
    "bd"
   ]
  },
  {
   "cell_type": "code",
   "execution_count": 50,
   "id": "5f33cea1",
   "metadata": {
    "ExecuteTime": {
     "end_time": "2022-05-05T15:09:26.519222Z",
     "start_time": "2022-05-05T15:09:26.443235Z"
    }
   },
   "outputs": [],
   "source": [
    "civilstate=bd.groupby(['sexo','edad','ec'])['hh'].count().unstack(2).fillna(0)"
   ]
  },
  {
   "cell_type": "code",
   "execution_count": 51,
   "id": "0f028439",
   "metadata": {
    "ExecuteTime": {
     "end_time": "2022-05-05T15:09:26.565245Z",
     "start_time": "2022-05-05T15:09:26.520223Z"
    }
   },
   "outputs": [
    {
     "data": {
      "text/html": [
       "<div>\n",
       "<style scoped>\n",
       "    .dataframe tbody tr th:only-of-type {\n",
       "        vertical-align: middle;\n",
       "    }\n",
       "\n",
       "    .dataframe tbody tr th {\n",
       "        vertical-align: top;\n",
       "    }\n",
       "\n",
       "    .dataframe thead th {\n",
       "        text-align: right;\n",
       "    }\n",
       "</style>\n",
       "<table border=\"1\" class=\"dataframe\">\n",
       "  <thead>\n",
       "    <tr style=\"text-align: right;\">\n",
       "      <th></th>\n",
       "      <th>ec</th>\n",
       "      <th>1</th>\n",
       "      <th>2</th>\n",
       "      <th>4</th>\n",
       "      <th>5</th>\n",
       "      <th>6</th>\n",
       "    </tr>\n",
       "    <tr>\n",
       "      <th>sexo</th>\n",
       "      <th>edad</th>\n",
       "      <th></th>\n",
       "      <th></th>\n",
       "      <th></th>\n",
       "      <th></th>\n",
       "      <th></th>\n",
       "    </tr>\n",
       "  </thead>\n",
       "  <tbody>\n",
       "    <tr>\n",
       "      <th rowspan=\"5\" valign=\"top\">H</th>\n",
       "      <th>16</th>\n",
       "      <td>0.0</td>\n",
       "      <td>0.0</td>\n",
       "      <td>0.0</td>\n",
       "      <td>0.0</td>\n",
       "      <td>3.0</td>\n",
       "    </tr>\n",
       "    <tr>\n",
       "      <th>17</th>\n",
       "      <td>0.0</td>\n",
       "      <td>0.0</td>\n",
       "      <td>0.0</td>\n",
       "      <td>0.0</td>\n",
       "      <td>3.0</td>\n",
       "    </tr>\n",
       "    <tr>\n",
       "      <th>18</th>\n",
       "      <td>0.0</td>\n",
       "      <td>0.0</td>\n",
       "      <td>0.0</td>\n",
       "      <td>0.0</td>\n",
       "      <td>41.0</td>\n",
       "    </tr>\n",
       "    <tr>\n",
       "      <th>19</th>\n",
       "      <td>2.0</td>\n",
       "      <td>0.0</td>\n",
       "      <td>0.0</td>\n",
       "      <td>0.0</td>\n",
       "      <td>211.0</td>\n",
       "    </tr>\n",
       "    <tr>\n",
       "      <th>20</th>\n",
       "      <td>9.0</td>\n",
       "      <td>0.0</td>\n",
       "      <td>0.0</td>\n",
       "      <td>0.0</td>\n",
       "      <td>466.0</td>\n",
       "    </tr>\n",
       "    <tr>\n",
       "      <th>...</th>\n",
       "      <th>...</th>\n",
       "      <td>...</td>\n",
       "      <td>...</td>\n",
       "      <td>...</td>\n",
       "      <td>...</td>\n",
       "      <td>...</td>\n",
       "    </tr>\n",
       "    <tr>\n",
       "      <th rowspan=\"5\" valign=\"top\">M</th>\n",
       "      <th>98</th>\n",
       "      <td>0.0</td>\n",
       "      <td>0.0</td>\n",
       "      <td>0.0</td>\n",
       "      <td>0.0</td>\n",
       "      <td>4.0</td>\n",
       "    </tr>\n",
       "    <tr>\n",
       "      <th>99</th>\n",
       "      <td>2.0</td>\n",
       "      <td>0.0</td>\n",
       "      <td>0.0</td>\n",
       "      <td>1.0</td>\n",
       "      <td>0.0</td>\n",
       "    </tr>\n",
       "    <tr>\n",
       "      <th>100</th>\n",
       "      <td>1.0</td>\n",
       "      <td>0.0</td>\n",
       "      <td>0.0</td>\n",
       "      <td>1.0</td>\n",
       "      <td>2.0</td>\n",
       "    </tr>\n",
       "    <tr>\n",
       "      <th>104</th>\n",
       "      <td>1.0</td>\n",
       "      <td>0.0</td>\n",
       "      <td>0.0</td>\n",
       "      <td>0.0</td>\n",
       "      <td>0.0</td>\n",
       "    </tr>\n",
       "    <tr>\n",
       "      <th>108</th>\n",
       "      <td>0.0</td>\n",
       "      <td>0.0</td>\n",
       "      <td>0.0</td>\n",
       "      <td>1.0</td>\n",
       "      <td>0.0</td>\n",
       "    </tr>\n",
       "  </tbody>\n",
       "</table>\n",
       "<p>179 rows × 5 columns</p>\n",
       "</div>"
      ],
      "text/plain": [
       "ec           1    2    4    5      6\n",
       "sexo edad                           \n",
       "H    16    0.0  0.0  0.0  0.0    3.0\n",
       "     17    0.0  0.0  0.0  0.0    3.0\n",
       "     18    0.0  0.0  0.0  0.0   41.0\n",
       "     19    2.0  0.0  0.0  0.0  211.0\n",
       "     20    9.0  0.0  0.0  0.0  466.0\n",
       "...        ...  ...  ...  ...    ...\n",
       "M    98    0.0  0.0  0.0  0.0    4.0\n",
       "     99    2.0  0.0  0.0  1.0    0.0\n",
       "     100   1.0  0.0  0.0  1.0    2.0\n",
       "     104   1.0  0.0  0.0  0.0    0.0\n",
       "     108   0.0  0.0  0.0  1.0    0.0\n",
       "\n",
       "[179 rows x 5 columns]"
      ]
     },
     "execution_count": 51,
     "metadata": {},
     "output_type": "execute_result"
    }
   ],
   "source": [
    "civilstate"
   ]
  },
  {
   "cell_type": "code",
   "execution_count": 52,
   "id": "6aad27f5",
   "metadata": {
    "ExecuteTime": {
     "end_time": "2022-05-05T15:09:26.675402Z",
     "start_time": "2022-05-05T15:09:26.566245Z"
    }
   },
   "outputs": [
    {
     "data": {
      "text/html": [
       "<div>\n",
       "<style scoped>\n",
       "    .dataframe tbody tr th:only-of-type {\n",
       "        vertical-align: middle;\n",
       "    }\n",
       "\n",
       "    .dataframe tbody tr th {\n",
       "        vertical-align: top;\n",
       "    }\n",
       "\n",
       "    .dataframe thead th {\n",
       "        text-align: right;\n",
       "    }\n",
       "</style>\n",
       "<table border=\"1\" class=\"dataframe\">\n",
       "  <thead>\n",
       "    <tr style=\"text-align: right;\">\n",
       "      <th>sexo</th>\n",
       "      <th>H</th>\n",
       "      <th>M</th>\n",
       "    </tr>\n",
       "    <tr>\n",
       "      <th>edad</th>\n",
       "      <th></th>\n",
       "      <th></th>\n",
       "    </tr>\n",
       "  </thead>\n",
       "  <tbody>\n",
       "    <tr>\n",
       "      <th>15</th>\n",
       "      <td>NaN</td>\n",
       "      <td>0.000000</td>\n",
       "    </tr>\n",
       "    <tr>\n",
       "      <th>16</th>\n",
       "      <td>0.000000</td>\n",
       "      <td>0.000000</td>\n",
       "    </tr>\n",
       "    <tr>\n",
       "      <th>17</th>\n",
       "      <td>0.000000</td>\n",
       "      <td>0.000000</td>\n",
       "    </tr>\n",
       "    <tr>\n",
       "      <th>18</th>\n",
       "      <td>0.000000</td>\n",
       "      <td>0.015873</td>\n",
       "    </tr>\n",
       "    <tr>\n",
       "      <th>19</th>\n",
       "      <td>0.009390</td>\n",
       "      <td>0.039823</td>\n",
       "    </tr>\n",
       "    <tr>\n",
       "      <th>...</th>\n",
       "      <td>...</td>\n",
       "      <td>...</td>\n",
       "    </tr>\n",
       "    <tr>\n",
       "      <th>96</th>\n",
       "      <td>0.750000</td>\n",
       "      <td>0.083333</td>\n",
       "    </tr>\n",
       "    <tr>\n",
       "      <th>97</th>\n",
       "      <td>0.790698</td>\n",
       "      <td>0.250000</td>\n",
       "    </tr>\n",
       "    <tr>\n",
       "      <th>98</th>\n",
       "      <td>0.857143</td>\n",
       "      <td>0.000000</td>\n",
       "    </tr>\n",
       "    <tr>\n",
       "      <th>99</th>\n",
       "      <td>0.875000</td>\n",
       "      <td>0.666667</td>\n",
       "    </tr>\n",
       "    <tr>\n",
       "      <th>100</th>\n",
       "      <td>1.000000</td>\n",
       "      <td>0.250000</td>\n",
       "    </tr>\n",
       "  </tbody>\n",
       "</table>\n",
       "<p>86 rows × 2 columns</p>\n",
       "</div>"
      ],
      "text/plain": [
       "sexo         H         M\n",
       "edad                    \n",
       "15         NaN  0.000000\n",
       "16    0.000000  0.000000\n",
       "17    0.000000  0.000000\n",
       "18    0.000000  0.015873\n",
       "19    0.009390  0.039823\n",
       "...        ...       ...\n",
       "96    0.750000  0.083333\n",
       "97    0.790698  0.250000\n",
       "98    0.857143  0.000000\n",
       "99    0.875000  0.666667\n",
       "100   1.000000  0.250000\n",
       "\n",
       "[86 rows x 2 columns]"
      ]
     },
     "execution_count": 52,
     "metadata": {},
     "output_type": "execute_result"
    }
   ],
   "source": [
    "#Se toma los estados casados o unión de hecho\n",
    "# Porque se filtra desde la edad 30, o posición 15??\n",
    "p_m=(civilstate[[str(i) for i in [1,2]]].sum(axis=1)/civilstate.sum(axis=1)).unstack(0).reindex(range(15,101))\n",
    "p_m"
   ]
  },
  {
   "cell_type": "code",
   "execution_count": 53,
   "id": "ba7d2b38",
   "metadata": {
    "ExecuteTime": {
     "end_time": "2022-05-05T15:09:26.864304Z",
     "start_time": "2022-05-05T15:09:26.677370Z"
    }
   },
   "outputs": [
    {
     "data": {
      "text/plain": [
       "<AxesSubplot:xlabel='edad'>"
      ]
     },
     "execution_count": 53,
     "metadata": {},
     "output_type": "execute_result"
    },
    {
     "data": {
      "image/png": "[encoded data removed]",
      "text/plain": [
       "<Figure size 432x288 with 1 Axes>"
      ]
     },
     "metadata": {
      "needs_background": "light"
     },
     "output_type": "display_data"
    }
   ],
   "source": [
    "p_m.plot()"
   ]
  },
  {
   "cell_type": "code",
   "execution_count": 54,
   "id": "95e48537",
   "metadata": {
    "ExecuteTime": {
     "end_time": "2022-05-05T15:09:26.879262Z",
     "start_time": "2022-05-05T15:09:26.867261Z"
    }
   },
   "outputs": [
    {
     "data": {
      "text/html": [
       "<div>\n",
       "<style scoped>\n",
       "    .dataframe tbody tr th:only-of-type {\n",
       "        vertical-align: middle;\n",
       "    }\n",
       "\n",
       "    .dataframe tbody tr th {\n",
       "        vertical-align: top;\n",
       "    }\n",
       "\n",
       "    .dataframe thead th {\n",
       "        text-align: right;\n",
       "    }\n",
       "</style>\n",
       "<table border=\"1\" class=\"dataframe\">\n",
       "  <thead>\n",
       "    <tr style=\"text-align: right;\">\n",
       "      <th>sexo</th>\n",
       "      <th>H</th>\n",
       "      <th>M</th>\n",
       "    </tr>\n",
       "    <tr>\n",
       "      <th>edad</th>\n",
       "      <th></th>\n",
       "      <th></th>\n",
       "    </tr>\n",
       "  </thead>\n",
       "  <tbody>\n",
       "    <tr>\n",
       "      <th>15</th>\n",
       "      <td>0.005667</td>\n",
       "      <td>0.018739</td>\n",
       "    </tr>\n",
       "    <tr>\n",
       "      <th>16</th>\n",
       "      <td>0.010373</td>\n",
       "      <td>0.029626</td>\n",
       "    </tr>\n",
       "    <tr>\n",
       "      <th>17</th>\n",
       "      <td>0.015345</td>\n",
       "      <td>0.044219</td>\n",
       "    </tr>\n",
       "    <tr>\n",
       "      <th>18</th>\n",
       "      <td>0.022119</td>\n",
       "      <td>0.058188</td>\n",
       "    </tr>\n",
       "    <tr>\n",
       "      <th>19</th>\n",
       "      <td>0.029188</td>\n",
       "      <td>0.070057</td>\n",
       "    </tr>\n",
       "    <tr>\n",
       "      <th>...</th>\n",
       "      <td>...</td>\n",
       "      <td>...</td>\n",
       "    </tr>\n",
       "    <tr>\n",
       "      <th>96</th>\n",
       "      <td>0.814409</td>\n",
       "      <td>0.280378</td>\n",
       "    </tr>\n",
       "    <tr>\n",
       "      <th>97</th>\n",
       "      <td>0.817820</td>\n",
       "      <td>0.276317</td>\n",
       "    </tr>\n",
       "    <tr>\n",
       "      <th>98</th>\n",
       "      <td>0.819192</td>\n",
       "      <td>0.276250</td>\n",
       "    </tr>\n",
       "    <tr>\n",
       "      <th>99</th>\n",
       "      <td>0.818142</td>\n",
       "      <td>0.266426</td>\n",
       "    </tr>\n",
       "    <tr>\n",
       "      <th>100</th>\n",
       "      <td>0.817969</td>\n",
       "      <td>0.244048</td>\n",
       "    </tr>\n",
       "  </tbody>\n",
       "</table>\n",
       "<p>86 rows × 2 columns</p>\n",
       "</div>"
      ],
      "text/plain": [
       "sexo         H         M\n",
       "edad                    \n",
       "15    0.005667  0.018739\n",
       "16    0.010373  0.029626\n",
       "17    0.015345  0.044219\n",
       "18    0.022119  0.058188\n",
       "19    0.029188  0.070057\n",
       "...        ...       ...\n",
       "96    0.814409  0.280378\n",
       "97    0.817820  0.276317\n",
       "98    0.819192  0.276250\n",
       "99    0.818142  0.266426\n",
       "100   0.817969  0.244048\n",
       "\n",
       "[86 rows x 2 columns]"
      ]
     },
     "execution_count": 54,
     "metadata": {},
     "output_type": "execute_result"
    }
   ],
   "source": [
    "# promedio de 12 observaciones, tomando como centro la observación\n",
    "p_m=p_m.rolling(center=True,window=12,min_periods=1).mean()\n",
    "p_m"
   ]
  },
  {
   "cell_type": "code",
   "execution_count": 55,
   "id": "994fd94d",
   "metadata": {
    "ExecuteTime": {
     "end_time": "2022-05-05T15:09:27.081371Z",
     "start_time": "2022-05-05T15:09:26.880260Z"
    }
   },
   "outputs": [
    {
     "data": {
      "text/plain": [
       "<AxesSubplot:xlabel='edad'>"
      ]
     },
     "execution_count": 55,
     "metadata": {},
     "output_type": "execute_result"
    },
    {
     "data": {
      "image/png": "[encoded data removed]",
      "text/plain": [
       "<Figure size 432x288 with 1 Axes>"
      ]
     },
     "metadata": {
      "needs_background": "light"
     },
     "output_type": "display_data"
    }
   ],
   "source": [
    "p_m.plot()"
   ]
  },
  {
   "cell_type": "code",
   "execution_count": 56,
   "id": "2072bec0",
   "metadata": {
    "ExecuteTime": {
     "end_time": "2022-05-05T15:09:27.225294Z",
     "start_time": "2022-05-05T15:09:27.082371Z"
    }
   },
   "outputs": [
    {
     "data": {
      "text/html": [
       "<div>\n",
       "<style scoped>\n",
       "    .dataframe tbody tr th:only-of-type {\n",
       "        vertical-align: middle;\n",
       "    }\n",
       "\n",
       "    .dataframe tbody tr th {\n",
       "        vertical-align: top;\n",
       "    }\n",
       "\n",
       "    .dataframe thead th {\n",
       "        text-align: right;\n",
       "    }\n",
       "</style>\n",
       "<table border=\"1\" class=\"dataframe\">\n",
       "  <thead>\n",
       "    <tr style=\"text-align: right;\">\n",
       "      <th></th>\n",
       "      <th>hh</th>\n",
       "      <th>FECHA_NACIMIENTO_AFI</th>\n",
       "      <th>sexo</th>\n",
       "      <th>edad</th>\n",
       "      <th>FECHA_MUERTE_AFI</th>\n",
       "      <th>EDAD_MUERTE_AFI</th>\n",
       "      <th>ec</th>\n",
       "      <th>CEDULA_CONYUGE</th>\n",
       "      <th>FECHA_NACIMIENTO_CONY</th>\n",
       "      <th>SEXO_CONY</th>\n",
       "      <th>EDAD_CONY</th>\n",
       "      <th>FECHA_MUERTE_CONY</th>\n",
       "      <th>EDAD_MUERTE_CONY</th>\n",
       "      <th>peso</th>\n",
       "    </tr>\n",
       "  </thead>\n",
       "  <tbody>\n",
       "    <tr>\n",
       "      <th>0</th>\n",
       "      <td>100861137</td>\n",
       "      <td>27/05/1947</td>\n",
       "      <td>M</td>\n",
       "      <td>73</td>\n",
       "      <td>NaN</td>\n",
       "      <td>0</td>\n",
       "      <td>1</td>\n",
       "      <td>0100013929</td>\n",
       "      <td>18/05/1945</td>\n",
       "      <td>H</td>\n",
       "      <td>75.0</td>\n",
       "      <td>NaN</td>\n",
       "      <td>NaN</td>\n",
       "      <td>1</td>\n",
       "    </tr>\n",
       "    <tr>\n",
       "      <th>2</th>\n",
       "      <td>101893758</td>\n",
       "      <td>08/12/1961</td>\n",
       "      <td>M</td>\n",
       "      <td>59</td>\n",
       "      <td>NaN</td>\n",
       "      <td>0</td>\n",
       "      <td>1</td>\n",
       "      <td>0100018357</td>\n",
       "      <td>13/02/1948</td>\n",
       "      <td>H</td>\n",
       "      <td>72.0</td>\n",
       "      <td>NaN</td>\n",
       "      <td>NaN</td>\n",
       "      <td>1</td>\n",
       "    </tr>\n",
       "    <tr>\n",
       "      <th>3</th>\n",
       "      <td>1004557292</td>\n",
       "      <td>18/06/1992</td>\n",
       "      <td>H</td>\n",
       "      <td>28</td>\n",
       "      <td>NaN</td>\n",
       "      <td>0</td>\n",
       "      <td>1</td>\n",
       "      <td>1050220381</td>\n",
       "      <td>17/11/1997</td>\n",
       "      <td>M</td>\n",
       "      <td>23.0</td>\n",
       "      <td>NaN</td>\n",
       "      <td>NaN</td>\n",
       "      <td>1</td>\n",
       "    </tr>\n",
       "    <tr>\n",
       "      <th>4</th>\n",
       "      <td>100436286</td>\n",
       "      <td>04/08/1946</td>\n",
       "      <td>H</td>\n",
       "      <td>74</td>\n",
       "      <td>NaN</td>\n",
       "      <td>0</td>\n",
       "      <td>1</td>\n",
       "      <td>0100023530</td>\n",
       "      <td>25/05/1947</td>\n",
       "      <td>M</td>\n",
       "      <td>73.0</td>\n",
       "      <td>NaN</td>\n",
       "      <td>NaN</td>\n",
       "      <td>1</td>\n",
       "    </tr>\n",
       "    <tr>\n",
       "      <th>5</th>\n",
       "      <td>1201468517</td>\n",
       "      <td>01/03/1943</td>\n",
       "      <td>M</td>\n",
       "      <td>77</td>\n",
       "      <td>NaN</td>\n",
       "      <td>0</td>\n",
       "      <td>1</td>\n",
       "      <td>0100050319</td>\n",
       "      <td>19/02/1931</td>\n",
       "      <td>H</td>\n",
       "      <td>89.0</td>\n",
       "      <td>NaN</td>\n",
       "      <td>NaN</td>\n",
       "      <td>1</td>\n",
       "    </tr>\n",
       "    <tr>\n",
       "      <th>...</th>\n",
       "      <td>...</td>\n",
       "      <td>...</td>\n",
       "      <td>...</td>\n",
       "      <td>...</td>\n",
       "      <td>...</td>\n",
       "      <td>...</td>\n",
       "      <td>...</td>\n",
       "      <td>...</td>\n",
       "      <td>...</td>\n",
       "      <td>...</td>\n",
       "      <td>...</td>\n",
       "      <td>...</td>\n",
       "      <td>...</td>\n",
       "      <td>...</td>\n",
       "    </tr>\n",
       "    <tr>\n",
       "      <th>336273</th>\n",
       "      <td>1302235831</td>\n",
       "      <td>30/05/1936</td>\n",
       "      <td>H</td>\n",
       "      <td>84</td>\n",
       "      <td>NaN</td>\n",
       "      <td>0</td>\n",
       "      <td>2</td>\n",
       "      <td>NO CONYUGE</td>\n",
       "      <td>NaN</td>\n",
       "      <td>NaN</td>\n",
       "      <td>NaN</td>\n",
       "      <td>NaN</td>\n",
       "      <td>NaN</td>\n",
       "      <td>1</td>\n",
       "    </tr>\n",
       "    <tr>\n",
       "      <th>349005</th>\n",
       "      <td>913826061</td>\n",
       "      <td>14/07/1970</td>\n",
       "      <td>M</td>\n",
       "      <td>50</td>\n",
       "      <td>NaN</td>\n",
       "      <td>0</td>\n",
       "      <td>2</td>\n",
       "      <td>NO CONYUGE</td>\n",
       "      <td>NaN</td>\n",
       "      <td>NaN</td>\n",
       "      <td>NaN</td>\n",
       "      <td>NaN</td>\n",
       "      <td>NaN</td>\n",
       "      <td>1</td>\n",
       "    </tr>\n",
       "    <tr>\n",
       "      <th>380844</th>\n",
       "      <td>1400166300</td>\n",
       "      <td>15/07/1961</td>\n",
       "      <td>M</td>\n",
       "      <td>59</td>\n",
       "      <td>NaN</td>\n",
       "      <td>0</td>\n",
       "      <td>2</td>\n",
       "      <td>NO CONYUGE</td>\n",
       "      <td>NaN</td>\n",
       "      <td>NaN</td>\n",
       "      <td>NaN</td>\n",
       "      <td>NaN</td>\n",
       "      <td>NaN</td>\n",
       "      <td>1</td>\n",
       "    </tr>\n",
       "    <tr>\n",
       "      <th>388648</th>\n",
       "      <td>1706445853</td>\n",
       "      <td>18/05/1952</td>\n",
       "      <td>H</td>\n",
       "      <td>68</td>\n",
       "      <td>NaN</td>\n",
       "      <td>0</td>\n",
       "      <td>2</td>\n",
       "      <td>NO CONYUGE</td>\n",
       "      <td>NaN</td>\n",
       "      <td>NaN</td>\n",
       "      <td>NaN</td>\n",
       "      <td>NaN</td>\n",
       "      <td>NaN</td>\n",
       "      <td>1</td>\n",
       "    </tr>\n",
       "    <tr>\n",
       "      <th>389644</th>\n",
       "      <td>100391515</td>\n",
       "      <td>13/12/1940</td>\n",
       "      <td>H</td>\n",
       "      <td>80</td>\n",
       "      <td>NaN</td>\n",
       "      <td>0</td>\n",
       "      <td>2</td>\n",
       "      <td>NO CONYUGE</td>\n",
       "      <td>NaN</td>\n",
       "      <td>NaN</td>\n",
       "      <td>NaN</td>\n",
       "      <td>NaN</td>\n",
       "      <td>NaN</td>\n",
       "      <td>1</td>\n",
       "    </tr>\n",
       "  </tbody>\n",
       "</table>\n",
       "<p>175072 rows × 14 columns</p>\n",
       "</div>"
      ],
      "text/plain": [
       "                hh FECHA_NACIMIENTO_AFI sexo  edad FECHA_MUERTE_AFI  \\\n",
       "0        100861137           27/05/1947    M    73              NaN   \n",
       "2        101893758           08/12/1961    M    59              NaN   \n",
       "3       1004557292           18/06/1992    H    28              NaN   \n",
       "4        100436286           04/08/1946    H    74              NaN   \n",
       "5       1201468517           01/03/1943    M    77              NaN   \n",
       "...            ...                  ...  ...   ...              ...   \n",
       "336273  1302235831           30/05/1936    H    84              NaN   \n",
       "349005   913826061           14/07/1970    M    50              NaN   \n",
       "380844  1400166300           15/07/1961    M    59              NaN   \n",
       "388648  1706445853           18/05/1952    H    68              NaN   \n",
       "389644   100391515           13/12/1940    H    80              NaN   \n",
       "\n",
       "        EDAD_MUERTE_AFI ec CEDULA_CONYUGE FECHA_NACIMIENTO_CONY SEXO_CONY  \\\n",
       "0                     0  1     0100013929            18/05/1945         H   \n",
       "2                     0  1     0100018357            13/02/1948         H   \n",
       "3                     0  1     1050220381            17/11/1997         M   \n",
       "4                     0  1     0100023530            25/05/1947         M   \n",
       "5                     0  1     0100050319            19/02/1931         H   \n",
       "...                 ... ..            ...                   ...       ...   \n",
       "336273                0  2     NO CONYUGE                   NaN       NaN   \n",
       "349005                0  2     NO CONYUGE                   NaN       NaN   \n",
       "380844                0  2     NO CONYUGE                   NaN       NaN   \n",
       "388648                0  2     NO CONYUGE                   NaN       NaN   \n",
       "389644                0  2     NO CONYUGE                   NaN       NaN   \n",
       "\n",
       "        EDAD_CONY FECHA_MUERTE_CONY  EDAD_MUERTE_CONY  peso  \n",
       "0            75.0               NaN               NaN     1  \n",
       "2            72.0               NaN               NaN     1  \n",
       "3            23.0               NaN               NaN     1  \n",
       "4            73.0               NaN               NaN     1  \n",
       "5            89.0               NaN               NaN     1  \n",
       "...           ...               ...               ...   ...  \n",
       "336273        NaN               NaN               NaN     1  \n",
       "349005        NaN               NaN               NaN     1  \n",
       "380844        NaN               NaN               NaN     1  \n",
       "388648        NaN               NaN               NaN     1  \n",
       "389644        NaN               NaN               NaN     1  \n",
       "\n",
       "[175072 rows x 14 columns]"
      ]
     },
     "execution_count": 56,
     "metadata": {},
     "output_type": "execute_result"
    }
   ],
   "source": [
    "married=bd[bd['ec']=='1'].append(bd[bd['ec']=='2'])\n",
    "married"
   ]
  },
  {
   "cell_type": "code",
   "execution_count": 57,
   "id": "6285c685",
   "metadata": {
    "ExecuteTime": {
     "end_time": "2022-05-05T15:09:27.314278Z",
     "start_time": "2022-05-05T15:09:27.227301Z"
    }
   },
   "outputs": [
    {
     "data": {
      "text/html": [
       "<div>\n",
       "<style scoped>\n",
       "    .dataframe tbody tr th:only-of-type {\n",
       "        vertical-align: middle;\n",
       "    }\n",
       "\n",
       "    .dataframe tbody tr th {\n",
       "        vertical-align: top;\n",
       "    }\n",
       "\n",
       "    .dataframe thead th {\n",
       "        text-align: right;\n",
       "    }\n",
       "</style>\n",
       "<table border=\"1\" class=\"dataframe\">\n",
       "  <thead>\n",
       "    <tr style=\"text-align: right;\">\n",
       "      <th></th>\n",
       "      <th>hh</th>\n",
       "      <th>FECHA_NACIMIENTO_AFI</th>\n",
       "      <th>sexo</th>\n",
       "      <th>edad</th>\n",
       "      <th>FECHA_MUERTE_AFI</th>\n",
       "      <th>EDAD_MUERTE_AFI</th>\n",
       "      <th>ec</th>\n",
       "      <th>CEDULA_CONYUGE</th>\n",
       "      <th>FECHA_NACIMIENTO_CONY</th>\n",
       "      <th>SEXO_CONY</th>\n",
       "      <th>EDAD_CONY</th>\n",
       "      <th>FECHA_MUERTE_CONY</th>\n",
       "      <th>EDAD_MUERTE_CONY</th>\n",
       "      <th>peso</th>\n",
       "    </tr>\n",
       "  </thead>\n",
       "  <tbody>\n",
       "    <tr>\n",
       "      <th>3</th>\n",
       "      <td>1004557292</td>\n",
       "      <td>18/06/1992</td>\n",
       "      <td>H</td>\n",
       "      <td>28</td>\n",
       "      <td>NaN</td>\n",
       "      <td>0</td>\n",
       "      <td>1</td>\n",
       "      <td>1050220381</td>\n",
       "      <td>17/11/1997</td>\n",
       "      <td>M</td>\n",
       "      <td>23.0</td>\n",
       "      <td>NaN</td>\n",
       "      <td>NaN</td>\n",
       "      <td>1</td>\n",
       "    </tr>\n",
       "    <tr>\n",
       "      <th>4</th>\n",
       "      <td>100436286</td>\n",
       "      <td>04/08/1946</td>\n",
       "      <td>H</td>\n",
       "      <td>74</td>\n",
       "      <td>NaN</td>\n",
       "      <td>0</td>\n",
       "      <td>1</td>\n",
       "      <td>0100023530</td>\n",
       "      <td>25/05/1947</td>\n",
       "      <td>M</td>\n",
       "      <td>73.0</td>\n",
       "      <td>NaN</td>\n",
       "      <td>NaN</td>\n",
       "      <td>1</td>\n",
       "    </tr>\n",
       "    <tr>\n",
       "      <th>8</th>\n",
       "      <td>100064971</td>\n",
       "      <td>25/10/1937</td>\n",
       "      <td>H</td>\n",
       "      <td>83</td>\n",
       "      <td>NaN</td>\n",
       "      <td>0</td>\n",
       "      <td>1</td>\n",
       "      <td>0100064989</td>\n",
       "      <td>05/11/1948</td>\n",
       "      <td>M</td>\n",
       "      <td>72.0</td>\n",
       "      <td>NaN</td>\n",
       "      <td>NaN</td>\n",
       "      <td>1</td>\n",
       "    </tr>\n",
       "    <tr>\n",
       "      <th>11</th>\n",
       "      <td>100066307</td>\n",
       "      <td>28/07/1944</td>\n",
       "      <td>H</td>\n",
       "      <td>76</td>\n",
       "      <td>NaN</td>\n",
       "      <td>0</td>\n",
       "      <td>1</td>\n",
       "      <td>0100066299</td>\n",
       "      <td>03/04/1943</td>\n",
       "      <td>M</td>\n",
       "      <td>77.0</td>\n",
       "      <td>NaN</td>\n",
       "      <td>NaN</td>\n",
       "      <td>1</td>\n",
       "    </tr>\n",
       "    <tr>\n",
       "      <th>15</th>\n",
       "      <td>100532605</td>\n",
       "      <td>19/08/1944</td>\n",
       "      <td>H</td>\n",
       "      <td>76</td>\n",
       "      <td>NaN</td>\n",
       "      <td>0</td>\n",
       "      <td>1</td>\n",
       "      <td>0100080514</td>\n",
       "      <td>22/01/1939</td>\n",
       "      <td>M</td>\n",
       "      <td>81.0</td>\n",
       "      <td>NaN</td>\n",
       "      <td>NaN</td>\n",
       "      <td>1</td>\n",
       "    </tr>\n",
       "    <tr>\n",
       "      <th>...</th>\n",
       "      <td>...</td>\n",
       "      <td>...</td>\n",
       "      <td>...</td>\n",
       "      <td>...</td>\n",
       "      <td>...</td>\n",
       "      <td>...</td>\n",
       "      <td>...</td>\n",
       "      <td>...</td>\n",
       "      <td>...</td>\n",
       "      <td>...</td>\n",
       "      <td>...</td>\n",
       "      <td>...</td>\n",
       "      <td>...</td>\n",
       "      <td>...</td>\n",
       "    </tr>\n",
       "    <tr>\n",
       "      <th>173207</th>\n",
       "      <td>2000050845</td>\n",
       "      <td>15/05/1978</td>\n",
       "      <td>H</td>\n",
       "      <td>42</td>\n",
       "      <td>NaN</td>\n",
       "      <td>0</td>\n",
       "      <td>2</td>\n",
       "      <td>0961390184</td>\n",
       "      <td>24/10/1990</td>\n",
       "      <td>M</td>\n",
       "      <td>30.0</td>\n",
       "      <td>NaN</td>\n",
       "      <td>NaN</td>\n",
       "      <td>1</td>\n",
       "    </tr>\n",
       "    <tr>\n",
       "      <th>232705</th>\n",
       "      <td>1307967164</td>\n",
       "      <td>22/12/1972</td>\n",
       "      <td>H</td>\n",
       "      <td>48</td>\n",
       "      <td>NaN</td>\n",
       "      <td>0</td>\n",
       "      <td>2</td>\n",
       "      <td>NO CONYUGE</td>\n",
       "      <td>NaN</td>\n",
       "      <td>NaN</td>\n",
       "      <td>NaN</td>\n",
       "      <td>NaN</td>\n",
       "      <td>NaN</td>\n",
       "      <td>1</td>\n",
       "    </tr>\n",
       "    <tr>\n",
       "      <th>336273</th>\n",
       "      <td>1302235831</td>\n",
       "      <td>30/05/1936</td>\n",
       "      <td>H</td>\n",
       "      <td>84</td>\n",
       "      <td>NaN</td>\n",
       "      <td>0</td>\n",
       "      <td>2</td>\n",
       "      <td>NO CONYUGE</td>\n",
       "      <td>NaN</td>\n",
       "      <td>NaN</td>\n",
       "      <td>NaN</td>\n",
       "      <td>NaN</td>\n",
       "      <td>NaN</td>\n",
       "      <td>1</td>\n",
       "    </tr>\n",
       "    <tr>\n",
       "      <th>388648</th>\n",
       "      <td>1706445853</td>\n",
       "      <td>18/05/1952</td>\n",
       "      <td>H</td>\n",
       "      <td>68</td>\n",
       "      <td>NaN</td>\n",
       "      <td>0</td>\n",
       "      <td>2</td>\n",
       "      <td>NO CONYUGE</td>\n",
       "      <td>NaN</td>\n",
       "      <td>NaN</td>\n",
       "      <td>NaN</td>\n",
       "      <td>NaN</td>\n",
       "      <td>NaN</td>\n",
       "      <td>1</td>\n",
       "    </tr>\n",
       "    <tr>\n",
       "      <th>389644</th>\n",
       "      <td>100391515</td>\n",
       "      <td>13/12/1940</td>\n",
       "      <td>H</td>\n",
       "      <td>80</td>\n",
       "      <td>NaN</td>\n",
       "      <td>0</td>\n",
       "      <td>2</td>\n",
       "      <td>NO CONYUGE</td>\n",
       "      <td>NaN</td>\n",
       "      <td>NaN</td>\n",
       "      <td>NaN</td>\n",
       "      <td>NaN</td>\n",
       "      <td>NaN</td>\n",
       "      <td>1</td>\n",
       "    </tr>\n",
       "  </tbody>\n",
       "</table>\n",
       "<p>114953 rows × 14 columns</p>\n",
       "</div>"
      ],
      "text/plain": [
       "                hh FECHA_NACIMIENTO_AFI sexo  edad FECHA_MUERTE_AFI  \\\n",
       "3       1004557292           18/06/1992    H    28              NaN   \n",
       "4        100436286           04/08/1946    H    74              NaN   \n",
       "8        100064971           25/10/1937    H    83              NaN   \n",
       "11       100066307           28/07/1944    H    76              NaN   \n",
       "15       100532605           19/08/1944    H    76              NaN   \n",
       "...            ...                  ...  ...   ...              ...   \n",
       "173207  2000050845           15/05/1978    H    42              NaN   \n",
       "232705  1307967164           22/12/1972    H    48              NaN   \n",
       "336273  1302235831           30/05/1936    H    84              NaN   \n",
       "388648  1706445853           18/05/1952    H    68              NaN   \n",
       "389644   100391515           13/12/1940    H    80              NaN   \n",
       "\n",
       "        EDAD_MUERTE_AFI ec CEDULA_CONYUGE FECHA_NACIMIENTO_CONY SEXO_CONY  \\\n",
       "3                     0  1     1050220381            17/11/1997         M   \n",
       "4                     0  1     0100023530            25/05/1947         M   \n",
       "8                     0  1     0100064989            05/11/1948         M   \n",
       "11                    0  1     0100066299            03/04/1943         M   \n",
       "15                    0  1     0100080514            22/01/1939         M   \n",
       "...                 ... ..            ...                   ...       ...   \n",
       "173207                0  2     0961390184            24/10/1990         M   \n",
       "232705                0  2     NO CONYUGE                   NaN       NaN   \n",
       "336273                0  2     NO CONYUGE                   NaN       NaN   \n",
       "388648                0  2     NO CONYUGE                   NaN       NaN   \n",
       "389644                0  2     NO CONYUGE                   NaN       NaN   \n",
       "\n",
       "        EDAD_CONY FECHA_MUERTE_CONY  EDAD_MUERTE_CONY  peso  \n",
       "3            23.0               NaN               NaN     1  \n",
       "4            73.0               NaN               NaN     1  \n",
       "8            72.0               NaN               NaN     1  \n",
       "11           77.0               NaN               NaN     1  \n",
       "15           81.0               NaN               NaN     1  \n",
       "...           ...               ...               ...   ...  \n",
       "173207       30.0               NaN               NaN     1  \n",
       "232705        NaN               NaN               NaN     1  \n",
       "336273        NaN               NaN               NaN     1  \n",
       "388648        NaN               NaN               NaN     1  \n",
       "389644        NaN               NaN               NaN     1  \n",
       "\n",
       "[114953 rows x 14 columns]"
      ]
     },
     "execution_count": 57,
     "metadata": {},
     "output_type": "execute_result"
    }
   ],
   "source": [
    "married[married['sexo']=='H']"
   ]
  },
  {
   "cell_type": "code",
   "execution_count": 58,
   "id": "64b2760e",
   "metadata": {
    "ExecuteTime": {
     "end_time": "2022-05-05T15:09:27.393235Z",
     "start_time": "2022-05-05T15:09:27.315277Z"
    }
   },
   "outputs": [
    {
     "data": {
      "text/html": [
       "<div>\n",
       "<style scoped>\n",
       "    .dataframe tbody tr th:only-of-type {\n",
       "        vertical-align: middle;\n",
       "    }\n",
       "\n",
       "    .dataframe tbody tr th {\n",
       "        vertical-align: top;\n",
       "    }\n",
       "\n",
       "    .dataframe thead th {\n",
       "        text-align: right;\n",
       "    }\n",
       "</style>\n",
       "<table border=\"1\" class=\"dataframe\">\n",
       "  <thead>\n",
       "    <tr style=\"text-align: right;\">\n",
       "      <th>EDAD_CONY</th>\n",
       "      <th>13.0</th>\n",
       "      <th>17.0</th>\n",
       "      <th>18.0</th>\n",
       "      <th>19.0</th>\n",
       "      <th>20.0</th>\n",
       "      <th>21.0</th>\n",
       "      <th>22.0</th>\n",
       "      <th>23.0</th>\n",
       "      <th>24.0</th>\n",
       "      <th>25.0</th>\n",
       "      <th>...</th>\n",
       "      <th>96.0</th>\n",
       "      <th>97.0</th>\n",
       "      <th>98.0</th>\n",
       "      <th>99.0</th>\n",
       "      <th>100.0</th>\n",
       "      <th>101.0</th>\n",
       "      <th>104.0</th>\n",
       "      <th>105.0</th>\n",
       "      <th>106.0</th>\n",
       "      <th>126.0</th>\n",
       "    </tr>\n",
       "    <tr>\n",
       "      <th>edad</th>\n",
       "      <th></th>\n",
       "      <th></th>\n",
       "      <th></th>\n",
       "      <th></th>\n",
       "      <th></th>\n",
       "      <th></th>\n",
       "      <th></th>\n",
       "      <th></th>\n",
       "      <th></th>\n",
       "      <th></th>\n",
       "      <th></th>\n",
       "      <th></th>\n",
       "      <th></th>\n",
       "      <th></th>\n",
       "      <th></th>\n",
       "      <th></th>\n",
       "      <th></th>\n",
       "      <th></th>\n",
       "      <th></th>\n",
       "      <th></th>\n",
       "      <th></th>\n",
       "    </tr>\n",
       "  </thead>\n",
       "  <tbody>\n",
       "    <tr>\n",
       "      <th>19</th>\n",
       "      <td>0.0</td>\n",
       "      <td>0.0</td>\n",
       "      <td>1.0</td>\n",
       "      <td>0.0</td>\n",
       "      <td>1.0</td>\n",
       "      <td>0.0</td>\n",
       "      <td>0.0</td>\n",
       "      <td>0.0</td>\n",
       "      <td>0.0</td>\n",
       "      <td>0.0</td>\n",
       "      <td>...</td>\n",
       "      <td>0.0</td>\n",
       "      <td>0.0</td>\n",
       "      <td>0.0</td>\n",
       "      <td>0.0</td>\n",
       "      <td>0.0</td>\n",
       "      <td>0.0</td>\n",
       "      <td>0.0</td>\n",
       "      <td>0.0</td>\n",
       "      <td>0.0</td>\n",
       "      <td>0.0</td>\n",
       "    </tr>\n",
       "    <tr>\n",
       "      <th>20</th>\n",
       "      <td>0.0</td>\n",
       "      <td>0.0</td>\n",
       "      <td>0.0</td>\n",
       "      <td>0.0</td>\n",
       "      <td>0.0</td>\n",
       "      <td>6.0</td>\n",
       "      <td>1.0</td>\n",
       "      <td>1.0</td>\n",
       "      <td>0.0</td>\n",
       "      <td>0.0</td>\n",
       "      <td>...</td>\n",
       "      <td>0.0</td>\n",
       "      <td>0.0</td>\n",
       "      <td>0.0</td>\n",
       "      <td>0.0</td>\n",
       "      <td>0.0</td>\n",
       "      <td>0.0</td>\n",
       "      <td>0.0</td>\n",
       "      <td>0.0</td>\n",
       "      <td>0.0</td>\n",
       "      <td>0.0</td>\n",
       "    </tr>\n",
       "    <tr>\n",
       "      <th>21</th>\n",
       "      <td>0.0</td>\n",
       "      <td>0.0</td>\n",
       "      <td>1.0</td>\n",
       "      <td>4.0</td>\n",
       "      <td>5.0</td>\n",
       "      <td>3.0</td>\n",
       "      <td>7.0</td>\n",
       "      <td>2.0</td>\n",
       "      <td>1.0</td>\n",
       "      <td>2.0</td>\n",
       "      <td>...</td>\n",
       "      <td>0.0</td>\n",
       "      <td>0.0</td>\n",
       "      <td>0.0</td>\n",
       "      <td>0.0</td>\n",
       "      <td>0.0</td>\n",
       "      <td>0.0</td>\n",
       "      <td>0.0</td>\n",
       "      <td>0.0</td>\n",
       "      <td>0.0</td>\n",
       "      <td>0.0</td>\n",
       "    </tr>\n",
       "    <tr>\n",
       "      <th>22</th>\n",
       "      <td>0.0</td>\n",
       "      <td>0.0</td>\n",
       "      <td>0.0</td>\n",
       "      <td>1.0</td>\n",
       "      <td>5.0</td>\n",
       "      <td>11.0</td>\n",
       "      <td>10.0</td>\n",
       "      <td>4.0</td>\n",
       "      <td>1.0</td>\n",
       "      <td>2.0</td>\n",
       "      <td>...</td>\n",
       "      <td>0.0</td>\n",
       "      <td>0.0</td>\n",
       "      <td>0.0</td>\n",
       "      <td>0.0</td>\n",
       "      <td>0.0</td>\n",
       "      <td>0.0</td>\n",
       "      <td>0.0</td>\n",
       "      <td>0.0</td>\n",
       "      <td>0.0</td>\n",
       "      <td>0.0</td>\n",
       "    </tr>\n",
       "    <tr>\n",
       "      <th>23</th>\n",
       "      <td>0.0</td>\n",
       "      <td>0.0</td>\n",
       "      <td>2.0</td>\n",
       "      <td>0.0</td>\n",
       "      <td>11.0</td>\n",
       "      <td>9.0</td>\n",
       "      <td>14.0</td>\n",
       "      <td>12.0</td>\n",
       "      <td>12.0</td>\n",
       "      <td>5.0</td>\n",
       "      <td>...</td>\n",
       "      <td>0.0</td>\n",
       "      <td>0.0</td>\n",
       "      <td>0.0</td>\n",
       "      <td>0.0</td>\n",
       "      <td>0.0</td>\n",
       "      <td>0.0</td>\n",
       "      <td>0.0</td>\n",
       "      <td>0.0</td>\n",
       "      <td>0.0</td>\n",
       "      <td>0.0</td>\n",
       "    </tr>\n",
       "    <tr>\n",
       "      <th>...</th>\n",
       "      <td>...</td>\n",
       "      <td>...</td>\n",
       "      <td>...</td>\n",
       "      <td>...</td>\n",
       "      <td>...</td>\n",
       "      <td>...</td>\n",
       "      <td>...</td>\n",
       "      <td>...</td>\n",
       "      <td>...</td>\n",
       "      <td>...</td>\n",
       "      <td>...</td>\n",
       "      <td>...</td>\n",
       "      <td>...</td>\n",
       "      <td>...</td>\n",
       "      <td>...</td>\n",
       "      <td>...</td>\n",
       "      <td>...</td>\n",
       "      <td>...</td>\n",
       "      <td>...</td>\n",
       "      <td>...</td>\n",
       "      <td>...</td>\n",
       "    </tr>\n",
       "    <tr>\n",
       "      <th>101</th>\n",
       "      <td>0.0</td>\n",
       "      <td>0.0</td>\n",
       "      <td>0.0</td>\n",
       "      <td>0.0</td>\n",
       "      <td>0.0</td>\n",
       "      <td>0.0</td>\n",
       "      <td>0.0</td>\n",
       "      <td>0.0</td>\n",
       "      <td>0.0</td>\n",
       "      <td>0.0</td>\n",
       "      <td>...</td>\n",
       "      <td>0.0</td>\n",
       "      <td>0.0</td>\n",
       "      <td>0.0</td>\n",
       "      <td>0.0</td>\n",
       "      <td>0.0</td>\n",
       "      <td>0.0</td>\n",
       "      <td>0.0</td>\n",
       "      <td>0.0</td>\n",
       "      <td>0.0</td>\n",
       "      <td>0.0</td>\n",
       "    </tr>\n",
       "    <tr>\n",
       "      <th>102</th>\n",
       "      <td>0.0</td>\n",
       "      <td>0.0</td>\n",
       "      <td>0.0</td>\n",
       "      <td>0.0</td>\n",
       "      <td>0.0</td>\n",
       "      <td>0.0</td>\n",
       "      <td>0.0</td>\n",
       "      <td>0.0</td>\n",
       "      <td>0.0</td>\n",
       "      <td>0.0</td>\n",
       "      <td>...</td>\n",
       "      <td>0.0</td>\n",
       "      <td>0.0</td>\n",
       "      <td>0.0</td>\n",
       "      <td>1.0</td>\n",
       "      <td>0.0</td>\n",
       "      <td>0.0</td>\n",
       "      <td>0.0</td>\n",
       "      <td>0.0</td>\n",
       "      <td>0.0</td>\n",
       "      <td>0.0</td>\n",
       "    </tr>\n",
       "    <tr>\n",
       "      <th>103</th>\n",
       "      <td>0.0</td>\n",
       "      <td>0.0</td>\n",
       "      <td>0.0</td>\n",
       "      <td>0.0</td>\n",
       "      <td>0.0</td>\n",
       "      <td>0.0</td>\n",
       "      <td>0.0</td>\n",
       "      <td>0.0</td>\n",
       "      <td>0.0</td>\n",
       "      <td>0.0</td>\n",
       "      <td>...</td>\n",
       "      <td>0.0</td>\n",
       "      <td>0.0</td>\n",
       "      <td>1.0</td>\n",
       "      <td>0.0</td>\n",
       "      <td>0.0</td>\n",
       "      <td>0.0</td>\n",
       "      <td>0.0</td>\n",
       "      <td>0.0</td>\n",
       "      <td>0.0</td>\n",
       "      <td>0.0</td>\n",
       "    </tr>\n",
       "    <tr>\n",
       "      <th>105</th>\n",
       "      <td>0.0</td>\n",
       "      <td>0.0</td>\n",
       "      <td>0.0</td>\n",
       "      <td>0.0</td>\n",
       "      <td>0.0</td>\n",
       "      <td>0.0</td>\n",
       "      <td>0.0</td>\n",
       "      <td>0.0</td>\n",
       "      <td>0.0</td>\n",
       "      <td>0.0</td>\n",
       "      <td>...</td>\n",
       "      <td>0.0</td>\n",
       "      <td>0.0</td>\n",
       "      <td>0.0</td>\n",
       "      <td>0.0</td>\n",
       "      <td>0.0</td>\n",
       "      <td>0.0</td>\n",
       "      <td>0.0</td>\n",
       "      <td>0.0</td>\n",
       "      <td>0.0</td>\n",
       "      <td>0.0</td>\n",
       "    </tr>\n",
       "    <tr>\n",
       "      <th>110</th>\n",
       "      <td>0.0</td>\n",
       "      <td>0.0</td>\n",
       "      <td>0.0</td>\n",
       "      <td>0.0</td>\n",
       "      <td>0.0</td>\n",
       "      <td>0.0</td>\n",
       "      <td>0.0</td>\n",
       "      <td>0.0</td>\n",
       "      <td>0.0</td>\n",
       "      <td>0.0</td>\n",
       "      <td>...</td>\n",
       "      <td>0.0</td>\n",
       "      <td>0.0</td>\n",
       "      <td>0.0</td>\n",
       "      <td>0.0</td>\n",
       "      <td>0.0</td>\n",
       "      <td>0.0</td>\n",
       "      <td>0.0</td>\n",
       "      <td>0.0</td>\n",
       "      <td>0.0</td>\n",
       "      <td>0.0</td>\n",
       "    </tr>\n",
       "  </tbody>\n",
       "</table>\n",
       "<p>87 rows × 90 columns</p>\n",
       "</div>"
      ],
      "text/plain": [
       "EDAD_CONY  13.0   17.0   18.0   19.0   20.0   21.0   22.0   23.0   24.0   \\\n",
       "edad                                                                       \n",
       "19           0.0    0.0    1.0    0.0    1.0    0.0    0.0    0.0    0.0   \n",
       "20           0.0    0.0    0.0    0.0    0.0    6.0    1.0    1.0    0.0   \n",
       "21           0.0    0.0    1.0    4.0    5.0    3.0    7.0    2.0    1.0   \n",
       "22           0.0    0.0    0.0    1.0    5.0   11.0   10.0    4.0    1.0   \n",
       "23           0.0    0.0    2.0    0.0   11.0    9.0   14.0   12.0   12.0   \n",
       "...          ...    ...    ...    ...    ...    ...    ...    ...    ...   \n",
       "101          0.0    0.0    0.0    0.0    0.0    0.0    0.0    0.0    0.0   \n",
       "102          0.0    0.0    0.0    0.0    0.0    0.0    0.0    0.0    0.0   \n",
       "103          0.0    0.0    0.0    0.0    0.0    0.0    0.0    0.0    0.0   \n",
       "105          0.0    0.0    0.0    0.0    0.0    0.0    0.0    0.0    0.0   \n",
       "110          0.0    0.0    0.0    0.0    0.0    0.0    0.0    0.0    0.0   \n",
       "\n",
       "EDAD_CONY  25.0   ...  96.0   97.0   98.0   99.0   100.0  101.0  104.0  105.0  \\\n",
       "edad              ...                                                           \n",
       "19           0.0  ...    0.0    0.0    0.0    0.0    0.0    0.0    0.0    0.0   \n",
       "20           0.0  ...    0.0    0.0    0.0    0.0    0.0    0.0    0.0    0.0   \n",
       "21           2.0  ...    0.0    0.0    0.0    0.0    0.0    0.0    0.0    0.0   \n",
       "22           2.0  ...    0.0    0.0    0.0    0.0    0.0    0.0    0.0    0.0   \n",
       "23           5.0  ...    0.0    0.0    0.0    0.0    0.0    0.0    0.0    0.0   \n",
       "...          ...  ...    ...    ...    ...    ...    ...    ...    ...    ...   \n",
       "101          0.0  ...    0.0    0.0    0.0    0.0    0.0    0.0    0.0    0.0   \n",
       "102          0.0  ...    0.0    0.0    0.0    1.0    0.0    0.0    0.0    0.0   \n",
       "103          0.0  ...    0.0    0.0    1.0    0.0    0.0    0.0    0.0    0.0   \n",
       "105          0.0  ...    0.0    0.0    0.0    0.0    0.0    0.0    0.0    0.0   \n",
       "110          0.0  ...    0.0    0.0    0.0    0.0    0.0    0.0    0.0    0.0   \n",
       "\n",
       "EDAD_CONY  106.0  126.0  \n",
       "edad                     \n",
       "19           0.0    0.0  \n",
       "20           0.0    0.0  \n",
       "21           0.0    0.0  \n",
       "22           0.0    0.0  \n",
       "23           0.0    0.0  \n",
       "...          ...    ...  \n",
       "101          0.0    0.0  \n",
       "102          0.0    0.0  \n",
       "103          0.0    0.0  \n",
       "105          0.0    0.0  \n",
       "110          0.0    0.0  \n",
       "\n",
       "[87 rows x 90 columns]"
      ]
     },
     "execution_count": 58,
     "metadata": {},
     "output_type": "execute_result"
    }
   ],
   "source": [
    "edades=married[married['sexo']=='H'].groupby(['edad', 'EDAD_CONY'])['hh'].count().unstack(1).fillna(0)\n",
    "#edades=married.groupby(['edad', 'EDAD_CONY'])['hh'].count().unstack(1).fillna(0).reindex(range(15,105))\n",
    "edades"
   ]
  },
  {
   "cell_type": "code",
   "execution_count": 59,
   "id": "88a17e2e",
   "metadata": {
    "ExecuteTime": {
     "end_time": "2022-05-05T15:09:27.409226Z",
     "start_time": "2022-05-05T15:09:27.394235Z"
    }
   },
   "outputs": [
    {
     "data": {
      "text/plain": [
       "edad\n",
       "19     0.068966\n",
       "20     0.096264\n",
       "21     0.096817\n",
       "22     0.104691\n",
       "23     0.116121\n",
       "         ...   \n",
       "101    0.862069\n",
       "102    0.873563\n",
       "103    0.931034\n",
       "105    0.896552\n",
       "110    0.758621\n",
       "Length: 87, dtype: float64"
      ]
     },
     "execution_count": 59,
     "metadata": {},
     "output_type": "execute_result"
    }
   ],
   "source": [
    "# Porque se resta 13 y se divide para 87????\n",
    "mean_edad_esposa=((edades*(edades.columns-13)/87).sum(axis=1)/(edades.sum(axis=1)))\n",
    "mean_edad_esposa"
   ]
  },
  {
   "cell_type": "code",
   "execution_count": 60,
   "id": "49568ba6",
   "metadata": {
    "ExecuteTime": {
     "end_time": "2022-05-05T15:09:27.568637Z",
     "start_time": "2022-05-05T15:09:27.410226Z"
    }
   },
   "outputs": [
    {
     "data": {
      "text/plain": [
       "<AxesSubplot:xlabel='edad'>"
      ]
     },
     "execution_count": 60,
     "metadata": {},
     "output_type": "execute_result"
    },
    {
     "data": {
      "image/png": "[encoded data removed]",
      "text/plain": [
       "<Figure size 432x288 with 1 Axes>"
      ]
     },
     "metadata": {
      "needs_background": "light"
     },
     "output_type": "display_data"
    }
   ],
   "source": [
    "mean_edad_esposa.plot()"
   ]
  },
  {
   "cell_type": "code",
   "execution_count": 61,
   "id": "8c14c7e7",
   "metadata": {
    "ExecuteTime": {
     "end_time": "2022-05-05T15:09:27.584722Z",
     "start_time": "2022-05-05T15:09:27.569645Z"
    }
   },
   "outputs": [
    {
     "data": {
      "text/plain": [
       "EDAD_CONY\n",
       "13.0     0.804598\n",
       "17.0     0.678161\n",
       "18.0     0.140230\n",
       "19.0     0.167189\n",
       "20.0     0.169050\n",
       "           ...   \n",
       "101.0    0.896552\n",
       "104.0    0.643678\n",
       "105.0    0.678161\n",
       "106.0    0.747126\n",
       "126.0    0.735632\n",
       "Length: 90, dtype: float64"
      ]
     },
     "execution_count": 61,
     "metadata": {},
     "output_type": "execute_result"
    }
   ],
   "source": [
    "mean_edad_esposo=(edades.mul((edades.index-13)/87,axis=0).sum()/edades.sum())\n",
    "mean_edad_esposo"
   ]
  },
  {
   "cell_type": "code",
   "execution_count": 62,
   "id": "68bf6712",
   "metadata": {
    "ExecuteTime": {
     "end_time": "2022-05-05T15:09:27.756360Z",
     "start_time": "2022-05-05T15:09:27.585723Z"
    }
   },
   "outputs": [
    {
     "data": {
      "text/plain": [
       "<AxesSubplot:xlabel='EDAD_CONY'>"
      ]
     },
     "execution_count": 62,
     "metadata": {},
     "output_type": "execute_result"
    },
    {
     "data": {
      "image/png": "[encoded data removed]",
      "text/plain": [
       "<Figure size 432x288 with 1 Axes>"
      ]
     },
     "metadata": {
      "needs_background": "light"
     },
     "output_type": "display_data"
    }
   ],
   "source": [
    "mean_edad_esposo.plot()"
   ]
  },
  {
   "cell_type": "code",
   "execution_count": 63,
   "id": "084ab695",
   "metadata": {
    "ExecuteTime": {
     "end_time": "2022-05-05T15:09:27.772257Z",
     "start_time": "2022-05-05T15:09:27.757359Z"
    }
   },
   "outputs": [
    {
     "name": "stderr",
     "output_type": "stream",
     "text": [
      "C:\\ProgramData\\Anaconda3\\lib\\site-packages\\pandas\\core\\arraylike.py:364: RuntimeWarning: invalid value encountered in sqrt\n",
      "  result = getattr(ufunc, method)(*inputs, **kwargs)\n"
     ]
    }
   ],
   "source": [
    "sd_edad_esposa=np.sqrt((edades*(edades.columns-13)/87*(edades.columns-13)/87).sum(axis=1)/edades.sum(axis=1)-mean_edad_esposa**2)"
   ]
  },
  {
   "cell_type": "code",
   "execution_count": 64,
   "id": "47c8f237",
   "metadata": {
    "ExecuteTime": {
     "end_time": "2022-05-05T15:09:28.039616Z",
     "start_time": "2022-05-05T15:09:27.773256Z"
    }
   },
   "outputs": [
    {
     "data": {
      "text/plain": [
       "<AxesSubplot:xlabel='edad'>"
      ]
     },
     "execution_count": 64,
     "metadata": {},
     "output_type": "execute_result"
    },
    {
     "data": {
      "image/png": "[encoded data removed]",
      "text/plain": [
       "<Figure size 432x288 with 1 Axes>"
      ]
     },
     "metadata": {
      "needs_background": "light"
     },
     "output_type": "display_data"
    }
   ],
   "source": [
    "sd_edad_esposa.plot()"
   ]
  },
  {
   "cell_type": "code",
   "execution_count": 65,
   "id": "90791234",
   "metadata": {
    "ExecuteTime": {
     "end_time": "2022-05-05T15:09:28.055626Z",
     "start_time": "2022-05-05T15:09:28.040616Z"
    }
   },
   "outputs": [],
   "source": [
    "sd_edad_esposo=np.sqrt(edades.mul(((edades.index-13)/87)**2,axis=0).sum()/edades.sum()-mean_edad_esposo**2)"
   ]
  },
  {
   "cell_type": "code",
   "execution_count": 66,
   "id": "923cac65",
   "metadata": {
    "ExecuteTime": {
     "end_time": "2022-05-05T15:09:28.260555Z",
     "start_time": "2022-05-05T15:09:28.056607Z"
    }
   },
   "outputs": [
    {
     "data": {
      "text/plain": [
       "<AxesSubplot:xlabel='EDAD_CONY'>"
      ]
     },
     "execution_count": 66,
     "metadata": {},
     "output_type": "execute_result"
    },
    {
     "data": {
      "image/png": "[encoded data removed]",
      "text/plain": [
       "<Figure size 432x288 with 1 Axes>"
      ]
     },
     "metadata": {
      "needs_background": "light"
     },
     "output_type": "display_data"
    }
   ],
   "source": [
    "sd_edad_esposo.plot()"
   ]
  },
  {
   "cell_type": "code",
   "execution_count": 67,
   "id": "2fdc6af1",
   "metadata": {
    "ExecuteTime": {
     "end_time": "2022-05-05T15:09:28.307216Z",
     "start_time": "2022-05-05T15:09:28.261536Z"
    },
    "code_folding": [
     0,
     2,
     4,
     6,
     8,
     23,
     43,
     49,
     63
    ]
   },
   "outputs": [],
   "source": [
    "def basic(x,a):\n",
    "    return a\n",
    "def logagrowth(x,a,b,c):\n",
    "    return np.exp(np.log(c+x)-np.log(a+(b*x)))\n",
    "def exp_logagrowht(x,a,b):\n",
    "    return a+(b*x)\n",
    "def trinomio(x,a,b,c,d):\n",
    "    return a+b*x+c*x**2+d*x**3\n",
    "def approximacion_basic(serie,a_inf,a_sup,sample):\n",
    "    serie_df=pd.DataFrame(serie.loc[a_inf:a_sup])\n",
    "    serie_df.columns=['serie']\n",
    "    serie_df['age']=serie_df.index\n",
    "    serie_df['sample']=sample.loc[a_inf:a_sup]\n",
    "    serie_df['sigma']=1/(serie_df['sample']/serie_df['sample'].max())\n",
    "    test=scipy.optimize.curve_fit(basic,xdata=range(a_inf,a_sup+1),ydata=serie_df.loc[a_inf:a_sup]['serie'],\n",
    "                          sigma=serie_df.loc[a_inf:a_sup]['sigma'],absolute_sigma=False)[0]\n",
    "    serie_df['smooth']=serie_df.loc[a_inf:a_sup]['age'].apply(basic,args=([test[0]]))\n",
    "    for i in serie_df.index:\n",
    "        serie_df['smooth'].loc[i]*=(serie_df['smooth'].loc[i]>0)\n",
    "    serie_df['serie'].plot(kind='line').axes.set_xlim(a_inf,a_sup)\n",
    "    serie_df['smooth'].plot(kind='line').set_xlim(a_inf,a_sup)\n",
    "    ppl.savefig('smooth.png')\n",
    "    return serie_df\n",
    "def approximacion_curvas_logagrowth(serie,a_inf,a_sup,sample):\n",
    "    serie_df=pd.DataFrame(serie.loc[a_inf:a_sup])\n",
    "    serie_df.columns=['serie']\n",
    "    serie_df['age']=serie_df.index\n",
    "    serie_df['sample']=sample.loc[a_inf:a_sup]\n",
    "    serie_df['sigma']=1/(serie_df['sample']/serie_df['sample'].max())\n",
    "    test=scipy.optimize.curve_fit(logagrowth,xdata=range(a_inf,a_sup+1),ydata=serie_df.loc[a_inf:a_sup]['serie'],\n",
    "                          sigma=serie_df.loc[a_inf:a_sup]['sigma'],absolute_sigma=False)[0]\n",
    "    serie_df['smooth']=serie_df.loc[a_inf:a_sup]['age'].apply(logagrowth,args=(test[0],test[1],test[2]))\n",
    "    for i in serie_df.index:\n",
    "        serie_df['smooth'].loc[i]*=(serie_df['smooth'].loc[i]<1)\n",
    "    serie_df['smooth']=serie_df['smooth'].map({0:1}).fillna(serie_df['smooth'])\n",
    "\n",
    "    for i in serie_df.index:\n",
    "        serie_df['smooth'].loc[i]*=(serie_df['smooth'].loc[i]>0)\n",
    "    \n",
    "    serie_df['serie'].plot(kind='line').axes.set_xlim(a_inf,a_sup)\n",
    "    serie_df['smooth'].plot(kind='line').set_xlim(a_inf,a_sup)\n",
    "    ppl.savefig('smooth.png')\n",
    "    return serie_df\n",
    "def approximacion_curvas_e_logagrowth(serie,a_inf,a_sup,sample):\n",
    "    serie_df=pd.DataFrame(serie.loc[a_inf:a_sup])\n",
    "    serie_df.columns=['serie']\n",
    "    serie_df['age']=serie_df.index\n",
    "    serie_df['sample']=sample.loc[a_inf:a_sup]\n",
    "    serie_df['sigma']=1/(serie_df['sample']/serie_df['sample'].max())\n",
    "    test=scipy.optimize.curve_fit(exp_logagrowht,xdata=range(a_inf,a_sup+1),ydata=serie_df.loc[a_inf:a_sup]['serie'],\n",
    "                          sigma=serie_df.loc[a_inf:a_sup]['sigma'],absolute_sigma=False)[0]\n",
    "    serie_df['smooth']=serie_df.loc[a_inf:a_sup]['age'].apply(exp_logagrowht,args=(test[0],test[1]))\n",
    "    for i in serie_df.index:\n",
    "        serie_df['smooth'].loc[i]*=1-(serie_df['smooth'].loc[i]>1)\n",
    "    serie_df['smooth']=serie_df['smooth'].map({0:1}).fillna(serie_df['smooth'])\n",
    "\n",
    "    for i in serie_df.index:\n",
    "        serie_df['smooth'].loc[i]*=(serie_df['smooth'].loc[i]>0)\n",
    "\n",
    "    serie_df['serie'].plot(kind='line').axes.set_xlim(a_inf,a_sup)\n",
    "    serie_df['smooth'].plot(kind='line').set_xlim(a_inf,a_sup)\n",
    "    ppl.savefig('smooth.png')\n",
    "    return serie_df\n",
    "def approximacion_curvas_trinomio(serie,a_inf,a_sup,sample):\n",
    "    serie_df=pd.DataFrame(serie.loc[a_inf:a_sup])\n",
    "    serie_df.columns=['serie']\n",
    "    serie_df['age']=serie_df.index\n",
    "    serie_df['sample']=sample.loc[a_inf:a_sup]\n",
    "    serie_df['sigma']=1/(serie_df['sample']/serie_df['sample'].max())\n",
    "    test=scipy.optimize.curve_fit(trinomio,xdata=range(a_inf,a_sup+1),ydata=serie_df.loc[a_inf:a_sup]['serie'],\n",
    "                          sigma=serie_df.loc[a_inf:a_sup]['sigma'],absolute_sigma=False)[0]\n",
    "    serie_df['smooth']=serie_df.loc[a_inf:a_sup]['age'].apply(trinomio,args=(test[0],test[1],test[2],test[3]))\n",
    "    for i in serie_df.index:\n",
    "        serie_df['smooth'].loc[i]*=(serie_df['smooth'].loc[i]>0)    \n",
    "    serie_df['serie'].plot(kind='line').axes.set_xlim(a_inf,a_sup)\n",
    "    serie_df['smooth'].plot(kind='line').set_xlim(a_inf,a_sup)\n",
    "    ppl.savefig('smooth.png')\n",
    "    return serie_df"
   ]
  },
  {
   "cell_type": "code",
   "execution_count": 68,
   "id": "e0aef9f1",
   "metadata": {
    "ExecuteTime": {
     "end_time": "2022-05-05T15:09:28.608798Z",
     "start_time": "2022-05-05T15:09:28.308222Z"
    }
   },
   "outputs": [
    {
     "name": "stderr",
     "output_type": "stream",
     "text": [
      "C:\\Users\\CRISTI~1.GUA\\AppData\\Local\\Temp/ipykernel_3292/2555293283.py:4: RuntimeWarning: invalid value encountered in log\n",
      "  return np.exp(np.log(c+x)-np.log(a+(b*x)))\n",
      "C:\\ProgramData\\Anaconda3\\lib\\site-packages\\pandas\\core\\indexing.py:1732: SettingWithCopyWarning: \n",
      "A value is trying to be set on a copy of a slice from a DataFrame\n",
      "\n",
      "See the caveats in the documentation: https://pandas.pydata.org/pandas-docs/stable/user_guide/indexing.html#returning-a-view-versus-a-copy\n",
      "  self._setitem_single_block(indexer, value, name)\n"
     ]
    },
    {
     "data": {
      "image/png": "[encoded data removed]",
      "text/plain": [
       "<Figure size 432x288 with 1 Axes>"
      ]
     },
     "metadata": {
      "needs_background": "light"
     },
     "output_type": "display_data"
    }
   ],
   "source": [
    "m_esposa=approximacion_curvas_logagrowth(serie=mean_edad_esposa.reindex(range(15,101)).fillna(0),a_inf=15,a_sup=100,sample=edades.sum(axis=1).reindex(range(15,101)).fillna(0))['smooth']"
   ]
  },
  {
   "cell_type": "code",
   "execution_count": 69,
   "id": "02a0cda4",
   "metadata": {
    "ExecuteTime": {
     "end_time": "2022-05-05T15:09:28.845656Z",
     "start_time": "2022-05-05T15:09:28.609803Z"
    }
   },
   "outputs": [
    {
     "name": "stderr",
     "output_type": "stream",
     "text": [
      "C:\\ProgramData\\Anaconda3\\lib\\site-packages\\pandas\\core\\indexing.py:1732: SettingWithCopyWarning: \n",
      "A value is trying to be set on a copy of a slice from a DataFrame\n",
      "\n",
      "See the caveats in the documentation: https://pandas.pydata.org/pandas-docs/stable/user_guide/indexing.html#returning-a-view-versus-a-copy\n",
      "  self._setitem_single_block(indexer, value, name)\n"
     ]
    },
    {
     "data": {
      "image/png": "[encoded data removed]",
      "text/plain": [
       "<Figure size 432x288 with 1 Axes>"
      ]
     },
     "metadata": {
      "needs_background": "light"
     },
     "output_type": "display_data"
    }
   ],
   "source": [
    "m_esposo=approximacion_curvas_e_logagrowth(serie=mean_edad_esposo.reindex(range(15,101)).fillna(0),a_inf=15,a_sup=100,sample=edades.sum().reindex(range(15,101)).fillna(0))['smooth']"
   ]
  },
  {
   "cell_type": "code",
   "execution_count": 70,
   "id": "90b64265",
   "metadata": {
    "ExecuteTime": {
     "end_time": "2022-05-05T15:09:29.321399Z",
     "start_time": "2022-05-05T15:09:28.846655Z"
    }
   },
   "outputs": [
    {
     "name": "stderr",
     "output_type": "stream",
     "text": [
      "C:\\Users\\CRISTI~1.GUA\\AppData\\Local\\Temp/ipykernel_3292/2555293283.py:4: RuntimeWarning: invalid value encountered in log\n",
      "  return np.exp(np.log(c+x)-np.log(a+(b*x)))\n",
      "C:\\ProgramData\\Anaconda3\\lib\\site-packages\\pandas\\core\\indexing.py:1732: SettingWithCopyWarning: \n",
      "A value is trying to be set on a copy of a slice from a DataFrame\n",
      "\n",
      "See the caveats in the documentation: https://pandas.pydata.org/pandas-docs/stable/user_guide/indexing.html#returning-a-view-versus-a-copy\n",
      "  self._setitem_single_block(indexer, value, name)\n",
      "C:\\ProgramData\\Anaconda3\\lib\\site-packages\\pandas\\core\\indexing.py:1732: SettingWithCopyWarning: \n",
      "A value is trying to be set on a copy of a slice from a DataFrame\n",
      "\n",
      "See the caveats in the documentation: https://pandas.pydata.org/pandas-docs/stable/user_guide/indexing.html#returning-a-view-versus-a-copy\n",
      "  self._setitem_single_block(indexer, value, name)\n"
     ]
    },
    {
     "data": {
      "image/png": "[encoded data removed]",
      "text/plain": [
       "<Figure size 864x360 with 1 Axes>"
      ]
     },
     "metadata": {
      "needs_background": "light"
     },
     "output_type": "display_data"
    }
   ],
   "source": [
    "ppl.figure(figsize=(12,5))\n",
    "ppl.xlabel('Edad')\n",
    "\n",
    "m_esposa=approximacion_curvas_logagrowth(serie=mean_edad_esposa.reindex(range(15,101)).fillna(0),a_inf=15,a_sup=100,sample=edades.sum(axis=1).reindex(range(15,101)).fillna(0))['smooth']\n",
    "m_esposo=approximacion_curvas_e_logagrowth(serie=mean_edad_esposo.reindex(range(15,101)).fillna(0),a_inf=15,a_sup=100,sample=edades.sum().reindex(range(15,101)).fillna(0))['smooth']\n",
    "\n",
    "ax1 =m_esposa.plot(color='blue',label='media_esposa')\n",
    "ax2 =m_esposo.plot(color='red',label='media_esposo')\n",
    "\n",
    "ax1.legend(loc=1)\n",
    "ax2.legend(loc=2)\n",
    "\n",
    "ppl.show()"
   ]
  },
  {
   "cell_type": "code",
   "execution_count": 71,
   "id": "86caf262",
   "metadata": {
    "ExecuteTime": {
     "end_time": "2022-05-05T15:09:29.605247Z",
     "start_time": "2022-05-05T15:09:29.323398Z"
    }
   },
   "outputs": [
    {
     "name": "stderr",
     "output_type": "stream",
     "text": [
      "C:\\ProgramData\\Anaconda3\\lib\\site-packages\\pandas\\core\\indexing.py:1732: SettingWithCopyWarning: \n",
      "A value is trying to be set on a copy of a slice from a DataFrame\n",
      "\n",
      "See the caveats in the documentation: https://pandas.pydata.org/pandas-docs/stable/user_guide/indexing.html#returning-a-view-versus-a-copy\n",
      "  self._setitem_single_block(indexer, value, name)\n"
     ]
    },
    {
     "data": {
      "image/png": "[encoded data removed]",
      "text/plain": [
       "<Figure size 432x288 with 1 Axes>"
      ]
     },
     "metadata": {
      "needs_background": "light"
     },
     "output_type": "display_data"
    }
   ],
   "source": [
    "s_esposa=approximacion_curvas_e_logagrowth(serie=sd_edad_esposa.reindex(range(15,101)).fillna(0),a_inf=15,a_sup=100,sample=edades.sum(axis=1).reindex(range(15,101)).fillna(0))['smooth']"
   ]
  },
  {
   "cell_type": "code",
   "execution_count": 72,
   "id": "deddfb48",
   "metadata": {
    "ExecuteTime": {
     "end_time": "2022-05-05T15:09:29.908082Z",
     "start_time": "2022-05-05T15:09:29.609244Z"
    }
   },
   "outputs": [
    {
     "name": "stderr",
     "output_type": "stream",
     "text": [
      "C:\\ProgramData\\Anaconda3\\lib\\site-packages\\pandas\\core\\indexing.py:1732: SettingWithCopyWarning: \n",
      "A value is trying to be set on a copy of a slice from a DataFrame\n",
      "\n",
      "See the caveats in the documentation: https://pandas.pydata.org/pandas-docs/stable/user_guide/indexing.html#returning-a-view-versus-a-copy\n",
      "  self._setitem_single_block(indexer, value, name)\n"
     ]
    },
    {
     "data": {
      "image/png": "[encoded data removed]",
      "text/plain": [
       "<Figure size 432x288 with 1 Axes>"
      ]
     },
     "metadata": {
      "needs_background": "light"
     },
     "output_type": "display_data"
    }
   ],
   "source": [
    "s_esposo=approximacion_curvas_e_logagrowth(serie=sd_edad_esposo.reindex(range(15,101)).fillna(0),a_inf=15,a_sup=100,sample=edades.sum().reindex(range(15,101)).fillna(0))['smooth']"
   ]
  },
  {
   "cell_type": "code",
   "execution_count": 73,
   "id": "aa905ac2",
   "metadata": {
    "ExecuteTime": {
     "end_time": "2022-05-05T15:09:30.463783Z",
     "start_time": "2022-05-05T15:09:29.910081Z"
    }
   },
   "outputs": [
    {
     "name": "stderr",
     "output_type": "stream",
     "text": [
      "C:\\ProgramData\\Anaconda3\\lib\\site-packages\\pandas\\core\\indexing.py:1732: SettingWithCopyWarning: \n",
      "A value is trying to be set on a copy of a slice from a DataFrame\n",
      "\n",
      "See the caveats in the documentation: https://pandas.pydata.org/pandas-docs/stable/user_guide/indexing.html#returning-a-view-versus-a-copy\n",
      "  self._setitem_single_block(indexer, value, name)\n",
      "C:\\ProgramData\\Anaconda3\\lib\\site-packages\\pandas\\core\\indexing.py:1732: SettingWithCopyWarning: \n",
      "A value is trying to be set on a copy of a slice from a DataFrame\n",
      "\n",
      "See the caveats in the documentation: https://pandas.pydata.org/pandas-docs/stable/user_guide/indexing.html#returning-a-view-versus-a-copy\n",
      "  self._setitem_single_block(indexer, value, name)\n"
     ]
    },
    {
     "data": {
      "image/png": "[encoded data removed]",
      "text/plain": [
       "<Figure size 864x360 with 1 Axes>"
      ]
     },
     "metadata": {
      "needs_background": "light"
     },
     "output_type": "display_data"
    }
   ],
   "source": [
    "ppl.figure(figsize=(12,5))\n",
    "ppl.xlabel('Edad')\n",
    "\n",
    "s_esposa=approximacion_curvas_e_logagrowth(serie=sd_edad_esposa.reindex(range(15,101)).fillna(0),a_inf=15,a_sup=100,sample=edades.sum(axis=1).reindex(range(15,101)).fillna(0))['smooth']\n",
    "s_esposo=approximacion_curvas_e_logagrowth(serie=sd_edad_esposo.reindex(range(15,101)).fillna(0),a_inf=15,a_sup=100,sample=edades.sum().reindex(range(15,101)).fillna(0))['smooth']\n",
    "\n",
    "\n",
    "ax1 =s_esposa.plot(color='blue',label='desv_esposa')\n",
    "ax2 =s_esposo.plot(color='red',label='desv_esposo')\n",
    "\n",
    "ax1.legend(loc=1)\n",
    "ax2.legend(loc=2)\n",
    "\n",
    "ppl.show()"
   ]
  },
  {
   "cell_type": "code",
   "execution_count": 74,
   "id": "c7fa2cc8",
   "metadata": {
    "ExecuteTime": {
     "end_time": "2022-05-05T15:09:30.479340Z",
     "start_time": "2022-05-05T15:09:30.466784Z"
    }
   },
   "outputs": [],
   "source": [
    "alpha_esposo=((1-m_esposo)/(s_esposo**2)-1/m_esposo)*m_esposo**2\n",
    "beta_esposo=alpha_esposo*(1/m_esposo-1)\n",
    "alpha_esposa=((1-m_esposa)/(s_esposa**2)-1/m_esposa)*m_esposa**2\n",
    "beta_esposa=alpha_esposa*(1/m_esposa-1)"
   ]
  },
  {
   "cell_type": "code",
   "execution_count": 75,
   "id": "f2c81266",
   "metadata": {
    "ExecuteTime": {
     "end_time": "2022-05-05T15:09:30.574924Z",
     "start_time": "2022-05-05T15:09:30.481337Z"
    }
   },
   "outputs": [
    {
     "data": {
      "text/plain": [
       "EDAD_CONY\n",
       "15     2.100996\n",
       "16     2.540905\n",
       "17     3.017647\n",
       "18     3.529911\n",
       "19     4.076369\n",
       "         ...   \n",
       "96     7.811918\n",
       "97     4.954151\n",
       "98     1.941899\n",
       "99    -1.000000\n",
       "100   -1.000000\n",
       "Name: smooth, Length: 86, dtype: float64"
      ]
     },
     "execution_count": 75,
     "metadata": {},
     "output_type": "execute_result"
    }
   ],
   "source": [
    "alpha_esposo"
   ]
  },
  {
   "cell_type": "code",
   "execution_count": 76,
   "id": "02f80286",
   "metadata": {
    "ExecuteTime": {
     "end_time": "2022-05-05T15:09:30.764822Z",
     "start_time": "2022-05-05T15:09:30.576923Z"
    }
   },
   "outputs": [
    {
     "data": {
      "text/plain": [
       "<AxesSubplot:>"
      ]
     },
     "execution_count": 76,
     "metadata": {},
     "output_type": "execute_result"
    },
    {
     "data": {
      "image/png": "[encoded data removed]",
      "text/plain": [
       "<Figure size 432x288 with 1 Axes>"
      ]
     },
     "metadata": {
      "needs_background": "light"
     },
     "output_type": "display_data"
    }
   ],
   "source": [
    "pd.Series(scipy.stats.beta(alpha_esposa,beta_esposa,13,87).cdf(17)-scipy.stats.beta(alpha_esposa,beta_esposa,13,87).cdf(16)).plot()"
   ]
  },
  {
   "cell_type": "code",
   "execution_count": 77,
   "id": "3dd2e783",
   "metadata": {
    "ExecuteTime": {
     "end_time": "2022-05-05T15:09:30.923735Z",
     "start_time": "2022-05-05T15:09:30.766821Z"
    }
   },
   "outputs": [],
   "source": [
    "wid_m=pd.DataFrame(columns=range(14,101))\n",
    "wid_f=pd.DataFrame(columns=range(14,101))\n",
    "dists_m=scipy.stats.beta(alpha_esposa,beta_esposa,13,87)\n",
    "dists_f=scipy.stats.beta(alpha_esposo,beta_esposo,13,87)\n",
    "for c in wid_f.columns:\n",
    "    wid_f[c]=pd.Series(dists_f.cdf(c)-dists_f.cdf(c-1),index=range(15,101))\n",
    "    wid_m[c]=pd.Series(dists_m.cdf(c)-dists_m.cdf(c-1),index=range(15,101))"
   ]
  },
  {
   "cell_type": "code",
   "execution_count": 78,
   "id": "60666741",
   "metadata": {
    "ExecuteTime": {
     "end_time": "2022-05-05T15:09:30.939726Z",
     "start_time": "2022-05-05T15:09:30.925734Z"
    }
   },
   "outputs": [],
   "source": [
    "wid_f=wid_f.mul(p_m['M'],axis=0).loc[15::]    \n",
    "wid_m=wid_m.mul(p_m['H'],axis=0).loc[15::]"
   ]
  },
  {
   "cell_type": "code",
   "execution_count": 79,
   "id": "12738c4e",
   "metadata": {
    "ExecuteTime": {
     "end_time": "2022-05-05T15:09:31.047670Z",
     "start_time": "2022-05-05T15:09:30.940726Z"
    }
   },
   "outputs": [
    {
     "data": {
      "text/html": [
       "<div>\n",
       "<style scoped>\n",
       "    .dataframe tbody tr th:only-of-type {\n",
       "        vertical-align: middle;\n",
       "    }\n",
       "\n",
       "    .dataframe tbody tr th {\n",
       "        vertical-align: top;\n",
       "    }\n",
       "\n",
       "    .dataframe thead th {\n",
       "        text-align: right;\n",
       "    }\n",
       "</style>\n",
       "<table border=\"1\" class=\"dataframe\">\n",
       "  <thead>\n",
       "    <tr style=\"text-align: right;\">\n",
       "      <th></th>\n",
       "      <th>14</th>\n",
       "      <th>15</th>\n",
       "      <th>16</th>\n",
       "      <th>17</th>\n",
       "      <th>18</th>\n",
       "      <th>19</th>\n",
       "      <th>20</th>\n",
       "      <th>21</th>\n",
       "      <th>22</th>\n",
       "      <th>23</th>\n",
       "      <th>...</th>\n",
       "      <th>91</th>\n",
       "      <th>92</th>\n",
       "      <th>93</th>\n",
       "      <th>94</th>\n",
       "      <th>95</th>\n",
       "      <th>96</th>\n",
       "      <th>97</th>\n",
       "      <th>98</th>\n",
       "      <th>99</th>\n",
       "      <th>100</th>\n",
       "    </tr>\n",
       "  </thead>\n",
       "  <tbody>\n",
       "    <tr>\n",
       "      <th>15</th>\n",
       "      <td>NaN</td>\n",
       "      <td>NaN</td>\n",
       "      <td>NaN</td>\n",
       "      <td>NaN</td>\n",
       "      <td>NaN</td>\n",
       "      <td>NaN</td>\n",
       "      <td>NaN</td>\n",
       "      <td>NaN</td>\n",
       "      <td>NaN</td>\n",
       "      <td>NaN</td>\n",
       "      <td>...</td>\n",
       "      <td>NaN</td>\n",
       "      <td>NaN</td>\n",
       "      <td>NaN</td>\n",
       "      <td>NaN</td>\n",
       "      <td>NaN</td>\n",
       "      <td>NaN</td>\n",
       "      <td>NaN</td>\n",
       "      <td>NaN</td>\n",
       "      <td>NaN</td>\n",
       "      <td>NaN</td>\n",
       "    </tr>\n",
       "    <tr>\n",
       "      <th>16</th>\n",
       "      <td>8.981903e-03</td>\n",
       "      <td>3.564172e-04</td>\n",
       "      <td>2.044652e-04</td>\n",
       "      <td>1.405560e-04</td>\n",
       "      <td>1.050102e-04</td>\n",
       "      <td>8.233465e-05</td>\n",
       "      <td>6.662279e-05</td>\n",
       "      <td>5.511587e-05</td>\n",
       "      <td>4.634740e-05</td>\n",
       "      <td>3.946390e-05</td>\n",
       "      <td>...</td>\n",
       "      <td>5.769868e-10</td>\n",
       "      <td>3.513489e-10</td>\n",
       "      <td>2.014926e-10</td>\n",
       "      <td>1.069902e-10</td>\n",
       "      <td>5.128450e-11</td>\n",
       "      <td>2.131784e-11</td>\n",
       "      <td>7.171154e-12</td>\n",
       "      <td>1.707512e-12</td>\n",
       "      <td>2.110925e-13</td>\n",
       "      <td>5.192498e-15</td>\n",
       "    </tr>\n",
       "    <tr>\n",
       "      <th>17</th>\n",
       "      <td>9.766414e-03</td>\n",
       "      <td>1.612174e-03</td>\n",
       "      <td>9.587457e-04</td>\n",
       "      <td>6.572982e-04</td>\n",
       "      <td>4.809760e-04</td>\n",
       "      <td>3.653702e-04</td>\n",
       "      <td>2.843130e-04</td>\n",
       "      <td>2.249379e-04</td>\n",
       "      <td>1.801008e-04</td>\n",
       "      <td>1.454842e-04</td>\n",
       "      <td>...</td>\n",
       "      <td>1.775147e-14</td>\n",
       "      <td>5.746229e-15</td>\n",
       "      <td>1.621823e-15</td>\n",
       "      <td>3.850127e-16</td>\n",
       "      <td>7.155103e-17</td>\n",
       "      <td>8.517979e-18</td>\n",
       "      <td>1.703596e-18</td>\n",
       "      <td>0.000000e+00</td>\n",
       "      <td>0.000000e+00</td>\n",
       "      <td>0.000000e+00</td>\n",
       "    </tr>\n",
       "    <tr>\n",
       "      <th>18</th>\n",
       "      <td>9.051528e-03</td>\n",
       "      <td>3.540640e-03</td>\n",
       "      <td>2.340755e-03</td>\n",
       "      <td>1.677852e-03</td>\n",
       "      <td>1.247496e-03</td>\n",
       "      <td>9.466808e-04</td>\n",
       "      <td>7.275388e-04</td>\n",
       "      <td>5.637475e-04</td>\n",
       "      <td>4.392342e-04</td>\n",
       "      <td>3.434722e-04</td>\n",
       "      <td>...</td>\n",
       "      <td>2.455739e-18</td>\n",
       "      <td>0.000000e+00</td>\n",
       "      <td>0.000000e+00</td>\n",
       "      <td>0.000000e+00</td>\n",
       "      <td>0.000000e+00</td>\n",
       "      <td>0.000000e+00</td>\n",
       "      <td>0.000000e+00</td>\n",
       "      <td>0.000000e+00</td>\n",
       "      <td>0.000000e+00</td>\n",
       "      <td>0.000000e+00</td>\n",
       "    </tr>\n",
       "    <tr>\n",
       "      <th>19</th>\n",
       "      <td>6.581438e-03</td>\n",
       "      <td>5.049420e-03</td>\n",
       "      <td>3.940424e-03</td>\n",
       "      <td>3.078751e-03</td>\n",
       "      <td>2.403154e-03</td>\n",
       "      <td>1.872371e-03</td>\n",
       "      <td>1.455488e-03</td>\n",
       "      <td>1.128512e-03</td>\n",
       "      <td>8.725539e-04</td>\n",
       "      <td>6.726574e-04</td>\n",
       "      <td>...</td>\n",
       "      <td>0.000000e+00</td>\n",
       "      <td>0.000000e+00</td>\n",
       "      <td>0.000000e+00</td>\n",
       "      <td>0.000000e+00</td>\n",
       "      <td>0.000000e+00</td>\n",
       "      <td>0.000000e+00</td>\n",
       "      <td>0.000000e+00</td>\n",
       "      <td>0.000000e+00</td>\n",
       "      <td>0.000000e+00</td>\n",
       "      <td>0.000000e+00</td>\n",
       "    </tr>\n",
       "    <tr>\n",
       "      <th>...</th>\n",
       "      <td>...</td>\n",
       "      <td>...</td>\n",
       "      <td>...</td>\n",
       "      <td>...</td>\n",
       "      <td>...</td>\n",
       "      <td>...</td>\n",
       "      <td>...</td>\n",
       "      <td>...</td>\n",
       "      <td>...</td>\n",
       "      <td>...</td>\n",
       "      <td>...</td>\n",
       "      <td>...</td>\n",
       "      <td>...</td>\n",
       "      <td>...</td>\n",
       "      <td>...</td>\n",
       "      <td>...</td>\n",
       "      <td>...</td>\n",
       "      <td>...</td>\n",
       "      <td>...</td>\n",
       "      <td>...</td>\n",
       "      <td>...</td>\n",
       "    </tr>\n",
       "    <tr>\n",
       "      <th>96</th>\n",
       "      <td>1.812698e-25</td>\n",
       "      <td>1.722149e-21</td>\n",
       "      <td>3.624105e-19</td>\n",
       "      <td>1.584456e-17</td>\n",
       "      <td>2.910083e-16</td>\n",
       "      <td>3.085841e-15</td>\n",
       "      <td>2.242123e-14</td>\n",
       "      <td>1.236822e-13</td>\n",
       "      <td>5.533880e-13</td>\n",
       "      <td>2.100762e-12</td>\n",
       "      <td>...</td>\n",
       "      <td>4.611546e-02</td>\n",
       "      <td>4.904901e-02</td>\n",
       "      <td>5.144810e-02</td>\n",
       "      <td>5.303885e-02</td>\n",
       "      <td>5.346637e-02</td>\n",
       "      <td>5.226819e-02</td>\n",
       "      <td>4.883209e-02</td>\n",
       "      <td>4.231735e-02</td>\n",
       "      <td>3.146361e-02</td>\n",
       "      <td>1.367637e-02</td>\n",
       "    </tr>\n",
       "    <tr>\n",
       "      <th>97</th>\n",
       "      <td>9.705423e-24</td>\n",
       "      <td>4.396206e-20</td>\n",
       "      <td>5.992954e-18</td>\n",
       "      <td>1.919918e-16</td>\n",
       "      <td>2.766488e-15</td>\n",
       "      <td>2.405497e-14</td>\n",
       "      <td>1.478338e-13</td>\n",
       "      <td>7.057977e-13</td>\n",
       "      <td>2.781841e-12</td>\n",
       "      <td>9.433748e-12</td>\n",
       "      <td>...</td>\n",
       "      <td>4.263831e-02</td>\n",
       "      <td>4.633020e-02</td>\n",
       "      <td>4.987379e-02</td>\n",
       "      <td>5.307648e-02</td>\n",
       "      <td>5.566130e-02</td>\n",
       "      <td>5.722135e-02</td>\n",
       "      <td>5.713307e-02</td>\n",
       "      <td>5.436068e-02</td>\n",
       "      <td>4.687119e-02</td>\n",
       "      <td>2.775248e-02</td>\n",
       "    </tr>\n",
       "    <tr>\n",
       "      <th>98</th>\n",
       "      <td>6.153009e-22</td>\n",
       "      <td>1.302028e-18</td>\n",
       "      <td>1.134488e-16</td>\n",
       "      <td>2.635375e-15</td>\n",
       "      <td>2.954723e-14</td>\n",
       "      <td>2.092674e-13</td>\n",
       "      <td>1.081783e-12</td>\n",
       "      <td>4.448746e-12</td>\n",
       "      <td>1.538181e-11</td>\n",
       "      <td>4.642453e-11</td>\n",
       "      <td>...</td>\n",
       "      <td>3.820826e-02</td>\n",
       "      <td>4.225905e-02</td>\n",
       "      <td>4.649869e-02</td>\n",
       "      <td>5.085056e-02</td>\n",
       "      <td>5.518679e-02</td>\n",
       "      <td>5.929258e-02</td>\n",
       "      <td>6.279148e-02</td>\n",
       "      <td>6.495868e-02</td>\n",
       "      <td>6.408664e-02</td>\n",
       "      <td>5.187479e-02</td>\n",
       "    </tr>\n",
       "    <tr>\n",
       "      <th>99</th>\n",
       "      <td>4.620973e-20</td>\n",
       "      <td>4.476274e-17</td>\n",
       "      <td>2.458075e-15</td>\n",
       "      <td>4.094983e-14</td>\n",
       "      <td>3.542071e-13</td>\n",
       "      <td>2.029589e-12</td>\n",
       "      <td>8.775775e-12</td>\n",
       "      <td>3.093874e-11</td>\n",
       "      <td>9.345033e-11</td>\n",
       "      <td>2.500909e-10</td>\n",
       "      <td>...</td>\n",
       "      <td>3.316964e-02</td>\n",
       "      <td>3.720662e-02</td>\n",
       "      <td>4.167712e-02</td>\n",
       "      <td>4.662260e-02</td>\n",
       "      <td>5.208869e-02</td>\n",
       "      <td>5.812616e-02</td>\n",
       "      <td>6.479306e-02</td>\n",
       "      <td>7.215990e-02</td>\n",
       "      <td>8.032884e-02</td>\n",
       "      <td>8.965853e-02</td>\n",
       "    </tr>\n",
       "    <tr>\n",
       "      <th>100</th>\n",
       "      <td>4.129699e-18</td>\n",
       "      <td>1.794164e-15</td>\n",
       "      <td>6.115108e-14</td>\n",
       "      <td>7.220878e-13</td>\n",
       "      <td>4.776420e-12</td>\n",
       "      <td>2.198996e-11</td>\n",
       "      <td>7.908430e-11</td>\n",
       "      <td>2.378759e-10</td>\n",
       "      <td>6.250711e-10</td>\n",
       "      <td>1.477807e-09</td>\n",
       "      <td>...</td>\n",
       "      <td>2.797287e-02</td>\n",
       "      <td>3.170692e-02</td>\n",
       "      <td>3.601080e-02</td>\n",
       "      <td>4.101985e-02</td>\n",
       "      <td>4.693161e-02</td>\n",
       "      <td>5.405703e-02</td>\n",
       "      <td>6.294083e-02</td>\n",
       "      <td>7.470817e-02</td>\n",
       "      <td>9.249201e-02</td>\n",
       "      <td>1.445276e-01</td>\n",
       "    </tr>\n",
       "  </tbody>\n",
       "</table>\n",
       "<p>86 rows × 87 columns</p>\n",
       "</div>"
      ],
      "text/plain": [
       "              14            15            16            17            18   \\\n",
       "15            NaN           NaN           NaN           NaN           NaN   \n",
       "16   8.981903e-03  3.564172e-04  2.044652e-04  1.405560e-04  1.050102e-04   \n",
       "17   9.766414e-03  1.612174e-03  9.587457e-04  6.572982e-04  4.809760e-04   \n",
       "18   9.051528e-03  3.540640e-03  2.340755e-03  1.677852e-03  1.247496e-03   \n",
       "19   6.581438e-03  5.049420e-03  3.940424e-03  3.078751e-03  2.403154e-03   \n",
       "..            ...           ...           ...           ...           ...   \n",
       "96   1.812698e-25  1.722149e-21  3.624105e-19  1.584456e-17  2.910083e-16   \n",
       "97   9.705423e-24  4.396206e-20  5.992954e-18  1.919918e-16  2.766488e-15   \n",
       "98   6.153009e-22  1.302028e-18  1.134488e-16  2.635375e-15  2.954723e-14   \n",
       "99   4.620973e-20  4.476274e-17  2.458075e-15  4.094983e-14  3.542071e-13   \n",
       "100  4.129699e-18  1.794164e-15  6.115108e-14  7.220878e-13  4.776420e-12   \n",
       "\n",
       "              19            20            21            22            23   \\\n",
       "15            NaN           NaN           NaN           NaN           NaN   \n",
       "16   8.233465e-05  6.662279e-05  5.511587e-05  4.634740e-05  3.946390e-05   \n",
       "17   3.653702e-04  2.843130e-04  2.249379e-04  1.801008e-04  1.454842e-04   \n",
       "18   9.466808e-04  7.275388e-04  5.637475e-04  4.392342e-04  3.434722e-04   \n",
       "19   1.872371e-03  1.455488e-03  1.128512e-03  8.725539e-04  6.726574e-04   \n",
       "..            ...           ...           ...           ...           ...   \n",
       "96   3.085841e-15  2.242123e-14  1.236822e-13  5.533880e-13  2.100762e-12   \n",
       "97   2.405497e-14  1.478338e-13  7.057977e-13  2.781841e-12  9.433748e-12   \n",
       "98   2.092674e-13  1.081783e-12  4.448746e-12  1.538181e-11  4.642453e-11   \n",
       "99   2.029589e-12  8.775775e-12  3.093874e-11  9.345033e-11  2.500909e-10   \n",
       "100  2.198996e-11  7.908430e-11  2.378759e-10  6.250711e-10  1.477807e-09   \n",
       "\n",
       "     ...           91            92            93            94   \\\n",
       "15   ...           NaN           NaN           NaN           NaN   \n",
       "16   ...  5.769868e-10  3.513489e-10  2.014926e-10  1.069902e-10   \n",
       "17   ...  1.775147e-14  5.746229e-15  1.621823e-15  3.850127e-16   \n",
       "18   ...  2.455739e-18  0.000000e+00  0.000000e+00  0.000000e+00   \n",
       "19   ...  0.000000e+00  0.000000e+00  0.000000e+00  0.000000e+00   \n",
       "..   ...           ...           ...           ...           ...   \n",
       "96   ...  4.611546e-02  4.904901e-02  5.144810e-02  5.303885e-02   \n",
       "97   ...  4.263831e-02  4.633020e-02  4.987379e-02  5.307648e-02   \n",
       "98   ...  3.820826e-02  4.225905e-02  4.649869e-02  5.085056e-02   \n",
       "99   ...  3.316964e-02  3.720662e-02  4.167712e-02  4.662260e-02   \n",
       "100  ...  2.797287e-02  3.170692e-02  3.601080e-02  4.101985e-02   \n",
       "\n",
       "              95            96            97            98            99   \\\n",
       "15            NaN           NaN           NaN           NaN           NaN   \n",
       "16   5.128450e-11  2.131784e-11  7.171154e-12  1.707512e-12  2.110925e-13   \n",
       "17   7.155103e-17  8.517979e-18  1.703596e-18  0.000000e+00  0.000000e+00   \n",
       "18   0.000000e+00  0.000000e+00  0.000000e+00  0.000000e+00  0.000000e+00   \n",
       "19   0.000000e+00  0.000000e+00  0.000000e+00  0.000000e+00  0.000000e+00   \n",
       "..            ...           ...           ...           ...           ...   \n",
       "96   5.346637e-02  5.226819e-02  4.883209e-02  4.231735e-02  3.146361e-02   \n",
       "97   5.566130e-02  5.722135e-02  5.713307e-02  5.436068e-02  4.687119e-02   \n",
       "98   5.518679e-02  5.929258e-02  6.279148e-02  6.495868e-02  6.408664e-02   \n",
       "99   5.208869e-02  5.812616e-02  6.479306e-02  7.215990e-02  8.032884e-02   \n",
       "100  4.693161e-02  5.405703e-02  6.294083e-02  7.470817e-02  9.249201e-02   \n",
       "\n",
       "              100  \n",
       "15            NaN  \n",
       "16   5.192498e-15  \n",
       "17   0.000000e+00  \n",
       "18   0.000000e+00  \n",
       "19   0.000000e+00  \n",
       "..            ...  \n",
       "96   1.367637e-02  \n",
       "97   2.775248e-02  \n",
       "98   5.187479e-02  \n",
       "99   8.965853e-02  \n",
       "100  1.445276e-01  \n",
       "\n",
       "[86 rows x 87 columns]"
      ]
     },
     "execution_count": 79,
     "metadata": {},
     "output_type": "execute_result"
    }
   ],
   "source": [
    "wid_m"
   ]
  },
  {
   "cell_type": "code",
   "execution_count": 80,
   "id": "55f00092",
   "metadata": {
    "ExecuteTime": {
     "end_time": "2022-05-05T15:09:31.142619Z",
     "start_time": "2022-05-05T15:09:31.049667Z"
    }
   },
   "outputs": [
    {
     "data": {
      "text/plain": [
       "14     0.041106\n",
       "15     0.026084\n",
       "16     0.031744\n",
       "17     0.039566\n",
       "18     0.049156\n",
       "         ...   \n",
       "96     0.448969\n",
       "97     0.419154\n",
       "98     0.388157\n",
       "99     0.356174\n",
       "100    0.337733\n",
       "Length: 87, dtype: float64"
      ]
     },
     "execution_count": 80,
     "metadata": {},
     "output_type": "execute_result"
    }
   ],
   "source": [
    "wid_m.sum()"
   ]
  },
  {
   "cell_type": "code",
   "execution_count": 81,
   "id": "a3744268",
   "metadata": {
    "ExecuteTime": {
     "end_time": "2022-05-05T15:09:31.350506Z",
     "start_time": "2022-05-05T15:09:31.144617Z"
    }
   },
   "outputs": [
    {
     "data": {
      "text/plain": [
       "<AxesSubplot:>"
      ]
     },
     "execution_count": 81,
     "metadata": {},
     "output_type": "execute_result"
    },
    {
     "data": {
      "image/png": "[encoded data removed]",
      "text/plain": [
       "<Figure size 432x288 with 1 Axes>"
      ]
     },
     "metadata": {
      "needs_background": "light"
     },
     "output_type": "display_data"
    }
   ],
   "source": [
    "wid_m.transpose()[100].plot()"
   ]
  },
  {
   "cell_type": "code",
   "execution_count": 82,
   "id": "b060f9fd",
   "metadata": {
    "ExecuteTime": {
     "end_time": "2022-05-05T15:09:31.396482Z",
     "start_time": "2022-05-05T15:09:31.352505Z"
    }
   },
   "outputs": [
    {
     "data": {
      "text/html": [
       "<div>\n",
       "<style scoped>\n",
       "    .dataframe tbody tr th:only-of-type {\n",
       "        vertical-align: middle;\n",
       "    }\n",
       "\n",
       "    .dataframe tbody tr th {\n",
       "        vertical-align: top;\n",
       "    }\n",
       "\n",
       "    .dataframe thead th {\n",
       "        text-align: right;\n",
       "    }\n",
       "</style>\n",
       "<table border=\"1\" class=\"dataframe\">\n",
       "  <thead>\n",
       "    <tr style=\"text-align: right;\">\n",
       "      <th></th>\n",
       "      <th>14</th>\n",
       "      <th>15</th>\n",
       "      <th>16</th>\n",
       "      <th>17</th>\n",
       "      <th>18</th>\n",
       "      <th>19</th>\n",
       "      <th>20</th>\n",
       "      <th>21</th>\n",
       "      <th>22</th>\n",
       "      <th>23</th>\n",
       "      <th>...</th>\n",
       "      <th>91</th>\n",
       "      <th>92</th>\n",
       "      <th>93</th>\n",
       "      <th>94</th>\n",
       "      <th>95</th>\n",
       "      <th>96</th>\n",
       "      <th>97</th>\n",
       "      <th>98</th>\n",
       "      <th>99</th>\n",
       "      <th>100</th>\n",
       "    </tr>\n",
       "  </thead>\n",
       "  <tbody>\n",
       "    <tr>\n",
       "      <th>15</th>\n",
       "      <td>2.908934e-04</td>\n",
       "      <td>8.037092e-04</td>\n",
       "      <td>1.158475e-03</td>\n",
       "      <td>1.372465e-03</td>\n",
       "      <td>1.475818e-03</td>\n",
       "      <td>1.496631e-03</td>\n",
       "      <td>1.458568e-03</td>\n",
       "      <td>1.380682e-03</td>\n",
       "      <td>1.277851e-03</td>\n",
       "      <td>1.161396e-03</td>\n",
       "      <td>...</td>\n",
       "      <td>6.241319e-18</td>\n",
       "      <td>0.000000</td>\n",
       "      <td>0.000000</td>\n",
       "      <td>0.000000</td>\n",
       "      <td>0.000000</td>\n",
       "      <td>0.000000</td>\n",
       "      <td>0.000000</td>\n",
       "      <td>0.000000</td>\n",
       "      <td>0.000000</td>\n",
       "      <td>0.000000</td>\n",
       "    </tr>\n",
       "    <tr>\n",
       "      <th>16</th>\n",
       "      <td>1.812391e-04</td>\n",
       "      <td>7.249481e-04</td>\n",
       "      <td>1.277204e-03</td>\n",
       "      <td>1.720885e-03</td>\n",
       "      <td>2.028610e-03</td>\n",
       "      <td>2.205660e-03</td>\n",
       "      <td>2.270533e-03</td>\n",
       "      <td>2.245999e-03</td>\n",
       "      <td>2.154696e-03</td>\n",
       "      <td>2.017009e-03</td>\n",
       "      <td>...</td>\n",
       "      <td>0.000000e+00</td>\n",
       "      <td>0.000000</td>\n",
       "      <td>0.000000</td>\n",
       "      <td>0.000000</td>\n",
       "      <td>0.000000</td>\n",
       "      <td>0.000000</td>\n",
       "      <td>0.000000</td>\n",
       "      <td>0.000000</td>\n",
       "      <td>0.000000</td>\n",
       "      <td>0.000000</td>\n",
       "    </tr>\n",
       "    <tr>\n",
       "      <th>17</th>\n",
       "      <td>9.543897e-05</td>\n",
       "      <td>5.554738e-04</td>\n",
       "      <td>1.213701e-03</td>\n",
       "      <td>1.882124e-03</td>\n",
       "      <td>2.455776e-03</td>\n",
       "      <td>2.885925e-03</td>\n",
       "      <td>3.159868e-03</td>\n",
       "      <td>3.286476e-03</td>\n",
       "      <td>3.286197e-03</td>\n",
       "      <td>3.184381e-03</td>\n",
       "      <td>...</td>\n",
       "      <td>0.000000e+00</td>\n",
       "      <td>0.000000</td>\n",
       "      <td>0.000000</td>\n",
       "      <td>0.000000</td>\n",
       "      <td>0.000000</td>\n",
       "      <td>0.000000</td>\n",
       "      <td>0.000000</td>\n",
       "      <td>0.000000</td>\n",
       "      <td>0.000000</td>\n",
       "      <td>0.000000</td>\n",
       "    </tr>\n",
       "    <tr>\n",
       "      <th>18</th>\n",
       "      <td>3.958634e-05</td>\n",
       "      <td>3.381858e-04</td>\n",
       "      <td>9.285466e-04</td>\n",
       "      <td>1.675848e-03</td>\n",
       "      <td>2.442561e-03</td>\n",
       "      <td>3.126426e-03</td>\n",
       "      <td>3.665454e-03</td>\n",
       "      <td>4.032158e-03</td>\n",
       "      <td>4.224752e-03</td>\n",
       "      <td>4.258497e-03</td>\n",
       "      <td>...</td>\n",
       "      <td>0.000000e+00</td>\n",
       "      <td>0.000000</td>\n",
       "      <td>0.000000</td>\n",
       "      <td>0.000000</td>\n",
       "      <td>0.000000</td>\n",
       "      <td>0.000000</td>\n",
       "      <td>0.000000</td>\n",
       "      <td>0.000000</td>\n",
       "      <td>0.000000</td>\n",
       "      <td>0.000000</td>\n",
       "    </tr>\n",
       "    <tr>\n",
       "      <th>19</th>\n",
       "      <td>1.340496e-05</td>\n",
       "      <td>1.700509e-04</td>\n",
       "      <td>5.937147e-04</td>\n",
       "      <td>1.260191e-03</td>\n",
       "      <td>2.069617e-03</td>\n",
       "      <td>2.906701e-03</td>\n",
       "      <td>3.672474e-03</td>\n",
       "      <td>4.297209e-03</td>\n",
       "      <td>4.742204e-03</td>\n",
       "      <td>4.995728e-03</td>\n",
       "      <td>...</td>\n",
       "      <td>0.000000e+00</td>\n",
       "      <td>0.000000</td>\n",
       "      <td>0.000000</td>\n",
       "      <td>0.000000</td>\n",
       "      <td>0.000000</td>\n",
       "      <td>0.000000</td>\n",
       "      <td>0.000000</td>\n",
       "      <td>0.000000</td>\n",
       "      <td>0.000000</td>\n",
       "      <td>0.000000</td>\n",
       "    </tr>\n",
       "    <tr>\n",
       "      <th>...</th>\n",
       "      <td>...</td>\n",
       "      <td>...</td>\n",
       "      <td>...</td>\n",
       "      <td>...</td>\n",
       "      <td>...</td>\n",
       "      <td>...</td>\n",
       "      <td>...</td>\n",
       "      <td>...</td>\n",
       "      <td>...</td>\n",
       "      <td>...</td>\n",
       "      <td>...</td>\n",
       "      <td>...</td>\n",
       "      <td>...</td>\n",
       "      <td>...</td>\n",
       "      <td>...</td>\n",
       "      <td>...</td>\n",
       "      <td>...</td>\n",
       "      <td>...</td>\n",
       "      <td>...</td>\n",
       "      <td>...</td>\n",
       "      <td>...</td>\n",
       "    </tr>\n",
       "    <tr>\n",
       "      <th>96</th>\n",
       "      <td>1.177993e-17</td>\n",
       "      <td>2.655857e-15</td>\n",
       "      <td>6.117865e-14</td>\n",
       "      <td>5.451042e-13</td>\n",
       "      <td>2.899440e-12</td>\n",
       "      <td>1.118685e-11</td>\n",
       "      <td>3.470285e-11</td>\n",
       "      <td>9.196284e-11</td>\n",
       "      <td>2.163736e-10</td>\n",
       "      <td>4.639193e-10</td>\n",
       "      <td>...</td>\n",
       "      <td>3.550690e-03</td>\n",
       "      <td>0.004212</td>\n",
       "      <td>0.005043</td>\n",
       "      <td>0.006114</td>\n",
       "      <td>0.007540</td>\n",
       "      <td>0.009531</td>\n",
       "      <td>0.012511</td>\n",
       "      <td>0.017537</td>\n",
       "      <td>0.028344</td>\n",
       "      <td>0.163941</td>\n",
       "    </tr>\n",
       "    <tr>\n",
       "      <th>97</th>\n",
       "      <td>1.777332e-12</td>\n",
       "      <td>5.379961e-11</td>\n",
       "      <td>3.623445e-10</td>\n",
       "      <td>1.335625e-09</td>\n",
       "      <td>3.591142e-09</td>\n",
       "      <td>7.964091e-09</td>\n",
       "      <td>1.551729e-08</td>\n",
       "      <td>2.755233e-08</td>\n",
       "      <td>4.562185e-08</td>\n",
       "      <td>7.154297e-08</td>\n",
       "      <td>...</td>\n",
       "      <td>1.878266e-03</td>\n",
       "      <td>0.002183</td>\n",
       "      <td>0.002569</td>\n",
       "      <td>0.003070</td>\n",
       "      <td>0.003746</td>\n",
       "      <td>0.004712</td>\n",
       "      <td>0.006205</td>\n",
       "      <td>0.008846</td>\n",
       "      <td>0.014978</td>\n",
       "      <td>0.212893</td>\n",
       "    </tr>\n",
       "    <tr>\n",
       "      <th>98</th>\n",
       "      <td>4.864496e-07</td>\n",
       "      <td>1.396704e-06</td>\n",
       "      <td>2.286955e-06</td>\n",
       "      <td>3.176871e-06</td>\n",
       "      <td>4.073251e-06</td>\n",
       "      <td>4.979917e-06</td>\n",
       "      <td>5.899479e-06</td>\n",
       "      <td>6.833954e-06</td>\n",
       "      <td>7.785026e-06</td>\n",
       "      <td>8.754191e-06</td>\n",
       "      <td>...</td>\n",
       "      <td>4.955294e-04</td>\n",
       "      <td>0.000559</td>\n",
       "      <td>0.000640</td>\n",
       "      <td>0.000746</td>\n",
       "      <td>0.000890</td>\n",
       "      <td>0.001097</td>\n",
       "      <td>0.001424</td>\n",
       "      <td>0.002016</td>\n",
       "      <td>0.003448</td>\n",
       "      <td>0.257945</td>\n",
       "    </tr>\n",
       "    <tr>\n",
       "      <th>99</th>\n",
       "      <td>NaN</td>\n",
       "      <td>NaN</td>\n",
       "      <td>NaN</td>\n",
       "      <td>NaN</td>\n",
       "      <td>NaN</td>\n",
       "      <td>NaN</td>\n",
       "      <td>NaN</td>\n",
       "      <td>NaN</td>\n",
       "      <td>NaN</td>\n",
       "      <td>NaN</td>\n",
       "      <td>...</td>\n",
       "      <td>NaN</td>\n",
       "      <td>NaN</td>\n",
       "      <td>NaN</td>\n",
       "      <td>NaN</td>\n",
       "      <td>NaN</td>\n",
       "      <td>NaN</td>\n",
       "      <td>NaN</td>\n",
       "      <td>NaN</td>\n",
       "      <td>NaN</td>\n",
       "      <td>NaN</td>\n",
       "    </tr>\n",
       "    <tr>\n",
       "      <th>100</th>\n",
       "      <td>NaN</td>\n",
       "      <td>NaN</td>\n",
       "      <td>NaN</td>\n",
       "      <td>NaN</td>\n",
       "      <td>NaN</td>\n",
       "      <td>NaN</td>\n",
       "      <td>NaN</td>\n",
       "      <td>NaN</td>\n",
       "      <td>NaN</td>\n",
       "      <td>NaN</td>\n",
       "      <td>...</td>\n",
       "      <td>NaN</td>\n",
       "      <td>NaN</td>\n",
       "      <td>NaN</td>\n",
       "      <td>NaN</td>\n",
       "      <td>NaN</td>\n",
       "      <td>NaN</td>\n",
       "      <td>NaN</td>\n",
       "      <td>NaN</td>\n",
       "      <td>NaN</td>\n",
       "      <td>NaN</td>\n",
       "    </tr>\n",
       "  </tbody>\n",
       "</table>\n",
       "<p>86 rows × 87 columns</p>\n",
       "</div>"
      ],
      "text/plain": [
       "              14            15            16            17            18   \\\n",
       "15   2.908934e-04  8.037092e-04  1.158475e-03  1.372465e-03  1.475818e-03   \n",
       "16   1.812391e-04  7.249481e-04  1.277204e-03  1.720885e-03  2.028610e-03   \n",
       "17   9.543897e-05  5.554738e-04  1.213701e-03  1.882124e-03  2.455776e-03   \n",
       "18   3.958634e-05  3.381858e-04  9.285466e-04  1.675848e-03  2.442561e-03   \n",
       "19   1.340496e-05  1.700509e-04  5.937147e-04  1.260191e-03  2.069617e-03   \n",
       "..            ...           ...           ...           ...           ...   \n",
       "96   1.177993e-17  2.655857e-15  6.117865e-14  5.451042e-13  2.899440e-12   \n",
       "97   1.777332e-12  5.379961e-11  3.623445e-10  1.335625e-09  3.591142e-09   \n",
       "98   4.864496e-07  1.396704e-06  2.286955e-06  3.176871e-06  4.073251e-06   \n",
       "99            NaN           NaN           NaN           NaN           NaN   \n",
       "100           NaN           NaN           NaN           NaN           NaN   \n",
       "\n",
       "              19            20            21            22            23   \\\n",
       "15   1.496631e-03  1.458568e-03  1.380682e-03  1.277851e-03  1.161396e-03   \n",
       "16   2.205660e-03  2.270533e-03  2.245999e-03  2.154696e-03  2.017009e-03   \n",
       "17   2.885925e-03  3.159868e-03  3.286476e-03  3.286197e-03  3.184381e-03   \n",
       "18   3.126426e-03  3.665454e-03  4.032158e-03  4.224752e-03  4.258497e-03   \n",
       "19   2.906701e-03  3.672474e-03  4.297209e-03  4.742204e-03  4.995728e-03   \n",
       "..            ...           ...           ...           ...           ...   \n",
       "96   1.118685e-11  3.470285e-11  9.196284e-11  2.163736e-10  4.639193e-10   \n",
       "97   7.964091e-09  1.551729e-08  2.755233e-08  4.562185e-08  7.154297e-08   \n",
       "98   4.979917e-06  5.899479e-06  6.833954e-06  7.785026e-06  8.754191e-06   \n",
       "99            NaN           NaN           NaN           NaN           NaN   \n",
       "100           NaN           NaN           NaN           NaN           NaN   \n",
       "\n",
       "     ...           91        92        93        94        95        96   \\\n",
       "15   ...  6.241319e-18  0.000000  0.000000  0.000000  0.000000  0.000000   \n",
       "16   ...  0.000000e+00  0.000000  0.000000  0.000000  0.000000  0.000000   \n",
       "17   ...  0.000000e+00  0.000000  0.000000  0.000000  0.000000  0.000000   \n",
       "18   ...  0.000000e+00  0.000000  0.000000  0.000000  0.000000  0.000000   \n",
       "19   ...  0.000000e+00  0.000000  0.000000  0.000000  0.000000  0.000000   \n",
       "..   ...           ...       ...       ...       ...       ...       ...   \n",
       "96   ...  3.550690e-03  0.004212  0.005043  0.006114  0.007540  0.009531   \n",
       "97   ...  1.878266e-03  0.002183  0.002569  0.003070  0.003746  0.004712   \n",
       "98   ...  4.955294e-04  0.000559  0.000640  0.000746  0.000890  0.001097   \n",
       "99   ...           NaN       NaN       NaN       NaN       NaN       NaN   \n",
       "100  ...           NaN       NaN       NaN       NaN       NaN       NaN   \n",
       "\n",
       "          97        98        99        100  \n",
       "15   0.000000  0.000000  0.000000  0.000000  \n",
       "16   0.000000  0.000000  0.000000  0.000000  \n",
       "17   0.000000  0.000000  0.000000  0.000000  \n",
       "18   0.000000  0.000000  0.000000  0.000000  \n",
       "19   0.000000  0.000000  0.000000  0.000000  \n",
       "..        ...       ...       ...       ...  \n",
       "96   0.012511  0.017537  0.028344  0.163941  \n",
       "97   0.006205  0.008846  0.014978  0.212893  \n",
       "98   0.001424  0.002016  0.003448  0.257945  \n",
       "99        NaN       NaN       NaN       NaN  \n",
       "100       NaN       NaN       NaN       NaN  \n",
       "\n",
       "[86 rows x 87 columns]"
      ]
     },
     "execution_count": 82,
     "metadata": {},
     "output_type": "execute_result"
    }
   ],
   "source": [
    "wid_f"
   ]
  },
  {
   "cell_type": "code",
   "execution_count": 83,
   "id": "931103e6",
   "metadata": {
    "ExecuteTime": {
     "end_time": "2022-05-05T15:09:31.538406Z",
     "start_time": "2022-05-05T15:09:31.398480Z"
    }
   },
   "outputs": [
    {
     "data": {
      "text/plain": [
       "<AxesSubplot:>"
      ]
     },
     "execution_count": 83,
     "metadata": {},
     "output_type": "execute_result"
    },
    {
     "data": {
      "image/png": "[encoded data removed]",
      "text/plain": [
       "<Figure size 432x288 with 1 Axes>"
      ]
     },
     "metadata": {
      "needs_background": "light"
     },
     "output_type": "display_data"
    }
   ],
   "source": [
    "wid_f.transpose()[90].plot()"
   ]
  },
  {
   "cell_type": "code",
   "execution_count": 84,
   "id": "be59890b",
   "metadata": {
    "ExecuteTime": {
     "end_time": "2022-05-05T15:09:31.554395Z",
     "start_time": "2022-05-05T15:09:31.540402Z"
    }
   },
   "outputs": [
    {
     "data": {
      "text/plain": [
       "14     0.000626\n",
       "15     0.002717\n",
       "16     0.005839\n",
       "17     0.009937\n",
       "18     0.015032\n",
       "         ...   \n",
       "96     0.270990\n",
       "97     0.255697\n",
       "98     0.246874\n",
       "99     0.255648\n",
       "100    0.913632\n",
       "Length: 87, dtype: float64"
      ]
     },
     "execution_count": 84,
     "metadata": {},
     "output_type": "execute_result"
    }
   ],
   "source": [
    "wid_f.sum()"
   ]
  },
  {
   "cell_type": "code",
   "execution_count": 85,
   "id": "645449d5",
   "metadata": {
    "ExecuteTime": {
     "end_time": "2022-05-05T15:09:31.906218Z",
     "start_time": "2022-05-05T15:09:31.556394Z"
    }
   },
   "outputs": [
    {
     "data": {
      "text/plain": [
       "<AxesSubplot:>"
      ]
     },
     "execution_count": 85,
     "metadata": {},
     "output_type": "execute_result"
    },
    {
     "data": {
      "image/png": "[encoded data removed]",
      "text/plain": [
       "<Figure size 432x288 with 2 Axes>"
      ]
     },
     "metadata": {
      "needs_background": "light"
     },
     "output_type": "display_data"
    }
   ],
   "source": [
    "sns.heatmap(wid_f,cmap='Reds')"
   ]
  },
  {
   "cell_type": "code",
   "execution_count": 86,
   "id": "1d3755e3",
   "metadata": {
    "ExecuteTime": {
     "end_time": "2022-05-05T15:09:32.226034Z",
     "start_time": "2022-05-05T15:09:31.907205Z"
    }
   },
   "outputs": [
    {
     "data": {
      "text/plain": [
       "<AxesSubplot:>"
      ]
     },
     "execution_count": 86,
     "metadata": {},
     "output_type": "execute_result"
    },
    {
     "data": {
      "image/png": "[encoded data removed]",
      "text/plain": [
       "<Figure size 432x288 with 2 Axes>"
      ]
     },
     "metadata": {
      "needs_background": "light"
     },
     "output_type": "display_data"
    }
   ],
   "source": [
    "sns.heatmap(wid_m,cmap='Blues')"
   ]
  },
  {
   "cell_type": "code",
   "execution_count": 89,
   "id": "c111c6a1",
   "metadata": {
    "ExecuteTime": {
     "end_time": "2022-05-05T17:40:11.717692Z",
     "start_time": "2022-05-05T17:40:11.627434Z"
    }
   },
   "outputs": [],
   "source": [
    "wid_m.reindex(range(0,106)).reindex(columns=range(0,106)).fillna(0).to_csv('Y:/IESS_2020/Data/SSC/Input/Escenario_Base/Demographic/Family Structure/ssc_fwid_male_input.csv', sep=\"\\t\",\n",
    "             decimal= \".\")\n",
    "#wid_m.to_excel('Y:/IESS_2020/Data/SSC/Input/Escenario_Base/Demographic/Transition Probabilities/ssc_fwid_male.xlsx')\n",
    "wid_f.reindex(range(0,106)).reindex(columns=range(0,106)).fillna(0).to_csv('Y:/IESS_2020/Data/SSC/Input/Escenario_Base/Demographic/Family Structure/ssc_fwid_female_input.csv',sep=\"\\t\",\n",
    "             decimal= \".\")\n",
    "#wid_f.to_excel('Y:/IESS_2020/Data/SSC/Input/Escenario_Base/Demographic/Transition Probabilities/ssc_fwid_female.xlsx')"
   ]
  }
 ],
 "metadata": {
  "kernelspec": {
   "display_name": "Python 3 (ipykernel)",
   "language": "python",
   "name": "python3"
  },
  "language_info": {
   "codemirror_mode": {
    "name": "ipython",
    "version": 3
   },
   "file_extension": ".py",
   "mimetype": "text/x-python",
   "name": "python",
   "nbconvert_exporter": "python",
   "pygments_lexer": "ipython3",
   "version": "3.9.7"
  },
  "toc": {
   "base_numbering": 1,
   "nav_menu": {},
   "number_sections": true,
   "sideBar": true,
   "skip_h1_title": false,
   "title_cell": "Table of Contents",
   "title_sidebar": "Contents",
   "toc_cell": false,
   "toc_position": {},
   "toc_section_display": true,
   "toc_window_display": false
  }
 },
 "nbformat": 4,
 "nbformat_minor": 5
}
